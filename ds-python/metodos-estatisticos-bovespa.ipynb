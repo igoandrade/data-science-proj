{
 "cells": [
  {
   "cell_type": "markdown",
   "metadata": {},
   "source": [
    "# Métodos estatísticos para análise de ações"
   ]
  },
  {
   "cell_type": "markdown",
   "metadata": {},
   "source": [
    "## Bibliotecas importadas"
   ]
  },
  {
   "cell_type": "code",
   "execution_count": 1,
   "metadata": {},
   "outputs": [],
   "source": [
    "import numpy as np\n",
    "import pandas as pd\n",
    "from pandas.plotting import scatter_matrix\n",
    "import pandas_datareader as pdr \n",
    "import pandas_datareader.data as web\n",
    "import datetime \n",
    "import matplotlib.pyplot as plt \n",
    "import seaborn as sns\n",
    "\n",
    "plt.style.use('seaborn')"
   ]
  },
  {
   "cell_type": "markdown",
   "metadata": {},
   "source": [
    "Definição do intervalo de tempo para análise de dados:"
   ]
  },
  {
   "cell_type": "code",
   "execution_count": 2,
   "metadata": {},
   "outputs": [],
   "source": [
    "start = datetime.datetime(2018, 1, 1)\n",
    "end = datetime.datetime(2022, 1, 1)"
   ]
  },
  {
   "cell_type": "markdown",
   "metadata": {},
   "source": [
    "A amostra de dados será composta pelos preços de ações da 3R PETROLEUM desde 01 de janeiro de 2018 até 01 de janeiro de 2022. Os dados serão obtidos da API yahoo finance."
   ]
  },
  {
   "cell_type": "code",
   "execution_count": 5,
   "metadata": {},
   "outputs": [],
   "source": [
    "RRRP3 = web.DataReader('RRRP3.SA', 'yahoo', start, end)"
   ]
  },
  {
   "cell_type": "code",
   "execution_count": 6,
   "metadata": {},
   "outputs": [
    {
     "data": {
      "text/html": [
       "<div>\n",
       "<style scoped>\n",
       "    .dataframe tbody tr th:only-of-type {\n",
       "        vertical-align: middle;\n",
       "    }\n",
       "\n",
       "    .dataframe tbody tr th {\n",
       "        vertical-align: top;\n",
       "    }\n",
       "\n",
       "    .dataframe thead th {\n",
       "        text-align: right;\n",
       "    }\n",
       "</style>\n",
       "<table border=\"1\" class=\"dataframe\">\n",
       "  <thead>\n",
       "    <tr style=\"text-align: right;\">\n",
       "      <th></th>\n",
       "      <th>High</th>\n",
       "      <th>Low</th>\n",
       "      <th>Open</th>\n",
       "      <th>Close</th>\n",
       "      <th>Volume</th>\n",
       "      <th>Adj Close</th>\n",
       "    </tr>\n",
       "    <tr>\n",
       "      <th>Date</th>\n",
       "      <th></th>\n",
       "      <th></th>\n",
       "      <th></th>\n",
       "      <th></th>\n",
       "      <th></th>\n",
       "      <th></th>\n",
       "    </tr>\n",
       "  </thead>\n",
       "  <tbody>\n",
       "    <tr>\n",
       "      <th>2021-12-23</th>\n",
       "      <td>31.790001</td>\n",
       "      <td>31.059999</td>\n",
       "      <td>31.549999</td>\n",
       "      <td>31.270000</td>\n",
       "      <td>760400</td>\n",
       "      <td>31.270000</td>\n",
       "    </tr>\n",
       "    <tr>\n",
       "      <th>2021-12-27</th>\n",
       "      <td>32.070000</td>\n",
       "      <td>31.000000</td>\n",
       "      <td>31.000000</td>\n",
       "      <td>31.770000</td>\n",
       "      <td>1254100</td>\n",
       "      <td>31.770000</td>\n",
       "    </tr>\n",
       "    <tr>\n",
       "      <th>2021-12-28</th>\n",
       "      <td>32.919998</td>\n",
       "      <td>31.790001</td>\n",
       "      <td>31.990000</td>\n",
       "      <td>32.070000</td>\n",
       "      <td>1921500</td>\n",
       "      <td>32.070000</td>\n",
       "    </tr>\n",
       "    <tr>\n",
       "      <th>2021-12-29</th>\n",
       "      <td>33.639999</td>\n",
       "      <td>31.820000</td>\n",
       "      <td>32.259998</td>\n",
       "      <td>33.480000</td>\n",
       "      <td>2851300</td>\n",
       "      <td>33.480000</td>\n",
       "    </tr>\n",
       "    <tr>\n",
       "      <th>2021-12-30</th>\n",
       "      <td>34.299999</td>\n",
       "      <td>33.110001</td>\n",
       "      <td>33.320000</td>\n",
       "      <td>33.549999</td>\n",
       "      <td>7855700</td>\n",
       "      <td>33.549999</td>\n",
       "    </tr>\n",
       "  </tbody>\n",
       "</table>\n",
       "</div>"
      ],
      "text/plain": [
       "                 High        Low       Open      Close   Volume  Adj Close\n",
       "Date                                                                      \n",
       "2021-12-23  31.790001  31.059999  31.549999  31.270000   760400  31.270000\n",
       "2021-12-27  32.070000  31.000000  31.000000  31.770000  1254100  31.770000\n",
       "2021-12-28  32.919998  31.790001  31.990000  32.070000  1921500  32.070000\n",
       "2021-12-29  33.639999  31.820000  32.259998  33.480000  2851300  33.480000\n",
       "2021-12-30  34.299999  33.110001  33.320000  33.549999  7855700  33.549999"
      ]
     },
     "execution_count": 6,
     "metadata": {},
     "output_type": "execute_result"
    }
   ],
   "source": [
    "RRRP3.tail()"
   ]
  },
  {
   "cell_type": "code",
   "execution_count": 7,
   "metadata": {},
   "outputs": [
    {
     "data": {
      "text/html": [
       "<div>\n",
       "<style scoped>\n",
       "    .dataframe tbody tr th:only-of-type {\n",
       "        vertical-align: middle;\n",
       "    }\n",
       "\n",
       "    .dataframe tbody tr th {\n",
       "        vertical-align: top;\n",
       "    }\n",
       "\n",
       "    .dataframe thead th {\n",
       "        text-align: right;\n",
       "    }\n",
       "</style>\n",
       "<table border=\"1\" class=\"dataframe\">\n",
       "  <thead>\n",
       "    <tr style=\"text-align: right;\">\n",
       "      <th></th>\n",
       "      <th>High</th>\n",
       "      <th>Low</th>\n",
       "      <th>Open</th>\n",
       "      <th>Close</th>\n",
       "      <th>Volume</th>\n",
       "      <th>Adj Close</th>\n",
       "    </tr>\n",
       "    <tr>\n",
       "      <th>Date</th>\n",
       "      <th></th>\n",
       "      <th></th>\n",
       "      <th></th>\n",
       "      <th></th>\n",
       "      <th></th>\n",
       "      <th></th>\n",
       "    </tr>\n",
       "  </thead>\n",
       "  <tbody>\n",
       "    <tr>\n",
       "      <th>2020-11-13</th>\n",
       "      <td>21.350000</td>\n",
       "      <td>20.799999</td>\n",
       "      <td>21.000000</td>\n",
       "      <td>20.799999</td>\n",
       "      <td>470000</td>\n",
       "      <td>20.799999</td>\n",
       "    </tr>\n",
       "    <tr>\n",
       "      <th>2020-11-16</th>\n",
       "      <td>21.250000</td>\n",
       "      <td>20.969999</td>\n",
       "      <td>21.150000</td>\n",
       "      <td>21.000000</td>\n",
       "      <td>175800</td>\n",
       "      <td>21.000000</td>\n",
       "    </tr>\n",
       "    <tr>\n",
       "      <th>2020-11-17</th>\n",
       "      <td>20.990000</td>\n",
       "      <td>20.650000</td>\n",
       "      <td>20.940001</td>\n",
       "      <td>20.990000</td>\n",
       "      <td>256600</td>\n",
       "      <td>20.990000</td>\n",
       "    </tr>\n",
       "    <tr>\n",
       "      <th>2020-11-18</th>\n",
       "      <td>21.070000</td>\n",
       "      <td>20.900000</td>\n",
       "      <td>20.990000</td>\n",
       "      <td>20.900000</td>\n",
       "      <td>96600</td>\n",
       "      <td>20.900000</td>\n",
       "    </tr>\n",
       "    <tr>\n",
       "      <th>2020-11-19</th>\n",
       "      <td>21.040001</td>\n",
       "      <td>20.820000</td>\n",
       "      <td>21.000000</td>\n",
       "      <td>20.900000</td>\n",
       "      <td>84300</td>\n",
       "      <td>20.900000</td>\n",
       "    </tr>\n",
       "  </tbody>\n",
       "</table>\n",
       "</div>"
      ],
      "text/plain": [
       "                 High        Low       Open      Close  Volume  Adj Close\n",
       "Date                                                                     \n",
       "2020-11-13  21.350000  20.799999  21.000000  20.799999  470000  20.799999\n",
       "2020-11-16  21.250000  20.969999  21.150000  21.000000  175800  21.000000\n",
       "2020-11-17  20.990000  20.650000  20.940001  20.990000  256600  20.990000\n",
       "2020-11-18  21.070000  20.900000  20.990000  20.900000   96600  20.900000\n",
       "2020-11-19  21.040001  20.820000  21.000000  20.900000   84300  20.900000"
      ]
     },
     "execution_count": 7,
     "metadata": {},
     "output_type": "execute_result"
    }
   ],
   "source": [
    "RRRP3.head()"
   ]
  },
  {
   "cell_type": "markdown",
   "metadata": {},
   "source": [
    "Estatísticas básicas:"
   ]
  },
  {
   "cell_type": "code",
   "execution_count": 8,
   "metadata": {},
   "outputs": [
    {
     "name": "stdout",
     "output_type": "stream",
     "text": [
      "Média: 37.0565\n",
      "Mediana: 37.5750\n",
      "Moda: 36.0000\n"
     ]
    }
   ],
   "source": [
    "print(f\"Média: {RRRP3['Close'].mean():.4f}\")\n",
    "print(f\"Mediana: {RRRP3['Close'].median():.4f}\")\n",
    "print(f\"Moda: {RRRP3['Close'].mode().loc[0]:.4f}\")"
   ]
  },
  {
   "cell_type": "markdown",
   "metadata": {},
   "source": [
    "Criação do histrograma da distribuição retornos simples"
   ]
  },
  {
   "cell_type": "code",
   "execution_count": 9,
   "metadata": {},
   "outputs": [
    {
     "data": {
      "text/plain": [
       "Date\n",
       "2020-11-13         NaN\n",
       "2020-11-16    0.009615\n",
       "2020-11-17   -0.000476\n",
       "2020-11-18   -0.004288\n",
       "2020-11-19    0.000000\n",
       "Name: Close, dtype: float64"
      ]
     },
     "execution_count": 9,
     "metadata": {},
     "output_type": "execute_result"
    }
   ],
   "source": [
    "RRRP3_returns = RRRP3['Close'].pct_change()\n",
    "RRRP3_returns.head()"
   ]
  },
  {
   "cell_type": "code",
   "execution_count": 10,
   "metadata": {},
   "outputs": [
    {
     "data": {
      "image/png": "[encoded data removed]",
      "text/plain": [
       "<Figure size 720x360 with 1 Axes>"
      ]
     },
     "metadata": {},
     "output_type": "display_data"
    }
   ],
   "source": [
    "N = RRRP3_returns.shape[0]\n",
    "k = int(np.round(1 + 3.3222 * np.log10(N)))\n",
    "\n",
    "ax = RRRP3_returns.hist(bins=40, edgecolor='white', figsize=(10,5))\n",
    "ax.set_xlabel('Stock Return')\n",
    "ax.set_ylabel('Frequency')\n",
    "ax.set_title('RRRP3 Returns Frequency')\n",
    "plt.show()\n"
   ]
  },
  {
   "cell_type": "markdown",
   "metadata": {},
   "source": [
    "Histograma dos retornos logarítmicos"
   ]
  },
  {
   "cell_type": "code",
   "execution_count": 11,
   "metadata": {},
   "outputs": [],
   "source": [
    "RRRP3_log_returns = np.log(RRRP3['Close'] / RRRP3['Close'].shift(1))"
   ]
  },
  {
   "cell_type": "code",
   "execution_count": 12,
   "metadata": {},
   "outputs": [
    {
     "data": {
      "image/png": "[encoded data removed]",
      "text/plain": [
       "<Figure size 720x360 with 1 Axes>"
      ]
     },
     "metadata": {},
     "output_type": "display_data"
    }
   ],
   "source": [
    "median = RRRP3_log_returns.median()\n",
    "mean = RRRP3_log_returns.mean()\n",
    "\n",
    "ax = RRRP3_log_returns.hist(bins=40, edgecolor='white', figsize=(10,5))\n",
    "ax.axvline(mean, color='black',  linestyle='dashed', label=f'Média     = {mean:>10.6f}')\n",
    "ax.axvline(median, color='tomato', label=f'Mediana = {median:>10.6f}')\n",
    "\n",
    "ax.set_xlabel('Stock Log Return')\n",
    "ax.set_ylabel('Frequency')\n",
    "ax.set_title('RRRP3 Log Returns Frequency')\n",
    "plt.legend()\n",
    "plt.show()\n"
   ]
  },
  {
   "cell_type": "markdown",
   "metadata": {},
   "source": [
    "Note-se que a média e a media dos retornos logarítmicos são levemente diferentes. De fato, a distribuição desses dados apresenta uma assimetria negativa igual a: "
   ]
  },
  {
   "cell_type": "code",
   "execution_count": 13,
   "metadata": {},
   "outputs": [
    {
     "data": {
      "text/plain": [
       "0.3044967235834157"
      ]
     },
     "execution_count": 13,
     "metadata": {},
     "output_type": "execute_result"
    }
   ],
   "source": [
    "RRRP3_log_returns.skew()"
   ]
  },
  {
   "cell_type": "markdown",
   "metadata": {},
   "source": [
    "Além da assimetria, calculada acima, outra importante medida descritiva dos dados é a curtose. Para os retornos logarítmicos, a curtose é igual a:"
   ]
  },
  {
   "cell_type": "code",
   "execution_count": 14,
   "metadata": {},
   "outputs": [
    {
     "data": {
      "text/plain": [
       "0.4533363523839098"
      ]
     },
     "execution_count": 14,
     "metadata": {},
     "output_type": "execute_result"
    }
   ],
   "source": [
    "RRRP3_log_returns.kurtosis()"
   ]
  },
  {
   "cell_type": "markdown",
   "metadata": {},
   "source": [
    "Intervalo Interquartil e _boxplots_"
   ]
  },
  {
   "cell_type": "markdown",
   "metadata": {},
   "source": [
    "O intergalo interquartil ($IQR$) é uma forma simples de verificar a dispersão dos dados. Essa medida de espalhamento é dada pela fórmula\n",
    "$$IQR = Q_3 - Q_1$$\n",
    "onde $Q_1$ e $Q_3$ são respectivamente o primeiro e o terceiro quartis."
   ]
  },
  {
   "cell_type": "markdown",
   "metadata": {},
   "source": [
    "O intervalo interquartil é comumente utilizado para detecção de _outliers_ de uma distribuição de dados. No caso da distribuição de preços de fechamento, temos:"
   ]
  },
  {
   "cell_type": "code",
   "execution_count": 15,
   "metadata": {},
   "outputs": [],
   "source": [
    "q1 = RRRP3['Close'].quantile(0.25)\n",
    "q3 = RRRP3['Close'].quantile(0.75)\n",
    "iqr = q3 - q1\n",
    "outliers_low = q1 - 1.5 * iqr\n",
    "outliers_high = q3 + 1.5 * iqr"
   ]
  },
  {
   "cell_type": "code",
   "execution_count": 16,
   "metadata": {},
   "outputs": [
    {
     "name": "stdout",
     "output_type": "stream",
     "text": [
      "22.79749870300293 52.23750114440918\n"
     ]
    }
   ],
   "source": [
    "print(outliers_low, outliers_high)"
   ]
  },
  {
   "cell_type": "code",
   "execution_count": 17,
   "metadata": {},
   "outputs": [
    {
     "data": {
      "image/png": "[encoded data removed]",
      "text/plain": [
       "<Figure size 576x396 with 1 Axes>"
      ]
     },
     "metadata": {},
     "output_type": "display_data"
    }
   ],
   "source": [
    "ax = plt.boxplot(RRRP3['Close'])\n",
    "plt.title('RRRP3 Close - Boxplot')\n",
    "plt.xlabel('RRRP3')\n",
    "plt.ylabel('RRRP3 Closing Price')\n",
    "\n",
    "plt.show()"
   ]
  },
  {
   "cell_type": "markdown",
   "metadata": {},
   "source": [
    "## Gráficos de Densidade por Kernel e Volatilidade"
   ]
  },
  {
   "cell_type": "markdown",
   "metadata": {},
   "source": [
    "### Variância\n",
    "\n",
    "Além do Intervalo Interquaril, a dispersão de daddos pode ser medida pela variância ($\\sigma^2$) e pelo Desvio Padrão ($\\sigma$). A fórmula da variância é mostrada abaixo:\n",
    "\n",
    "$$\\sigma^2 = \\sum \\dfrac{(x - \\bar{x})}{n}$$\n",
    "em que:\n",
    "\n",
    "- $x$: dado pontual\n",
    "- $\\bar{x}$: média dos dados\n",
    "- $n$: quantidade de dados"
   ]
  },
  {
   "cell_type": "markdown",
   "metadata": {},
   "source": [
    "O desvio padrão é simplesmente a raiz quadrada da variância, ou seja:\n",
    "\n",
    "$$\\sigma = \\sqrt{\\sigma^2} = \\sqrt{\\sum \\dfrac{(x - \\bar{x})}{n}}$$"
   ]
  },
  {
   "cell_type": "markdown",
   "metadata": {},
   "source": [
    "Para a distribuição de retornos logarítmicos, o desvio padrão e a variância são iguais a:"
   ]
  },
  {
   "cell_type": "code",
   "execution_count": 18,
   "metadata": {},
   "outputs": [
    {
     "name": "stdout",
     "output_type": "stream",
     "text": [
      "\n",
      "Desvio padão: 0.032\n",
      "Variância: 0.001027\n",
      "\n"
     ]
    }
   ],
   "source": [
    "var = RRRP3_log_returns.var()\n",
    "std = RRRP3_log_returns.std()\n",
    "\n",
    "print(f\"\"\"\n",
    "Desvio padão: {std:.3f}\n",
    "Variância: {var:.6f}\n",
    "\"\"\")"
   ]
  },
  {
   "cell_type": "markdown",
   "metadata": {},
   "source": [
    "Essas medidas dão uma indicação do risco do ativo analisado. Em finanças, o desvio padrão é frequentemente referido como **volatilidade**."
   ]
  },
  {
   "cell_type": "code",
   "execution_count": 19,
   "metadata": {},
   "outputs": [
    {
     "data": {
      "image/png": "[encoded data removed]",
      "text/plain": [
       "<Figure size 720x360 with 1 Axes>"
      ]
     },
     "metadata": {},
     "output_type": "display_data"
    }
   ],
   "source": [
    "RRRP3_log_returns.plot(kind='kde', bw_method='scott', label='RRRP3', figsize=(10,5))\n",
    "plt.xlabel('Log Stock Return')\n",
    "plt.ylabel('Density')\n",
    "plt.title('RRRP3 Log Returns KDE')\n",
    "plt.show()\n"
   ]
  },
  {
   "cell_type": "markdown",
   "metadata": {},
   "source": [
    "## Covariância e Correlação"
   ]
  },
  {
   "cell_type": "markdown",
   "metadata": {},
   "source": [
    "Quando tentamos compreender a relação entre diferentes ativos, duas abordagens quantitativas que podem ser úteis são a covariância e a correlação.\n",
    "\n",
    "Dados dois ativos $a$ e $b$ com retornos respectivamente iguais a $R_a$ e $R_b$, a covariância é dada por:\n",
    "\n",
    "$$Cov(R_a, R_b) = E\\left\\{ [R_a - E(R_a)][R_b - E(R_b)]  \\right\\}$$"
   ]
  },
  {
   "cell_type": "code",
   "execution_count": 20,
   "metadata": {},
   "outputs": [],
   "source": [
    "start = datetime.datetime(2018, 1, 1)\n",
    "end = datetime.datetime(2022, 1, 1)"
   ]
  },
  {
   "cell_type": "code",
   "execution_count": 21,
   "metadata": {},
   "outputs": [],
   "source": [
    "RRRP3 = web.DataReader('RRRP3.SA', 'yahoo', start, end)\n",
    "BVSP = web.DataReader('^BVSP', 'yahoo', start, end)"
   ]
  },
  {
   "cell_type": "code",
   "execution_count": 22,
   "metadata": {},
   "outputs": [],
   "source": [
    "RRRP3['Returns'] = RRRP3['Close'].pct_change()\n",
    "BVSP['Returns'] = BVSP['Close'].pct_change()"
   ]
  },
  {
   "cell_type": "code",
   "execution_count": 23,
   "metadata": {},
   "outputs": [],
   "source": [
    "RRRP3['Returns'] = RRRP3['Returns'].dropna()\n",
    "BVSP['Returns'] = BVSP['Returns'].dropna()"
   ]
  },
  {
   "cell_type": "code",
   "execution_count": 24,
   "metadata": {},
   "outputs": [
    {
     "data": {
      "text/html": [
       "<div>\n",
       "<style scoped>\n",
       "    .dataframe tbody tr th:only-of-type {\n",
       "        vertical-align: middle;\n",
       "    }\n",
       "\n",
       "    .dataframe tbody tr th {\n",
       "        vertical-align: top;\n",
       "    }\n",
       "\n",
       "    .dataframe thead th {\n",
       "        text-align: right;\n",
       "    }\n",
       "</style>\n",
       "<table border=\"1\" class=\"dataframe\">\n",
       "  <thead>\n",
       "    <tr style=\"text-align: right;\">\n",
       "      <th></th>\n",
       "      <th>High</th>\n",
       "      <th>Low</th>\n",
       "      <th>Open</th>\n",
       "      <th>Close</th>\n",
       "      <th>Volume</th>\n",
       "      <th>Adj Close</th>\n",
       "      <th>Returns</th>\n",
       "    </tr>\n",
       "    <tr>\n",
       "      <th>Date</th>\n",
       "      <th></th>\n",
       "      <th></th>\n",
       "      <th></th>\n",
       "      <th></th>\n",
       "      <th></th>\n",
       "      <th></th>\n",
       "      <th></th>\n",
       "    </tr>\n",
       "  </thead>\n",
       "  <tbody>\n",
       "    <tr>\n",
       "      <th>2020-11-13</th>\n",
       "      <td>21.350000</td>\n",
       "      <td>20.799999</td>\n",
       "      <td>21.000000</td>\n",
       "      <td>20.799999</td>\n",
       "      <td>470000</td>\n",
       "      <td>20.799999</td>\n",
       "      <td>NaN</td>\n",
       "    </tr>\n",
       "    <tr>\n",
       "      <th>2020-11-16</th>\n",
       "      <td>21.250000</td>\n",
       "      <td>20.969999</td>\n",
       "      <td>21.150000</td>\n",
       "      <td>21.000000</td>\n",
       "      <td>175800</td>\n",
       "      <td>21.000000</td>\n",
       "      <td>0.009615</td>\n",
       "    </tr>\n",
       "    <tr>\n",
       "      <th>2020-11-17</th>\n",
       "      <td>20.990000</td>\n",
       "      <td>20.650000</td>\n",
       "      <td>20.940001</td>\n",
       "      <td>20.990000</td>\n",
       "      <td>256600</td>\n",
       "      <td>20.990000</td>\n",
       "      <td>-0.000476</td>\n",
       "    </tr>\n",
       "    <tr>\n",
       "      <th>2020-11-18</th>\n",
       "      <td>21.070000</td>\n",
       "      <td>20.900000</td>\n",
       "      <td>20.990000</td>\n",
       "      <td>20.900000</td>\n",
       "      <td>96600</td>\n",
       "      <td>20.900000</td>\n",
       "      <td>-0.004288</td>\n",
       "    </tr>\n",
       "    <tr>\n",
       "      <th>2020-11-19</th>\n",
       "      <td>21.040001</td>\n",
       "      <td>20.820000</td>\n",
       "      <td>21.000000</td>\n",
       "      <td>20.900000</td>\n",
       "      <td>84300</td>\n",
       "      <td>20.900000</td>\n",
       "      <td>0.000000</td>\n",
       "    </tr>\n",
       "    <tr>\n",
       "      <th>...</th>\n",
       "      <td>...</td>\n",
       "      <td>...</td>\n",
       "      <td>...</td>\n",
       "      <td>...</td>\n",
       "      <td>...</td>\n",
       "      <td>...</td>\n",
       "      <td>...</td>\n",
       "    </tr>\n",
       "    <tr>\n",
       "      <th>2021-12-23</th>\n",
       "      <td>31.790001</td>\n",
       "      <td>31.059999</td>\n",
       "      <td>31.549999</td>\n",
       "      <td>31.270000</td>\n",
       "      <td>760400</td>\n",
       "      <td>31.270000</td>\n",
       "      <td>-0.006671</td>\n",
       "    </tr>\n",
       "    <tr>\n",
       "      <th>2021-12-27</th>\n",
       "      <td>32.070000</td>\n",
       "      <td>31.000000</td>\n",
       "      <td>31.000000</td>\n",
       "      <td>31.770000</td>\n",
       "      <td>1254100</td>\n",
       "      <td>31.770000</td>\n",
       "      <td>0.015990</td>\n",
       "    </tr>\n",
       "    <tr>\n",
       "      <th>2021-12-28</th>\n",
       "      <td>32.919998</td>\n",
       "      <td>31.790001</td>\n",
       "      <td>31.990000</td>\n",
       "      <td>32.070000</td>\n",
       "      <td>1921500</td>\n",
       "      <td>32.070000</td>\n",
       "      <td>0.009443</td>\n",
       "    </tr>\n",
       "    <tr>\n",
       "      <th>2021-12-29</th>\n",
       "      <td>33.639999</td>\n",
       "      <td>31.820000</td>\n",
       "      <td>32.259998</td>\n",
       "      <td>33.480000</td>\n",
       "      <td>2851300</td>\n",
       "      <td>33.480000</td>\n",
       "      <td>0.043966</td>\n",
       "    </tr>\n",
       "    <tr>\n",
       "      <th>2021-12-30</th>\n",
       "      <td>34.299999</td>\n",
       "      <td>33.110001</td>\n",
       "      <td>33.320000</td>\n",
       "      <td>33.549999</td>\n",
       "      <td>7855700</td>\n",
       "      <td>33.549999</td>\n",
       "      <td>0.002091</td>\n",
       "    </tr>\n",
       "  </tbody>\n",
       "</table>\n",
       "<p>278 rows × 7 columns</p>\n",
       "</div>"
      ],
      "text/plain": [
       "                 High        Low       Open      Close   Volume  Adj Close  \\\n",
       "Date                                                                         \n",
       "2020-11-13  21.350000  20.799999  21.000000  20.799999   470000  20.799999   \n",
       "2020-11-16  21.250000  20.969999  21.150000  21.000000   175800  21.000000   \n",
       "2020-11-17  20.990000  20.650000  20.940001  20.990000   256600  20.990000   \n",
       "2020-11-18  21.070000  20.900000  20.990000  20.900000    96600  20.900000   \n",
       "2020-11-19  21.040001  20.820000  21.000000  20.900000    84300  20.900000   \n",
       "...               ...        ...        ...        ...      ...        ...   \n",
       "2021-12-23  31.790001  31.059999  31.549999  31.270000   760400  31.270000   \n",
       "2021-12-27  32.070000  31.000000  31.000000  31.770000  1254100  31.770000   \n",
       "2021-12-28  32.919998  31.790001  31.990000  32.070000  1921500  32.070000   \n",
       "2021-12-29  33.639999  31.820000  32.259998  33.480000  2851300  33.480000   \n",
       "2021-12-30  34.299999  33.110001  33.320000  33.549999  7855700  33.549999   \n",
       "\n",
       "             Returns  \n",
       "Date                  \n",
       "2020-11-13       NaN  \n",
       "2020-11-16  0.009615  \n",
       "2020-11-17 -0.000476  \n",
       "2020-11-18 -0.004288  \n",
       "2020-11-19  0.000000  \n",
       "...              ...  \n",
       "2021-12-23 -0.006671  \n",
       "2021-12-27  0.015990  \n",
       "2021-12-28  0.009443  \n",
       "2021-12-29  0.043966  \n",
       "2021-12-30  0.002091  \n",
       "\n",
       "[278 rows x 7 columns]"
      ]
     },
     "execution_count": 24,
     "metadata": {},
     "output_type": "execute_result"
    }
   ],
   "source": [
    "RRRP3"
   ]
  },
  {
   "cell_type": "code",
   "execution_count": 26,
   "metadata": {},
   "outputs": [
    {
     "data": {
      "text/html": [
       "<div>\n",
       "<style scoped>\n",
       "    .dataframe tbody tr th:only-of-type {\n",
       "        vertical-align: middle;\n",
       "    }\n",
       "\n",
       "    .dataframe tbody tr th {\n",
       "        vertical-align: top;\n",
       "    }\n",
       "\n",
       "    .dataframe thead th {\n",
       "        text-align: right;\n",
       "    }\n",
       "</style>\n",
       "<table border=\"1\" class=\"dataframe\">\n",
       "  <thead>\n",
       "    <tr style=\"text-align: right;\">\n",
       "      <th></th>\n",
       "      <th>RRRP3 Returns</th>\n",
       "      <th>BVSP Returns</th>\n",
       "    </tr>\n",
       "    <tr>\n",
       "      <th>Date</th>\n",
       "      <th></th>\n",
       "      <th></th>\n",
       "    </tr>\n",
       "  </thead>\n",
       "  <tbody>\n",
       "    <tr>\n",
       "      <th>2020-11-16</th>\n",
       "      <td>0.009615</td>\n",
       "      <td>0.018352</td>\n",
       "    </tr>\n",
       "    <tr>\n",
       "      <th>2020-11-17</th>\n",
       "      <td>-0.000476</td>\n",
       "      <td>0.007507</td>\n",
       "    </tr>\n",
       "    <tr>\n",
       "      <th>2020-11-18</th>\n",
       "      <td>-0.004288</td>\n",
       "      <td>-0.006957</td>\n",
       "    </tr>\n",
       "    <tr>\n",
       "      <th>2020-11-19</th>\n",
       "      <td>0.000000</td>\n",
       "      <td>0.000319</td>\n",
       "    </tr>\n",
       "    <tr>\n",
       "      <th>2020-11-23</th>\n",
       "      <td>0.005742</td>\n",
       "      <td>0.008093</td>\n",
       "    </tr>\n",
       "  </tbody>\n",
       "</table>\n",
       "</div>"
      ],
      "text/plain": [
       "            RRRP3 Returns  BVSP Returns\n",
       "Date                                   \n",
       "2020-11-16       0.009615      0.018352\n",
       "2020-11-17      -0.000476      0.007507\n",
       "2020-11-18      -0.004288     -0.006957\n",
       "2020-11-19       0.000000      0.000319\n",
       "2020-11-23       0.005742      0.008093"
      ]
     },
     "execution_count": 26,
     "metadata": {},
     "output_type": "execute_result"
    }
   ],
   "source": [
    "rrrp3_bvsp = pd.concat([RRRP3['Returns'], BVSP['Returns']], axis=1).dropna()\n",
    "rrrp3_bvsp.columns = ['RRRP3 Returns', 'BVSP Returns']\n",
    "rrrp3_bvsp.head()"
   ]
  },
  {
   "cell_type": "code",
   "execution_count": 27,
   "metadata": {},
   "outputs": [
    {
     "data": {
      "text/html": [
       "<div>\n",
       "<style scoped>\n",
       "    .dataframe tbody tr th:only-of-type {\n",
       "        vertical-align: middle;\n",
       "    }\n",
       "\n",
       "    .dataframe tbody tr th {\n",
       "        vertical-align: top;\n",
       "    }\n",
       "\n",
       "    .dataframe thead th {\n",
       "        text-align: right;\n",
       "    }\n",
       "</style>\n",
       "<table border=\"1\" class=\"dataframe\">\n",
       "  <thead>\n",
       "    <tr style=\"text-align: right;\">\n",
       "      <th></th>\n",
       "      <th>RRRP3 Returns</th>\n",
       "      <th>BVSP Returns</th>\n",
       "    </tr>\n",
       "  </thead>\n",
       "  <tbody>\n",
       "    <tr>\n",
       "      <th>RRRP3 Returns</th>\n",
       "      <td>0.001042</td>\n",
       "      <td>0.000201</td>\n",
       "    </tr>\n",
       "    <tr>\n",
       "      <th>BVSP Returns</th>\n",
       "      <td>0.000201</td>\n",
       "      <td>0.000167</td>\n",
       "    </tr>\n",
       "  </tbody>\n",
       "</table>\n",
       "</div>"
      ],
      "text/plain": [
       "               RRRP3 Returns  BVSP Returns\n",
       "RRRP3 Returns       0.001042      0.000201\n",
       "BVSP Returns        0.000201      0.000167"
      ]
     },
     "execution_count": 27,
     "metadata": {},
     "output_type": "execute_result"
    }
   ],
   "source": [
    "covariance = rrrp3_bvsp.cov()\n",
    "covariance"
   ]
  },
  {
   "cell_type": "markdown",
   "metadata": {},
   "source": [
    "### Correlação\n",
    "\n",
    "$$Corr(R_a, R_b) = \\dfrac{Cov(R_a, R_b)}{\\sigma(R_a) \\sigma(R_b)}$$"
   ]
  },
  {
   "cell_type": "code",
   "execution_count": 28,
   "metadata": {},
   "outputs": [
    {
     "data": {
      "text/html": [
       "<div>\n",
       "<style scoped>\n",
       "    .dataframe tbody tr th:only-of-type {\n",
       "        vertical-align: middle;\n",
       "    }\n",
       "\n",
       "    .dataframe tbody tr th {\n",
       "        vertical-align: top;\n",
       "    }\n",
       "\n",
       "    .dataframe thead th {\n",
       "        text-align: right;\n",
       "    }\n",
       "</style>\n",
       "<table border=\"1\" class=\"dataframe\">\n",
       "  <thead>\n",
       "    <tr style=\"text-align: right;\">\n",
       "      <th></th>\n",
       "      <th>RRRP3 Returns</th>\n",
       "      <th>BVSP Returns</th>\n",
       "    </tr>\n",
       "  </thead>\n",
       "  <tbody>\n",
       "    <tr>\n",
       "      <th>RRRP3 Returns</th>\n",
       "      <td>1.000000</td>\n",
       "      <td>0.480773</td>\n",
       "    </tr>\n",
       "    <tr>\n",
       "      <th>BVSP Returns</th>\n",
       "      <td>0.480773</td>\n",
       "      <td>1.000000</td>\n",
       "    </tr>\n",
       "  </tbody>\n",
       "</table>\n",
       "</div>"
      ],
      "text/plain": [
       "               RRRP3 Returns  BVSP Returns\n",
       "RRRP3 Returns       1.000000      0.480773\n",
       "BVSP Returns        0.480773      1.000000"
      ]
     },
     "execution_count": 28,
     "metadata": {},
     "output_type": "execute_result"
    }
   ],
   "source": [
    "correlation = rrrp3_bvsp.corr()\n",
    "correlation"
   ]
  },
  {
   "cell_type": "markdown",
   "metadata": {},
   "source": [
    "## Gráficos de dispersão e Mapas de calor"
   ]
  },
  {
   "cell_type": "code",
   "execution_count": 29,
   "metadata": {},
   "outputs": [
    {
     "data": {
      "image/png": "[encoded data removed]",
      "text/plain": [
       "<Figure size 864x720 with 4 Axes>"
      ]
     },
     "metadata": {},
     "output_type": "display_data"
    }
   ],
   "source": [
    "scatter_matrix(rrrp3_bvsp, figsize=(12, 10), alpha=0.5, hist_kwds={'bins':90, 'edgecolor':'white'})\n",
    "_=plt.title('RRRP3 and BVSP Scatterplot')\n",
    "plt.show()"
   ]
  },
  {
   "cell_type": "code",
   "execution_count": 30,
   "metadata": {},
   "outputs": [
    {
     "data": {
      "image/png": "[encoded data removed]",
      "text/plain": [
       "<Figure size 576x396 with 2 Axes>"
      ]
     },
     "metadata": {},
     "output_type": "display_data"
    }
   ],
   "source": [
    "sns.heatmap(correlation, annot=True, cmap=None, linewidths=0.3, annot_kws={'size': 20})\n",
    "\n",
    "_=plt.title('RRRP3 BVSP Heatmap')\n",
    "\n",
    "plt.show()"
   ]
  },
  {
   "cell_type": "code",
   "execution_count": null,
   "metadata": {},
   "outputs": [],
   "source": []
  }
 ],
 "metadata": {
  "interpreter": {
   "hash": "8b8334dab9339717f727a1deaf837b322d7a41c20d15cc86be99a8e69ceec8ce"
  },
  "kernelspec": {
   "display_name": "Python 3.8.12 64-bit ('3.8.12')",
   "language": "python",
   "name": "python3"
  },
  "language_info": {
   "codemirror_mode": {
    "name": "ipython",
    "version": 3
   },
   "file_extension": ".py",
   "mimetype": "text/x-python",
   "name": "python",
   "nbconvert_exporter": "python",
   "pygments_lexer": "ipython3",
   "version": "3.8.12"
  },
  "orig_nbformat": 4
 },
 "nbformat": 4,
 "nbformat_minor": 2
}
