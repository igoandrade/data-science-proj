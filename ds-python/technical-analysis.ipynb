{
 "cells": [
  {
   "cell_type": "markdown",
   "metadata": {},
   "source": [
    "# Elementos para Análise Técnica usando Python"
   ]
  },
  {
   "cell_type": "markdown",
   "metadata": {},
   "source": [
    "A Análise Técnica é útil para analisar o comportamento dos títulos com base em diferentes gráficos com o objetivo de determinar as tendências de alta ou baixa. Neste _notebook_, a discussão se concentrará em retornos, volumes, gráficos de velas, gráficos de linhas, média móvel simples, MACD, RSI e outras ferramentas de análise técnica."
   ]
  },
  {
   "cell_type": "markdown",
   "metadata": {},
   "source": [
    "## Gráfico de linha com um preço de ação"
   ]
  },
  {
   "cell_type": "markdown",
   "metadata": {},
   "source": [
    "Em finanças, o **gráfico de linha** é útil para entender a tendência dos dados, constituindo uma importante ferramenta de visualização. No caso de uma única ação, o gráfico de linha mostrará como uma das características da variável se comportou ao longo de um período de tempo."
   ]
  },
  {
   "cell_type": "markdown",
   "metadata": {},
   "source": [
    "### Bibliotecas importadas"
   ]
  },
  {
   "cell_type": "code",
   "execution_count": null,
   "metadata": {},
   "outputs": [],
   "source": [
    "import numpy as np \n",
    "import pandas as pd \n",
    "import pandas_datareader as pdr \n",
    "import datetime\n",
    "import matplotlib.pyplot as plt \n",
    "\n",
    "plt.style.use('seaborn')"
   ]
  },
  {
   "cell_type": "markdown",
   "metadata": {},
   "source": [
    "### Definição do intervalo de datas"
   ]
  },
  {
   "cell_type": "code",
   "execution_count": null,
   "metadata": {},
   "outputs": [],
   "source": [
    "start = datetime.datetime(2018, 1, 1)\n",
    "end = datetime.datetime(2019, 1, 1)"
   ]
  },
  {
   "cell_type": "code",
   "execution_count": null,
   "metadata": {},
   "outputs": [],
   "source": []
  }
 ],
 "metadata": {
  "interpreter": {
   "hash": "8b8334dab9339717f727a1deaf837b322d7a41c20d15cc86be99a8e69ceec8ce"
  },
  "kernelspec": {
   "display_name": "Python 3.8.12 64-bit ('3.8.12')",
   "language": "python",
   "name": "python3"
  },
  "language_info": {
   "name": "python",
   "version": "3.8.12"
  },
  "orig_nbformat": 4
 },
 "nbformat": 4,
 "nbformat_minor": 2
}
