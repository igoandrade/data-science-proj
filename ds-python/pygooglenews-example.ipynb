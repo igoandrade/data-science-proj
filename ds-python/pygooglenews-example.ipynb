{
 "cells": [
  {
   "cell_type": "code",
   "execution_count": 18,
   "id": "50da5212-0231-4c6e-ac28-6a34b473b9b0",
   "metadata": {},
   "outputs": [
    {
     "ename": "AttributeError",
     "evalue": "module 'base64' has no attribute 'decodestring'",
     "output_type": "error",
     "traceback": [
      "\u001b[1;31m---------------------------------------------------------------------------\u001b[0m",
      "\u001b[1;31mAttributeError\u001b[0m                            Traceback (most recent call last)",
      "Input \u001b[1;32mIn [18]\u001b[0m, in \u001b[0;36m<module>\u001b[1;34m\u001b[0m\n\u001b[0;32m      3\u001b[0m \u001b[38;5;28;01mfrom\u001b[39;00m \u001b[38;5;21;01mtextblob\u001b[39;00m \u001b[38;5;28;01mimport\u001b[39;00m TextBlob\n\u001b[0;32m      4\u001b[0m \u001b[38;5;28;01mfrom\u001b[39;00m \u001b[38;5;21;01mdatetime\u001b[39;00m \u001b[38;5;28;01mimport\u001b[39;00m datetime, timedelta\n\u001b[1;32m----> 5\u001b[0m \u001b[38;5;28;01mfrom\u001b[39;00m \u001b[38;5;21;01mpygooglenews\u001b[39;00m \u001b[38;5;28;01mimport\u001b[39;00m GoogleNews\n\u001b[0;32m      6\u001b[0m \u001b[38;5;28;01mimport\u001b[39;00m \u001b[38;5;21;01mnltk\u001b[39;00m\n",
      "File \u001b[1;32mD:\\data-science-projects\\venv\\lib\\site-packages\\pygooglenews\\__init__.py:1\u001b[0m, in \u001b[0;36m<module>\u001b[1;34m\u001b[0m\n\u001b[1;32m----> 1\u001b[0m \u001b[38;5;28;01mimport\u001b[39;00m \u001b[38;5;21;01mfeedparser\u001b[39;00m\n\u001b[0;32m      2\u001b[0m \u001b[38;5;28;01mfrom\u001b[39;00m \u001b[38;5;21;01mbs4\u001b[39;00m \u001b[38;5;28;01mimport\u001b[39;00m BeautifulSoup\n\u001b[0;32m      3\u001b[0m \u001b[38;5;28;01mimport\u001b[39;00m \u001b[38;5;21;01murllib\u001b[39;00m\n",
      "File \u001b[1;32mD:\\data-science-projects\\venv\\lib\\site-packages\\feedparser.py:93\u001b[0m, in \u001b[0;36m<module>\u001b[1;34m\u001b[0m\n\u001b[0;32m     90\u001b[0m     base64 \u001b[38;5;241m=\u001b[39m binascii \u001b[38;5;241m=\u001b[39m \u001b[38;5;28;01mNone\u001b[39;00m\n\u001b[0;32m     91\u001b[0m \u001b[38;5;28;01melse\u001b[39;00m:\n\u001b[0;32m     92\u001b[0m     \u001b[38;5;66;03m# Python 3.1 deprecates decodestring in favor of decodebytes\u001b[39;00m\n\u001b[1;32m---> 93\u001b[0m     _base64decode \u001b[38;5;241m=\u001b[39m \u001b[38;5;28mgetattr\u001b[39m(base64, \u001b[38;5;124m'\u001b[39m\u001b[38;5;124mdecodebytes\u001b[39m\u001b[38;5;124m'\u001b[39m, \u001b[43mbase64\u001b[49m\u001b[38;5;241;43m.\u001b[39;49m\u001b[43mdecodestring\u001b[49m)\n\u001b[0;32m     95\u001b[0m \u001b[38;5;66;03m# _s2bytes: convert a UTF-8 str to bytes if the interpreter is Python 3\u001b[39;00m\n\u001b[0;32m     96\u001b[0m \u001b[38;5;66;03m# _l2bytes: convert a list of ints to bytes if the interpreter is Python 3\u001b[39;00m\n\u001b[0;32m     97\u001b[0m \u001b[38;5;28;01mtry\u001b[39;00m:\n",
      "\u001b[1;31mAttributeError\u001b[0m: module 'base64' has no attribute 'decodestring'"
     ]
    }
   ],
   "source": [
    "import pandas as pd\n",
    "from textblob import TextBlob\n",
    "from datetime import datetime, timedelta\n",
    "from pygooglenews import GoogleNews\n",
    "import nltk"
   ]
  },
  {
   "cell_type": "code",
   "execution_count": 14,
   "id": "4619b43c-2b19-48f6-9804-5960908cabf9",
   "metadata": {},
   "outputs": [
    {
     "name": "stdout",
     "output_type": "stream",
     "text": [
      "showing info https://raw.githubusercontent.com/nltk/nltk_data/gh-pages/index.xml\n"
     ]
    },
    {
     "data": {
      "text/plain": [
       "True"
      ]
     },
     "execution_count": 14,
     "metadata": {},
     "output_type": "execute_result"
    }
   ],
   "source": [
    "#nltk.download('portuguese')\n",
    "nltk.download()"
   ]
  },
  {
   "cell_type": "code",
   "execution_count": 19,
   "id": "fc90ed74-62d9-4175-b5cf-2e9fac88ae30",
   "metadata": {},
   "outputs": [],
   "source": [
    "def get_news(search, start_date, end_date, lang='en', country='UK'):\n",
    "    stories = {\n",
    "        \"date\": [],\n",
    "        \"title\": [],\n",
    "        \"link\": []\n",
    "    }\n",
    "    start_date = datetime.strptime(start_date, \"%Y-%m-%d\").date()\n",
    "    end_date = datetime.strptime(end_date, \"%Y-%m-%d\").date()\n",
    "    delta = timedelta(days=1)\n",
    "    date_list = pd.date_range(start_date, end_date).tolist()\n",
    "    gn = GoogleNews(lang=lang, country=country)\n",
    "    df = pd.DataFrame()\n",
    "    for dt in date_list[:-1]:\n",
    "        result = gn.search(search, from_=dt.strftime(\"%Y-%m-%d\"), to_=(dt+delta).strftime(\"%Y-%m-%d\"))\n",
    "        newsitems = result['entries']\n",
    "        for item in newsitems:\n",
    "            date = datetime.strptime(item.published, \"%a, %d %b %Y %H:%M:%S GMT\").date()\n",
    "            stories[\"date\"].append(date)\n",
    "            stories[\"title\"].append(item.title)\n",
    "            stories[\"link\"].append(item.link)\n",
    "    df = pd.DataFrame(stories)\n",
    "    df.set_index('Date')\n",
    "    return df"
   ]
  },
  {
   "cell_type": "code",
   "execution_count": 20,
   "id": "d872f6b0-9982-4f9e-a108-19e398a9c218",
   "metadata": {},
   "outputs": [
    {
     "ename": "TypeError",
     "evalue": "GoogleNews.__init__() got an unexpected keyword argument 'country'",
     "output_type": "error",
     "traceback": [
      "\u001b[1;31m---------------------------------------------------------------------------\u001b[0m",
      "\u001b[1;31mTypeError\u001b[0m                                 Traceback (most recent call last)",
      "Input \u001b[1;32mIn [20]\u001b[0m, in \u001b[0;36m<module>\u001b[1;34m\u001b[0m\n\u001b[1;32m----> 1\u001b[0m df \u001b[38;5;241m=\u001b[39m \u001b[43mget_news\u001b[49m\u001b[43m(\u001b[49m\u001b[38;5;124;43m'\u001b[39;49m\u001b[38;5;124;43mlockdown\u001b[39;49m\u001b[38;5;124;43m'\u001b[39;49m\u001b[43m,\u001b[49m\u001b[43m \u001b[49m\u001b[38;5;124;43m\"\u001b[39;49m\u001b[38;5;124;43m2022-01-01\u001b[39;49m\u001b[38;5;124;43m\"\u001b[39;49m\u001b[43m,\u001b[49m\u001b[43m \u001b[49m\u001b[38;5;124;43m\"\u001b[39;49m\u001b[38;5;124;43m2022-01-31\u001b[39;49m\u001b[38;5;124;43m\"\u001b[39;49m\u001b[43m)\u001b[49m\n",
      "Input \u001b[1;32mIn [19]\u001b[0m, in \u001b[0;36mget_news\u001b[1;34m(search, start_date, end_date, lang, country)\u001b[0m\n\u001b[0;32m      9\u001b[0m delta \u001b[38;5;241m=\u001b[39m timedelta(days\u001b[38;5;241m=\u001b[39m\u001b[38;5;241m1\u001b[39m)\n\u001b[0;32m     10\u001b[0m date_list \u001b[38;5;241m=\u001b[39m pd\u001b[38;5;241m.\u001b[39mdate_range(start_date, end_date)\u001b[38;5;241m.\u001b[39mtolist()\n\u001b[1;32m---> 11\u001b[0m gn \u001b[38;5;241m=\u001b[39m \u001b[43mGoogleNews\u001b[49m\u001b[43m(\u001b[49m\u001b[43mlang\u001b[49m\u001b[38;5;241;43m=\u001b[39;49m\u001b[43mlang\u001b[49m\u001b[43m,\u001b[49m\u001b[43m \u001b[49m\u001b[43mcountry\u001b[49m\u001b[38;5;241;43m=\u001b[39;49m\u001b[43mcountry\u001b[49m\u001b[43m)\u001b[49m\n\u001b[0;32m     12\u001b[0m df \u001b[38;5;241m=\u001b[39m pd\u001b[38;5;241m.\u001b[39mDataFrame()\n\u001b[0;32m     13\u001b[0m \u001b[38;5;28;01mfor\u001b[39;00m dt \u001b[38;5;129;01min\u001b[39;00m date_list[:\u001b[38;5;241m-\u001b[39m\u001b[38;5;241m1\u001b[39m]:\n",
      "\u001b[1;31mTypeError\u001b[0m: GoogleNews.__init__() got an unexpected keyword argument 'country'"
     ]
    }
   ],
   "source": [
    "df = get_news('lockdown', \"2022-01-01\", \"2022-01-31\")"
   ]
  },
  {
   "cell_type": "code",
   "execution_count": null,
   "id": "696ff8cd-4416-4dac-bf8c-b066acedae1a",
   "metadata": {},
   "outputs": [],
   "source": []
  }
 ],
 "metadata": {
  "kernelspec": {
   "display_name": "DS Projects (venv)",
   "language": "python",
   "name": "venv"
  },
  "language_info": {
   "codemirror_mode": {
    "name": "ipython",
    "version": 3
   },
   "file_extension": ".py",
   "mimetype": "text/x-python",
   "name": "python",
   "nbconvert_exporter": "python",
   "pygments_lexer": "ipython3",
   "version": "3.10.0"
  }
 },
 "nbformat": 4,
 "nbformat_minor": 5
}
