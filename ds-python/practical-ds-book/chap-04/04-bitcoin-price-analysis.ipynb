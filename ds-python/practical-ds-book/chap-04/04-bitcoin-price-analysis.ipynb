{
 "cells": [
  {
   "cell_type": "markdown",
   "id": "d76eb472-79f0-44e4-ae95-a3121b22d8ba",
   "metadata": {},
   "source": [
    "# Análise de dados de preços de Bitcoin"
   ]
  },
  {
   "cell_type": "markdown",
   "id": "95523e84-72ad-4440-a063-1656e2238d11",
   "metadata": {},
   "source": [
    "## Bibliotecas importadas"
   ]
  },
  {
   "cell_type": "code",
   "execution_count": 13,
   "id": "70a91b6c-4688-4ff9-be89-3a27633bb265",
   "metadata": {},
   "outputs": [],
   "source": [
    "import os\n",
    "import numpy as np\n",
    "import pandas as pd\n",
    "import matplotlib.pyplot as plt\n",
    "\n",
    "plt.style.use('seaborn')"
   ]
  },
  {
   "cell_type": "markdown",
   "id": "33bc57ef-3916-4fae-a33d-ab2eb24bd108",
   "metadata": {},
   "source": [
    "## Preparação dos dados"
   ]
  },
  {
   "cell_type": "markdown",
   "id": "28bb8689-839d-4bdf-ab80-8c5a194a5f76",
   "metadata": {},
   "source": [
    "### Carregamento dos dados"
   ]
  },
  {
   "cell_type": "code",
   "execution_count": 2,
   "id": "a43eb336-eabd-4310-8e68-2325ea05c2bd",
   "metadata": {},
   "outputs": [],
   "source": [
    "btc_df = pd.read_csv('data/bitcoin_price.csv')"
   ]
  },
  {
   "cell_type": "markdown",
   "id": "ac47f933-39fc-4521-9ac2-257bce621bd1",
   "metadata": {},
   "source": [
    "### Primeiros registros e dimensões dos dados"
   ]
  },
  {
   "cell_type": "markdown",
   "id": "f343c2db-68f8-4661-a1b8-3ad953b3c9a5",
   "metadata": {},
   "source": [
    "As primeiras cinco linhas do conjunto de dados são mostradas abaixo:"
   ]
  },
  {
   "cell_type": "code",
   "execution_count": 3,
   "id": "e38ac34b-4959-4aa7-82b4-d9696b757b07",
   "metadata": {},
   "outputs": [
    {
     "data": {
      "text/html": [
       "<div>\n",
       "<style scoped>\n",
       "    .dataframe tbody tr th:only-of-type {\n",
       "        vertical-align: middle;\n",
       "    }\n",
       "\n",
       "    .dataframe tbody tr th {\n",
       "        vertical-align: top;\n",
       "    }\n",
       "\n",
       "    .dataframe thead th {\n",
       "        text-align: right;\n",
       "    }\n",
       "</style>\n",
       "<table border=\"1\" class=\"dataframe\">\n",
       "  <thead>\n",
       "    <tr style=\"text-align: right;\">\n",
       "      <th></th>\n",
       "      <th>symbol</th>\n",
       "      <th>time</th>\n",
       "      <th>open</th>\n",
       "      <th>close</th>\n",
       "      <th>high</th>\n",
       "      <th>low</th>\n",
       "      <th>volume</th>\n",
       "    </tr>\n",
       "  </thead>\n",
       "  <tbody>\n",
       "    <tr>\n",
       "      <th>0</th>\n",
       "      <td>btcusd</td>\n",
       "      <td>1364688000000</td>\n",
       "      <td>92.500000</td>\n",
       "      <td>93.033000</td>\n",
       "      <td>93.74999</td>\n",
       "      <td>91.00000</td>\n",
       "      <td>3083.079791</td>\n",
       "    </tr>\n",
       "    <tr>\n",
       "      <th>1</th>\n",
       "      <td>btcusd</td>\n",
       "      <td>1364774400000</td>\n",
       "      <td>93.250000</td>\n",
       "      <td>103.999000</td>\n",
       "      <td>105.90000</td>\n",
       "      <td>92.49999</td>\n",
       "      <td>5224.401313</td>\n",
       "    </tr>\n",
       "    <tr>\n",
       "      <th>2</th>\n",
       "      <td>btcusd</td>\n",
       "      <td>1364860800000</td>\n",
       "      <td>104.000000</td>\n",
       "      <td>118.229354</td>\n",
       "      <td>118.38670</td>\n",
       "      <td>99.00000</td>\n",
       "      <td>8376.527478</td>\n",
       "    </tr>\n",
       "    <tr>\n",
       "      <th>3</th>\n",
       "      <td>btcusd</td>\n",
       "      <td>1364947200000</td>\n",
       "      <td>117.958261</td>\n",
       "      <td>134.700000</td>\n",
       "      <td>146.88000</td>\n",
       "      <td>101.51088</td>\n",
       "      <td>12996.245072</td>\n",
       "    </tr>\n",
       "    <tr>\n",
       "      <th>4</th>\n",
       "      <td>btcusd</td>\n",
       "      <td>1365033600000</td>\n",
       "      <td>134.716560</td>\n",
       "      <td>132.899000</td>\n",
       "      <td>143.00000</td>\n",
       "      <td>119.00000</td>\n",
       "      <td>6981.668305</td>\n",
       "    </tr>\n",
       "  </tbody>\n",
       "</table>\n",
       "</div>"
      ],
      "text/plain": [
       "   symbol           time        open       close       high        low  \\\n",
       "0  btcusd  1364688000000   92.500000   93.033000   93.74999   91.00000   \n",
       "1  btcusd  1364774400000   93.250000  103.999000  105.90000   92.49999   \n",
       "2  btcusd  1364860800000  104.000000  118.229354  118.38670   99.00000   \n",
       "3  btcusd  1364947200000  117.958261  134.700000  146.88000  101.51088   \n",
       "4  btcusd  1365033600000  134.716560  132.899000  143.00000  119.00000   \n",
       "\n",
       "         volume  \n",
       "0   3083.079791  \n",
       "1   5224.401313  \n",
       "2   8376.527478  \n",
       "3  12996.245072  \n",
       "4   6981.668305  "
      ]
     },
     "execution_count": 3,
     "metadata": {},
     "output_type": "execute_result"
    }
   ],
   "source": [
    "btc_df.head()"
   ]
  },
  {
   "cell_type": "code",
   "execution_count": 4,
   "id": "e50f3bfd-0250-4cd1-a451-4c43095edc29",
   "metadata": {},
   "outputs": [
    {
     "data": {
      "text/plain": [
       "(2793, 7)"
      ]
     },
     "execution_count": 4,
     "metadata": {},
     "output_type": "execute_result"
    }
   ],
   "source": [
    "btc_df.shape"
   ]
  },
  {
   "cell_type": "markdown",
   "id": "17428cf7-2e42-475b-b15a-ac65ad8a5075",
   "metadata": {},
   "source": [
    "Como se verifica pelo resultado acima, o _dataframe_ possui 2793 registros de preços da criptomoeda _bitcoin_ ao alongo do tempo."
   ]
  },
  {
   "cell_type": "markdown",
   "id": "40bc6787-9e55-4ba8-9903-ca52bd5b3f8c",
   "metadata": {},
   "source": [
    "### Remoção de dados irrelevantes"
   ]
  },
  {
   "cell_type": "markdown",
   "id": "92048efe-f088-4788-8d29-188d309a45e4",
   "metadata": {},
   "source": [
    "A coluna `symbol` contém apenas um valor: \"btcusd\", o qual corresponde ao códifo de negociação dessa criptomoeda. "
   ]
  },
  {
   "cell_type": "code",
   "execution_count": 5,
   "id": "50e08e80-e3f3-4dd7-9804-8baa41ab361f",
   "metadata": {},
   "outputs": [
    {
     "data": {
      "text/plain": [
       "array(['btcusd'], dtype=object)"
      ]
     },
     "execution_count": 5,
     "metadata": {},
     "output_type": "execute_result"
    }
   ],
   "source": [
    "btc_df['symbol'].unique()"
   ]
  },
  {
   "cell_type": "markdown",
   "id": "bb2cd0d0-f50d-47c8-b81c-d5f4b57de482",
   "metadata": {},
   "source": [
    "Assim, essa coluna pode ser excluída sem perda de informação relevante à análise dos dados:"
   ]
  },
  {
   "cell_type": "code",
   "execution_count": 6,
   "id": "5ae8df6c-54e7-4b6b-8a9c-0a0a4f5844cf",
   "metadata": {},
   "outputs": [],
   "source": [
    "btc_df.drop('symbol', axis=1, inplace=True)"
   ]
  },
  {
   "cell_type": "markdown",
   "id": "c9b4d7b6-2139-48e7-8f87-461ccf92a58d",
   "metadata": {},
   "source": [
    "### Alteração do tipo dos dados"
   ]
  },
  {
   "cell_type": "markdown",
   "id": "83917bc1-4aef-47d5-b877-e12f4384bdd3",
   "metadata": {},
   "source": [
    "Quanto aos tipos de dados do _dataframe_ **btc_df**, por meio do método `info`, verificamos que a coluna `time` foi automaticamente tratada pelo pacote Pandas como de tipo inteiro (`int64`)."
   ]
  },
  {
   "cell_type": "code",
   "execution_count": 7,
   "id": "5a7680f6-f5be-43c9-bc8f-5b8015583e3d",
   "metadata": {},
   "outputs": [
    {
     "name": "stdout",
     "output_type": "stream",
     "text": [
      "<class 'pandas.core.frame.DataFrame'>\n",
      "RangeIndex: 2793 entries, 0 to 2792\n",
      "Data columns (total 6 columns):\n",
      " #   Column  Non-Null Count  Dtype  \n",
      "---  ------  --------------  -----  \n",
      " 0   time    2793 non-null   int64  \n",
      " 1   open    2793 non-null   float64\n",
      " 2   close   2793 non-null   float64\n",
      " 3   high    2793 non-null   float64\n",
      " 4   low     2793 non-null   float64\n",
      " 5   volume  2793 non-null   float64\n",
      "dtypes: float64(5), int64(1)\n",
      "memory usage: 131.0 KB\n"
     ]
    }
   ],
   "source": [
    "btc_df.info()"
   ]
  },
  {
   "cell_type": "markdown",
   "id": "9cbe98bc-47bf-43a7-86b3-a014096b0f13",
   "metadata": {},
   "source": [
    "Entretanto, para o propósito deste projeto é mais conveniente converter a coluna `time` para o tipo de dado `datetime`, como mostrado a seguir:"
   ]
  },
  {
   "cell_type": "code",
   "execution_count": 8,
   "id": "32d06634-eb9d-455e-82b7-9cd1fc770b5d",
   "metadata": {},
   "outputs": [],
   "source": [
    "btc_df['time'] = pd.to_datetime(btc_df['time'], unit='ms')"
   ]
  },
  {
   "cell_type": "markdown",
   "id": "f878ce8b-09e8-4924-86eb-99b0c09acc21",
   "metadata": {},
   "source": [
    "Verifiquemos novamente os tipos de dados:"
   ]
  },
  {
   "cell_type": "code",
   "execution_count": 9,
   "id": "5ca1dda3-f0b5-421a-b6d1-0d6efa22fd12",
   "metadata": {},
   "outputs": [
    {
     "name": "stdout",
     "output_type": "stream",
     "text": [
      "<class 'pandas.core.frame.DataFrame'>\n",
      "RangeIndex: 2793 entries, 0 to 2792\n",
      "Data columns (total 6 columns):\n",
      " #   Column  Non-Null Count  Dtype         \n",
      "---  ------  --------------  -----         \n",
      " 0   time    2793 non-null   datetime64[ns]\n",
      " 1   open    2793 non-null   float64       \n",
      " 2   close   2793 non-null   float64       \n",
      " 3   high    2793 non-null   float64       \n",
      " 4   low     2793 non-null   float64       \n",
      " 5   volume  2793 non-null   float64       \n",
      "dtypes: datetime64[ns](1), float64(5)\n",
      "memory usage: 131.0 KB\n"
     ]
    }
   ],
   "source": [
    "btc_df.info()"
   ]
  },
  {
   "cell_type": "markdown",
   "id": "22b39a88-e3ef-4612-8ddc-483231cce4f5",
   "metadata": {},
   "source": [
    "Note-se que agora a coluna `time` mostra a data de cada um dos registros de maneira mais compreensível."
   ]
  },
  {
   "cell_type": "code",
   "execution_count": 10,
   "id": "3042e3a2-854f-4796-b895-abb51cfe5fe8",
   "metadata": {},
   "outputs": [
    {
     "data": {
      "text/html": [
       "<div>\n",
       "<style scoped>\n",
       "    .dataframe tbody tr th:only-of-type {\n",
       "        vertical-align: middle;\n",
       "    }\n",
       "\n",
       "    .dataframe tbody tr th {\n",
       "        vertical-align: top;\n",
       "    }\n",
       "\n",
       "    .dataframe thead th {\n",
       "        text-align: right;\n",
       "    }\n",
       "</style>\n",
       "<table border=\"1\" class=\"dataframe\">\n",
       "  <thead>\n",
       "    <tr style=\"text-align: right;\">\n",
       "      <th></th>\n",
       "      <th>time</th>\n",
       "      <th>open</th>\n",
       "      <th>close</th>\n",
       "      <th>high</th>\n",
       "      <th>low</th>\n",
       "      <th>volume</th>\n",
       "    </tr>\n",
       "  </thead>\n",
       "  <tbody>\n",
       "    <tr>\n",
       "      <th>0</th>\n",
       "      <td>2013-03-31</td>\n",
       "      <td>92.500000</td>\n",
       "      <td>93.033000</td>\n",
       "      <td>93.74999</td>\n",
       "      <td>91.00000</td>\n",
       "      <td>3083.079791</td>\n",
       "    </tr>\n",
       "    <tr>\n",
       "      <th>1</th>\n",
       "      <td>2013-04-01</td>\n",
       "      <td>93.250000</td>\n",
       "      <td>103.999000</td>\n",
       "      <td>105.90000</td>\n",
       "      <td>92.49999</td>\n",
       "      <td>5224.401313</td>\n",
       "    </tr>\n",
       "    <tr>\n",
       "      <th>2</th>\n",
       "      <td>2013-04-02</td>\n",
       "      <td>104.000000</td>\n",
       "      <td>118.229354</td>\n",
       "      <td>118.38670</td>\n",
       "      <td>99.00000</td>\n",
       "      <td>8376.527478</td>\n",
       "    </tr>\n",
       "    <tr>\n",
       "      <th>3</th>\n",
       "      <td>2013-04-03</td>\n",
       "      <td>117.958261</td>\n",
       "      <td>134.700000</td>\n",
       "      <td>146.88000</td>\n",
       "      <td>101.51088</td>\n",
       "      <td>12996.245072</td>\n",
       "    </tr>\n",
       "    <tr>\n",
       "      <th>4</th>\n",
       "      <td>2013-04-04</td>\n",
       "      <td>134.716560</td>\n",
       "      <td>132.899000</td>\n",
       "      <td>143.00000</td>\n",
       "      <td>119.00000</td>\n",
       "      <td>6981.668305</td>\n",
       "    </tr>\n",
       "  </tbody>\n",
       "</table>\n",
       "</div>"
      ],
      "text/plain": [
       "        time        open       close       high        low        volume\n",
       "0 2013-03-31   92.500000   93.033000   93.74999   91.00000   3083.079791\n",
       "1 2013-04-01   93.250000  103.999000  105.90000   92.49999   5224.401313\n",
       "2 2013-04-02  104.000000  118.229354  118.38670   99.00000   8376.527478\n",
       "3 2013-04-03  117.958261  134.700000  146.88000  101.51088  12996.245072\n",
       "4 2013-04-04  134.716560  132.899000  143.00000  119.00000   6981.668305"
      ]
     },
     "execution_count": 10,
     "metadata": {},
     "output_type": "execute_result"
    }
   ],
   "source": [
    "btc_df.head()"
   ]
  },
  {
   "cell_type": "markdown",
   "id": "b833ce51-9349-41d6-8201-ef6ee8e921ca",
   "metadata": {},
   "source": [
    "Para finalizar esta primeira etapa de preparação dos dados, definimos a coluna de tempo como o índice. Como se notará nas próximas seções, esse procedimento facilita a plotagem de gráficos dos dados:"
   ]
  },
  {
   "cell_type": "code",
   "execution_count": 11,
   "id": "7d36b80c-06cc-44a4-9942-4ae464fe1e3e",
   "metadata": {},
   "outputs": [],
   "source": [
    "btc_df.set_index('time', inplace=True)"
   ]
  },
  {
   "cell_type": "code",
   "execution_count": 12,
   "id": "6f1c588d-3b19-4176-8ee3-cb5c4642ec0c",
   "metadata": {},
   "outputs": [
    {
     "data": {
      "text/html": [
       "<div>\n",
       "<style scoped>\n",
       "    .dataframe tbody tr th:only-of-type {\n",
       "        vertical-align: middle;\n",
       "    }\n",
       "\n",
       "    .dataframe tbody tr th {\n",
       "        vertical-align: top;\n",
       "    }\n",
       "\n",
       "    .dataframe thead th {\n",
       "        text-align: right;\n",
       "    }\n",
       "</style>\n",
       "<table border=\"1\" class=\"dataframe\">\n",
       "  <thead>\n",
       "    <tr style=\"text-align: right;\">\n",
       "      <th></th>\n",
       "      <th>open</th>\n",
       "      <th>close</th>\n",
       "      <th>high</th>\n",
       "      <th>low</th>\n",
       "      <th>volume</th>\n",
       "    </tr>\n",
       "    <tr>\n",
       "      <th>time</th>\n",
       "      <th></th>\n",
       "      <th></th>\n",
       "      <th></th>\n",
       "      <th></th>\n",
       "      <th></th>\n",
       "    </tr>\n",
       "  </thead>\n",
       "  <tbody>\n",
       "    <tr>\n",
       "      <th>2013-03-31</th>\n",
       "      <td>92.500000</td>\n",
       "      <td>93.033000</td>\n",
       "      <td>93.74999</td>\n",
       "      <td>91.00000</td>\n",
       "      <td>3083.079791</td>\n",
       "    </tr>\n",
       "    <tr>\n",
       "      <th>2013-04-01</th>\n",
       "      <td>93.250000</td>\n",
       "      <td>103.999000</td>\n",
       "      <td>105.90000</td>\n",
       "      <td>92.49999</td>\n",
       "      <td>5224.401313</td>\n",
       "    </tr>\n",
       "    <tr>\n",
       "      <th>2013-04-02</th>\n",
       "      <td>104.000000</td>\n",
       "      <td>118.229354</td>\n",
       "      <td>118.38670</td>\n",
       "      <td>99.00000</td>\n",
       "      <td>8376.527478</td>\n",
       "    </tr>\n",
       "    <tr>\n",
       "      <th>2013-04-03</th>\n",
       "      <td>117.958261</td>\n",
       "      <td>134.700000</td>\n",
       "      <td>146.88000</td>\n",
       "      <td>101.51088</td>\n",
       "      <td>12996.245072</td>\n",
       "    </tr>\n",
       "    <tr>\n",
       "      <th>2013-04-04</th>\n",
       "      <td>134.716560</td>\n",
       "      <td>132.899000</td>\n",
       "      <td>143.00000</td>\n",
       "      <td>119.00000</td>\n",
       "      <td>6981.668305</td>\n",
       "    </tr>\n",
       "  </tbody>\n",
       "</table>\n",
       "</div>"
      ],
      "text/plain": [
       "                  open       close       high        low        volume\n",
       "time                                                                  \n",
       "2013-03-31   92.500000   93.033000   93.74999   91.00000   3083.079791\n",
       "2013-04-01   93.250000  103.999000  105.90000   92.49999   5224.401313\n",
       "2013-04-02  104.000000  118.229354  118.38670   99.00000   8376.527478\n",
       "2013-04-03  117.958261  134.700000  146.88000  101.51088  12996.245072\n",
       "2013-04-04  134.716560  132.899000  143.00000  119.00000   6981.668305"
      ]
     },
     "execution_count": 12,
     "metadata": {},
     "output_type": "execute_result"
    }
   ],
   "source": [
    "btc_df.head()"
   ]
  },
  {
   "cell_type": "markdown",
   "id": "059f7107-6511-4d4e-8815-01e1ad6d0310",
   "metadata": {},
   "source": [
    "## Transformação dos dados"
   ]
  },
  {
   "cell_type": "markdown",
   "id": "d839ebd9-f15d-481d-b44f-041c12248962",
   "metadata": {},
   "source": [
    "A fim de obter o valor de mercado dos dados de _bitcoin_, efetua-se a multiplicação o volume (coluna `volume`) e os preços de fechamento (coluna `close`):"
   ]
  },
  {
   "cell_type": "code",
   "execution_count": 15,
   "id": "7f2f1ee8-3e17-45da-994f-d8c67e2c6d4a",
   "metadata": {},
   "outputs": [],
   "source": [
    "btc_df['market_cap'] = btc_df['volume'] * btc_df['close']"
   ]
  },
  {
   "cell_type": "code",
   "execution_count": 17,
   "id": "eba66d47-ca30-4025-8157-f5edba4409c8",
   "metadata": {},
   "outputs": [
    {
     "data": {
      "text/plain": [
       "time\n",
       "2013-03-31    2.868282e+05\n",
       "2013-04-01    5.433325e+05\n",
       "2013-04-02    9.903514e+05\n",
       "2013-04-03    1.750594e+06\n",
       "2013-04-04    9.278567e+05\n",
       "Name: market_cap, dtype: float64"
      ]
     },
     "execution_count": 17,
     "metadata": {},
     "output_type": "execute_result"
    }
   ],
   "source": [
    "btc_df['market_cap'][:5]"
   ]
  }
 ],
 "metadata": {
  "kernelspec": {
   "display_name": "DS Projects (venv)",
   "language": "python",
   "name": "venv"
  },
  "language_info": {
   "codemirror_mode": {
    "name": "ipython",
    "version": 3
   },
   "file_extension": ".py",
   "mimetype": "text/x-python",
   "name": "python",
   "nbconvert_exporter": "python",
   "pygments_lexer": "ipython3",
   "version": "3.10.0"
  }
 },
 "nbformat": 4,
 "nbformat_minor": 5
}
