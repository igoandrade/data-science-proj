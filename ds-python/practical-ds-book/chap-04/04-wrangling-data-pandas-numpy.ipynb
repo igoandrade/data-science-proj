{
 "cells": [
  {
   "cell_type": "markdown",
   "id": "88cfa5f4-ea85-4c9d-8f31-d260ec5fb948",
   "metadata": {},
   "source": [
    "# Carregamento e manipulação de dados com Pandas e Numpy"
   ]
  },
  {
   "cell_type": "markdown",
   "id": "fbc9c59c-a242-44cb-9c09-76e61c03ae6e",
   "metadata": {},
   "source": [
    "**Bibliotecas importadas**"
   ]
  },
  {
   "cell_type": "code",
   "execution_count": 1,
   "id": "2f58fdec-9ba6-49b9-ad10-0e3946e05fab",
   "metadata": {},
   "outputs": [],
   "source": [
    "import os\n",
    "import pandas as pd\n",
    "import matplotlib.pyplot as plt\n",
    "import seaborn as sns\n",
    "\n",
    "plt.style.use('seaborn')"
   ]
  },
  {
   "cell_type": "markdown",
   "id": "cf1115f4-b702-4f5a-9c84-bd909900b199",
   "metadata": {
    "tags": []
   },
   "source": [
    "## Carregamento dos dados"
   ]
  },
  {
   "cell_type": "markdown",
   "id": "f759c519-60d1-4fc3-8b80-56e5eaae2ba2",
   "metadata": {},
   "source": [
    "Fonte de dados em formato **CSV**:"
   ]
  },
  {
   "cell_type": "code",
   "execution_count": 2,
   "id": "110d7fe4-35d4-4e1a-aae6-598bae22a1c2",
   "metadata": {},
   "outputs": [
    {
     "data": {
      "text/html": [
       "<div>\n",
       "<style scoped>\n",
       "    .dataframe tbody tr th:only-of-type {\n",
       "        vertical-align: middle;\n",
       "    }\n",
       "\n",
       "    .dataframe tbody tr th {\n",
       "        vertical-align: top;\n",
       "    }\n",
       "\n",
       "    .dataframe thead th {\n",
       "        text-align: right;\n",
       "    }\n",
       "</style>\n",
       "<table border=\"1\" class=\"dataframe\">\n",
       "  <thead>\n",
       "    <tr style=\"text-align: right;\">\n",
       "      <th></th>\n",
       "      <th>Track</th>\n",
       "      <th>Composer</th>\n",
       "      <th>Milliseconds</th>\n",
       "      <th>Bytes</th>\n",
       "      <th>UnitPrice</th>\n",
       "      <th>Genre</th>\n",
       "      <th>Album</th>\n",
       "      <th>Artist</th>\n",
       "    </tr>\n",
       "  </thead>\n",
       "  <tbody>\n",
       "    <tr>\n",
       "      <th>0</th>\n",
       "      <td>All the Best Cowboys Have Daddy Issues</td>\n",
       "      <td>NaN</td>\n",
       "      <td>2555492</td>\n",
       "      <td>211743651</td>\n",
       "      <td>1.99</td>\n",
       "      <td>TV Shows</td>\n",
       "      <td>Lost, Season 1</td>\n",
       "      <td>Lost</td>\n",
       "    </tr>\n",
       "    <tr>\n",
       "      <th>1</th>\n",
       "      <td>Beira Mar</td>\n",
       "      <td>Gilberto Gil</td>\n",
       "      <td>295444</td>\n",
       "      <td>9597994</td>\n",
       "      <td>0.99</td>\n",
       "      <td>Latin</td>\n",
       "      <td>Unplugged</td>\n",
       "      <td>Eric Clapton</td>\n",
       "    </tr>\n",
       "    <tr>\n",
       "      <th>2</th>\n",
       "      <td>Brasil</td>\n",
       "      <td>Milton Nascimento, Fernando Brant</td>\n",
       "      <td>155428</td>\n",
       "      <td>5252560</td>\n",
       "      <td>0.99</td>\n",
       "      <td>Latin</td>\n",
       "      <td>Milton Nascimento Ao Vivo</td>\n",
       "      <td>Milton Nascimento</td>\n",
       "    </tr>\n",
       "    <tr>\n",
       "      <th>3</th>\n",
       "      <td>Ben Franklin</td>\n",
       "      <td>NaN</td>\n",
       "      <td>1271938</td>\n",
       "      <td>264168080</td>\n",
       "      <td>1.99</td>\n",
       "      <td>Comedy</td>\n",
       "      <td>The Office, Season 3</td>\n",
       "      <td>The Office</td>\n",
       "    </tr>\n",
       "    <tr>\n",
       "      <th>4</th>\n",
       "      <td>O Último Romântico (Ao Vivo)</td>\n",
       "      <td>NaN</td>\n",
       "      <td>231993</td>\n",
       "      <td>7692697</td>\n",
       "      <td>0.99</td>\n",
       "      <td>Latin</td>\n",
       "      <td>Lulu Santos - RCA 100 Anos De Música - Álbum 02</td>\n",
       "      <td>Lulu Santos</td>\n",
       "    </tr>\n",
       "  </tbody>\n",
       "</table>\n",
       "</div>"
      ],
      "text/plain": [
       "                                    Track                           Composer  \\\n",
       "0  All the Best Cowboys Have Daddy Issues                                NaN   \n",
       "1                               Beira Mar                       Gilberto Gil   \n",
       "2                                  Brasil  Milton Nascimento, Fernando Brant   \n",
       "3                            Ben Franklin                                NaN   \n",
       "4            O Último Romântico (Ao Vivo)                                NaN   \n",
       "\n",
       "   Milliseconds      Bytes  UnitPrice     Genre  \\\n",
       "0       2555492  211743651       1.99  TV Shows   \n",
       "1        295444    9597994       0.99     Latin   \n",
       "2        155428    5252560       0.99     Latin   \n",
       "3       1271938  264168080       1.99    Comedy   \n",
       "4        231993    7692697       0.99     Latin   \n",
       "\n",
       "                                             Album             Artist  \n",
       "0                                   Lost, Season 1               Lost  \n",
       "1                                        Unplugged       Eric Clapton  \n",
       "2                        Milton Nascimento Ao Vivo  Milton Nascimento  \n",
       "3                             The Office, Season 3         The Office  \n",
       "4  Lulu Santos - RCA 100 Anos De Música - Álbum 02        Lulu Santos  "
      ]
     },
     "execution_count": 2,
     "metadata": {},
     "output_type": "execute_result"
    }
   ],
   "source": [
    "csv_df = pd.read_csv(\"data/itunes_data.csv\")\n",
    "csv_df.head()"
   ]
  },
  {
   "cell_type": "markdown",
   "id": "2e720e0d-04cf-4cc8-8506-c9eb0b300081",
   "metadata": {},
   "source": [
    "Fonte de dados **EXCEL**:"
   ]
  },
  {
   "cell_type": "code",
   "execution_count": 3,
   "id": "0249cac2-5212-46c7-9d41-ee0e71c646bd",
   "metadata": {},
   "outputs": [
    {
     "data": {
      "text/html": [
       "<div>\n",
       "<style scoped>\n",
       "    .dataframe tbody tr th:only-of-type {\n",
       "        vertical-align: middle;\n",
       "    }\n",
       "\n",
       "    .dataframe tbody tr th {\n",
       "        vertical-align: top;\n",
       "    }\n",
       "\n",
       "    .dataframe thead th {\n",
       "        text-align: right;\n",
       "    }\n",
       "</style>\n",
       "<table border=\"1\" class=\"dataframe\">\n",
       "  <thead>\n",
       "    <tr style=\"text-align: right;\">\n",
       "      <th></th>\n",
       "      <th>Track</th>\n",
       "      <th>Composer</th>\n",
       "      <th>Milliseconds</th>\n",
       "      <th>Bytes</th>\n",
       "      <th>UnitPrice</th>\n",
       "      <th>Genre</th>\n",
       "      <th>Album</th>\n",
       "      <th>Artist</th>\n",
       "    </tr>\n",
       "  </thead>\n",
       "  <tbody>\n",
       "    <tr>\n",
       "      <th>0</th>\n",
       "      <td>My Time After Awhile</td>\n",
       "      <td>Robert Geddins/Ron Badger/Sheldon Feinberg</td>\n",
       "      <td>182491</td>\n",
       "      <td>6022698</td>\n",
       "      <td>0.99</td>\n",
       "      <td>Blues</td>\n",
       "      <td>The Best Of Buddy Guy - The Millenium Collection</td>\n",
       "      <td>Buddy Guy</td>\n",
       "    </tr>\n",
       "    <tr>\n",
       "      <th>1</th>\n",
       "      <td>Be Quick Or Be Dead</td>\n",
       "      <td>Bruce Dickinson/Janick Gers</td>\n",
       "      <td>204512</td>\n",
       "      <td>8181888</td>\n",
       "      <td>0.99</td>\n",
       "      <td>Rock</td>\n",
       "      <td>Fear Of The Dark</td>\n",
       "      <td>Iron Maiden</td>\n",
       "    </tr>\n",
       "    <tr>\n",
       "      <th>2</th>\n",
       "      <td>Água E Fogo</td>\n",
       "      <td>Chico Amaral/Edgard Scandurra/Samuel Rosa</td>\n",
       "      <td>278987</td>\n",
       "      <td>9272272</td>\n",
       "      <td>0.99</td>\n",
       "      <td>Rock</td>\n",
       "      <td>Maquinarama</td>\n",
       "      <td>Skank</td>\n",
       "    </tr>\n",
       "    <tr>\n",
       "      <th>3</th>\n",
       "      <td>Ozone Baby</td>\n",
       "      <td>Jimmy Page, Robert Plant</td>\n",
       "      <td>215954</td>\n",
       "      <td>7079588</td>\n",
       "      <td>0.99</td>\n",
       "      <td>Rock</td>\n",
       "      <td>Coda</td>\n",
       "      <td>Led Zeppelin</td>\n",
       "    </tr>\n",
       "    <tr>\n",
       "      <th>4</th>\n",
       "      <td>Bop Boogie</td>\n",
       "      <td>NaN</td>\n",
       "      <td>189596</td>\n",
       "      <td>6093124</td>\n",
       "      <td>0.99</td>\n",
       "      <td>Jazz</td>\n",
       "      <td>Up An' Atom</td>\n",
       "      <td>Gene Krupa</td>\n",
       "    </tr>\n",
       "  </tbody>\n",
       "</table>\n",
       "</div>"
      ],
      "text/plain": [
       "                  Track                                    Composer  \\\n",
       "0  My Time After Awhile  Robert Geddins/Ron Badger/Sheldon Feinberg   \n",
       "1   Be Quick Or Be Dead                 Bruce Dickinson/Janick Gers   \n",
       "2           Água E Fogo   Chico Amaral/Edgard Scandurra/Samuel Rosa   \n",
       "3            Ozone Baby                    Jimmy Page, Robert Plant   \n",
       "4            Bop Boogie                                         NaN   \n",
       "\n",
       "   Milliseconds    Bytes  UnitPrice  Genre  \\\n",
       "0        182491  6022698       0.99  Blues   \n",
       "1        204512  8181888       0.99   Rock   \n",
       "2        278987  9272272       0.99   Rock   \n",
       "3        215954  7079588       0.99   Rock   \n",
       "4        189596  6093124       0.99   Jazz   \n",
       "\n",
       "                                              Album        Artist  \n",
       "0  The Best Of Buddy Guy - The Millenium Collection     Buddy Guy  \n",
       "1                                  Fear Of The Dark   Iron Maiden  \n",
       "2                                       Maquinarama         Skank  \n",
       "3                                              Coda  Led Zeppelin  \n",
       "4                                       Up An' Atom    Gene Krupa  "
      ]
     },
     "execution_count": 3,
     "metadata": {},
     "output_type": "execute_result"
    }
   ],
   "source": [
    "excel_df = pd.read_excel(\"data/itunes_data.xlsx\", engine='openpyxl')\n",
    "excel_df.head()"
   ]
  },
  {
   "cell_type": "markdown",
   "id": "7d24910f-bc22-4762-b7fb-b9e7135b415d",
   "metadata": {},
   "source": [
    "Fonte de dados **SQL** usando o pacote `sqlalchemy`:"
   ]
  },
  {
   "cell_type": "code",
   "execution_count": 4,
   "id": "2583558b-7960-487f-a9a6-ef91cf2404bc",
   "metadata": {},
   "outputs": [],
   "source": [
    "from sqlalchemy import create_engine"
   ]
  },
  {
   "cell_type": "code",
   "execution_count": 5,
   "id": "58269572-b230-4d27-9c5f-3f8ed999e31d",
   "metadata": {},
   "outputs": [],
   "source": [
    "engine = create_engine('sqlite:///data/chinook.db')"
   ]
  },
  {
   "cell_type": "code",
   "execution_count": 6,
   "id": "cfbb99c8-aef9-4ebd-997e-bf365af5ae3a",
   "metadata": {},
   "outputs": [
    {
     "data": {
      "text/html": [
       "<div>\n",
       "<style scoped>\n",
       "    .dataframe tbody tr th:only-of-type {\n",
       "        vertical-align: middle;\n",
       "    }\n",
       "\n",
       "    .dataframe tbody tr th {\n",
       "        vertical-align: top;\n",
       "    }\n",
       "\n",
       "    .dataframe thead th {\n",
       "        text-align: right;\n",
       "    }\n",
       "</style>\n",
       "<table border=\"1\" class=\"dataframe\">\n",
       "  <thead>\n",
       "    <tr style=\"text-align: right;\">\n",
       "      <th></th>\n",
       "      <th>Track</th>\n",
       "      <th>Composer</th>\n",
       "      <th>Milliseconds</th>\n",
       "      <th>Bytes</th>\n",
       "      <th>UnitPrice</th>\n",
       "      <th>Genre</th>\n",
       "      <th>Album</th>\n",
       "      <th>Artist</th>\n",
       "    </tr>\n",
       "  </thead>\n",
       "  <tbody>\n",
       "    <tr>\n",
       "      <th>0</th>\n",
       "      <td>For Those About To Rock (We Salute You)</td>\n",
       "      <td>Angus Young, Malcolm Young, Brian Johnson</td>\n",
       "      <td>343719</td>\n",
       "      <td>11170334</td>\n",
       "      <td>0.99</td>\n",
       "      <td>Rock</td>\n",
       "      <td>For Those About To Rock We Salute You</td>\n",
       "      <td>AC/DC</td>\n",
       "    </tr>\n",
       "    <tr>\n",
       "      <th>1</th>\n",
       "      <td>Put The Finger On You</td>\n",
       "      <td>Angus Young, Malcolm Young, Brian Johnson</td>\n",
       "      <td>205662</td>\n",
       "      <td>6713451</td>\n",
       "      <td>0.99</td>\n",
       "      <td>Rock</td>\n",
       "      <td>For Those About To Rock We Salute You</td>\n",
       "      <td>AC/DC</td>\n",
       "    </tr>\n",
       "    <tr>\n",
       "      <th>2</th>\n",
       "      <td>Let's Get It Up</td>\n",
       "      <td>Angus Young, Malcolm Young, Brian Johnson</td>\n",
       "      <td>233926</td>\n",
       "      <td>7636561</td>\n",
       "      <td>0.99</td>\n",
       "      <td>Rock</td>\n",
       "      <td>For Those About To Rock We Salute You</td>\n",
       "      <td>AC/DC</td>\n",
       "    </tr>\n",
       "    <tr>\n",
       "      <th>3</th>\n",
       "      <td>Inject The Venom</td>\n",
       "      <td>Angus Young, Malcolm Young, Brian Johnson</td>\n",
       "      <td>210834</td>\n",
       "      <td>6852860</td>\n",
       "      <td>0.99</td>\n",
       "      <td>Rock</td>\n",
       "      <td>For Those About To Rock We Salute You</td>\n",
       "      <td>AC/DC</td>\n",
       "    </tr>\n",
       "    <tr>\n",
       "      <th>4</th>\n",
       "      <td>Snowballed</td>\n",
       "      <td>Angus Young, Malcolm Young, Brian Johnson</td>\n",
       "      <td>203102</td>\n",
       "      <td>6599424</td>\n",
       "      <td>0.99</td>\n",
       "      <td>Rock</td>\n",
       "      <td>For Those About To Rock We Salute You</td>\n",
       "      <td>AC/DC</td>\n",
       "    </tr>\n",
       "  </tbody>\n",
       "</table>\n",
       "</div>"
      ],
      "text/plain": [
       "                                     Track  \\\n",
       "0  For Those About To Rock (We Salute You)   \n",
       "1                    Put The Finger On You   \n",
       "2                          Let's Get It Up   \n",
       "3                         Inject The Venom   \n",
       "4                               Snowballed   \n",
       "\n",
       "                                    Composer  Milliseconds     Bytes  \\\n",
       "0  Angus Young, Malcolm Young, Brian Johnson        343719  11170334   \n",
       "1  Angus Young, Malcolm Young, Brian Johnson        205662   6713451   \n",
       "2  Angus Young, Malcolm Young, Brian Johnson        233926   7636561   \n",
       "3  Angus Young, Malcolm Young, Brian Johnson        210834   6852860   \n",
       "4  Angus Young, Malcolm Young, Brian Johnson        203102   6599424   \n",
       "\n",
       "   UnitPrice Genre                                  Album Artist  \n",
       "0       0.99  Rock  For Those About To Rock We Salute You  AC/DC  \n",
       "1       0.99  Rock  For Those About To Rock We Salute You  AC/DC  \n",
       "2       0.99  Rock  For Those About To Rock We Salute You  AC/DC  \n",
       "3       0.99  Rock  For Those About To Rock We Salute You  AC/DC  \n",
       "4       0.99  Rock  For Those About To Rock We Salute You  AC/DC  "
      ]
     },
     "execution_count": 6,
     "metadata": {},
     "output_type": "execute_result"
    }
   ],
   "source": [
    "query = \"\"\"\n",
    "    SELECT \n",
    "        tracks.name as Track,\n",
    "        tracks.composer,\n",
    "        tracks.milliseconds,\n",
    "        tracks.bytes,\n",
    "        tracks.unitprice,\n",
    "        genres.name as Genre,\n",
    "        albums.title as Album,\n",
    "        artists.name as Artist\n",
    "    FROM tracks\n",
    "    JOIN genres ON tracks.genreid = genres.genreid\n",
    "    JOIN albums ON tracks.albumid = albums.albumid\n",
    "    JOIN artists ON albums.artistid = artists.artistid\n",
    "\"\"\"\n",
    "with engine.connect() as connection:\n",
    "    sql_df = pd.read_sql(query, connection)\n",
    "    \n",
    "sql_df.head()"
   ]
  },
  {
   "cell_type": "markdown",
   "id": "094828a6-c27a-4eff-9259-35050bd70ddd",
   "metadata": {},
   "source": [
    "Os três _dataframes_ carregados acima são combinados em um único conjunto de dados por meio do método `concat` da biblioteca **Pandas**:"
   ]
  },
  {
   "cell_type": "code",
   "execution_count": 7,
   "id": "23285ffa-81e3-4a19-b94b-b8772ddffa59",
   "metadata": {},
   "outputs": [],
   "source": [
    "itunes_df = pd.concat([csv_df, excel_df, sql_df])\n",
    "itunes_df.reset_index(inplace=True, drop=True)"
   ]
  },
  {
   "cell_type": "markdown",
   "id": "2f16db9b-ce44-46cd-a054-a9ce8c76c28f",
   "metadata": {},
   "source": [
    "## Análise Exploratória de Dados"
   ]
  },
  {
   "cell_type": "markdown",
   "id": "80e5eb31-5c21-4c74-9fbb-947d21e93040",
   "metadata": {},
   "source": [
    "Nesta seção, serão realizadas algumas operações básicas de Análise Exploratória de dados (_Exploratory Data Analysis - EDA_), tais como:\n",
    "\n",
    "* Examinar as dimensões do conjunto de dados\n",
    "* Examinar as extremidades superior e inferior dos dados\n",
    "* Examinar os tipos de dados e dados faltantes\n",
    "* Investigar propriedades estatísticas dos dados\n",
    "* Criar algumas visualizações gráficas dos dados"
   ]
  },
  {
   "cell_type": "markdown",
   "id": "3ac22ca4-9a5f-454b-adb3-a1bb0f82ebe0",
   "metadata": {},
   "source": [
    "### Propriedades gerais dos dados"
   ]
  },
  {
   "cell_type": "markdown",
   "id": "11b7b22a-c9f2-428d-9da5-13e37cfd2946",
   "metadata": {},
   "source": [
    "Os três primeiros items da lista acima correspondem a propriedade gerais/estruturais dos dados. Quanto ao primeiro item da lista acima, utiliza-se a propriedade `shape` de uma _dataframe_ pandas verificar o número de observações (linhas) e o número de variáveis (colunas) do conjunto de dados. A propriedade `shape` returna um objeto python de tipo **tupla**, cujos elementos corespondem ao número de linhas e ao número de colunas, respectivamente do _dataframe_."
   ]
  },
  {
   "cell_type": "code",
   "execution_count": 8,
   "id": "858ef75a-3035-4f37-9a18-306b3c20018e",
   "metadata": {},
   "outputs": [
    {
     "data": {
      "text/plain": [
       "(4021, 8)"
      ]
     },
     "execution_count": 8,
     "metadata": {},
     "output_type": "execute_result"
    }
   ],
   "source": [
    "itunes_df.shape"
   ]
  },
  {
   "cell_type": "markdown",
   "id": "8b1edb5a-17de-40fc-b33b-b5d547773b70",
   "metadata": {},
   "source": [
    "O passo seguinte é a inspeção visual dos dados, o que pode ser feito por meio dos métodos `head` e `tail`, repectivamente para os cinco primeiros e cinco últimos reristros:"
   ]
  },
  {
   "cell_type": "code",
   "execution_count": 9,
   "id": "aa1fa6da-cf45-4f65-9e6d-281025047726",
   "metadata": {},
   "outputs": [
    {
     "data": {
      "text/html": [
       "<div>\n",
       "<style scoped>\n",
       "    .dataframe tbody tr th:only-of-type {\n",
       "        vertical-align: middle;\n",
       "    }\n",
       "\n",
       "    .dataframe tbody tr th {\n",
       "        vertical-align: top;\n",
       "    }\n",
       "\n",
       "    .dataframe thead th {\n",
       "        text-align: right;\n",
       "    }\n",
       "</style>\n",
       "<table border=\"1\" class=\"dataframe\">\n",
       "  <thead>\n",
       "    <tr style=\"text-align: right;\">\n",
       "      <th></th>\n",
       "      <th>Track</th>\n",
       "      <th>Composer</th>\n",
       "      <th>Milliseconds</th>\n",
       "      <th>Bytes</th>\n",
       "      <th>UnitPrice</th>\n",
       "      <th>Genre</th>\n",
       "      <th>Album</th>\n",
       "      <th>Artist</th>\n",
       "    </tr>\n",
       "  </thead>\n",
       "  <tbody>\n",
       "    <tr>\n",
       "      <th>0</th>\n",
       "      <td>All the Best Cowboys Have Daddy Issues</td>\n",
       "      <td>NaN</td>\n",
       "      <td>2555492</td>\n",
       "      <td>211743651</td>\n",
       "      <td>1.99</td>\n",
       "      <td>TV Shows</td>\n",
       "      <td>Lost, Season 1</td>\n",
       "      <td>Lost</td>\n",
       "    </tr>\n",
       "    <tr>\n",
       "      <th>1</th>\n",
       "      <td>Beira Mar</td>\n",
       "      <td>Gilberto Gil</td>\n",
       "      <td>295444</td>\n",
       "      <td>9597994</td>\n",
       "      <td>0.99</td>\n",
       "      <td>Latin</td>\n",
       "      <td>Unplugged</td>\n",
       "      <td>Eric Clapton</td>\n",
       "    </tr>\n",
       "    <tr>\n",
       "      <th>2</th>\n",
       "      <td>Brasil</td>\n",
       "      <td>Milton Nascimento, Fernando Brant</td>\n",
       "      <td>155428</td>\n",
       "      <td>5252560</td>\n",
       "      <td>0.99</td>\n",
       "      <td>Latin</td>\n",
       "      <td>Milton Nascimento Ao Vivo</td>\n",
       "      <td>Milton Nascimento</td>\n",
       "    </tr>\n",
       "    <tr>\n",
       "      <th>3</th>\n",
       "      <td>Ben Franklin</td>\n",
       "      <td>NaN</td>\n",
       "      <td>1271938</td>\n",
       "      <td>264168080</td>\n",
       "      <td>1.99</td>\n",
       "      <td>Comedy</td>\n",
       "      <td>The Office, Season 3</td>\n",
       "      <td>The Office</td>\n",
       "    </tr>\n",
       "    <tr>\n",
       "      <th>4</th>\n",
       "      <td>O Último Romântico (Ao Vivo)</td>\n",
       "      <td>NaN</td>\n",
       "      <td>231993</td>\n",
       "      <td>7692697</td>\n",
       "      <td>0.99</td>\n",
       "      <td>Latin</td>\n",
       "      <td>Lulu Santos - RCA 100 Anos De Música - Álbum 02</td>\n",
       "      <td>Lulu Santos</td>\n",
       "    </tr>\n",
       "  </tbody>\n",
       "</table>\n",
       "</div>"
      ],
      "text/plain": [
       "                                    Track                           Composer  \\\n",
       "0  All the Best Cowboys Have Daddy Issues                                NaN   \n",
       "1                               Beira Mar                       Gilberto Gil   \n",
       "2                                  Brasil  Milton Nascimento, Fernando Brant   \n",
       "3                            Ben Franklin                                NaN   \n",
       "4            O Último Romântico (Ao Vivo)                                NaN   \n",
       "\n",
       "   Milliseconds      Bytes  UnitPrice     Genre  \\\n",
       "0       2555492  211743651       1.99  TV Shows   \n",
       "1        295444    9597994       0.99     Latin   \n",
       "2        155428    5252560       0.99     Latin   \n",
       "3       1271938  264168080       1.99    Comedy   \n",
       "4        231993    7692697       0.99     Latin   \n",
       "\n",
       "                                             Album             Artist  \n",
       "0                                   Lost, Season 1               Lost  \n",
       "1                                        Unplugged       Eric Clapton  \n",
       "2                        Milton Nascimento Ao Vivo  Milton Nascimento  \n",
       "3                             The Office, Season 3         The Office  \n",
       "4  Lulu Santos - RCA 100 Anos De Música - Álbum 02        Lulu Santos  "
      ]
     },
     "execution_count": 9,
     "metadata": {},
     "output_type": "execute_result"
    }
   ],
   "source": [
    "itunes_df.head()"
   ]
  },
  {
   "cell_type": "code",
   "execution_count": 10,
   "id": "58fc26e3-f681-4891-8e1f-f241807110e7",
   "metadata": {},
   "outputs": [
    {
     "data": {
      "text/html": [
       "<div>\n",
       "<style scoped>\n",
       "    .dataframe tbody tr th:only-of-type {\n",
       "        vertical-align: middle;\n",
       "    }\n",
       "\n",
       "    .dataframe tbody tr th {\n",
       "        vertical-align: top;\n",
       "    }\n",
       "\n",
       "    .dataframe thead th {\n",
       "        text-align: right;\n",
       "    }\n",
       "</style>\n",
       "<table border=\"1\" class=\"dataframe\">\n",
       "  <thead>\n",
       "    <tr style=\"text-align: right;\">\n",
       "      <th></th>\n",
       "      <th>Track</th>\n",
       "      <th>Composer</th>\n",
       "      <th>Milliseconds</th>\n",
       "      <th>Bytes</th>\n",
       "      <th>UnitPrice</th>\n",
       "      <th>Genre</th>\n",
       "      <th>Album</th>\n",
       "      <th>Artist</th>\n",
       "    </tr>\n",
       "  </thead>\n",
       "  <tbody>\n",
       "    <tr>\n",
       "      <th>4016</th>\n",
       "      <td>Pini Di Roma (Pinien Von Rom) \\ I Pini Della V...</td>\n",
       "      <td>None</td>\n",
       "      <td>286741</td>\n",
       "      <td>4718950</td>\n",
       "      <td>0.99</td>\n",
       "      <td>Classical</td>\n",
       "      <td>Respighi:Pines of Rome</td>\n",
       "      <td>Eugene Ormandy</td>\n",
       "    </tr>\n",
       "    <tr>\n",
       "      <th>4017</th>\n",
       "      <td>String Quartet No. 12 in C Minor, D. 703 \"Quar...</td>\n",
       "      <td>Franz Schubert</td>\n",
       "      <td>139200</td>\n",
       "      <td>2283131</td>\n",
       "      <td>0.99</td>\n",
       "      <td>Classical</td>\n",
       "      <td>Schubert: The Late String Quartets &amp; String Qu...</td>\n",
       "      <td>Emerson String Quartet</td>\n",
       "    </tr>\n",
       "    <tr>\n",
       "      <th>4018</th>\n",
       "      <td>L'orfeo, Act 3, Sinfonia (Orchestra)</td>\n",
       "      <td>Claudio Monteverdi</td>\n",
       "      <td>66639</td>\n",
       "      <td>1189062</td>\n",
       "      <td>0.99</td>\n",
       "      <td>Classical</td>\n",
       "      <td>Monteverdi: L'Orfeo</td>\n",
       "      <td>C. Monteverdi, Nigel Rogers - Chiaroscuro; Lon...</td>\n",
       "    </tr>\n",
       "    <tr>\n",
       "      <th>4019</th>\n",
       "      <td>Quintet for Horn, Violin, 2 Violas, and Cello ...</td>\n",
       "      <td>Wolfgang Amadeus Mozart</td>\n",
       "      <td>221331</td>\n",
       "      <td>3665114</td>\n",
       "      <td>0.99</td>\n",
       "      <td>Classical</td>\n",
       "      <td>Mozart: Chamber Music</td>\n",
       "      <td>Nash Ensemble</td>\n",
       "    </tr>\n",
       "    <tr>\n",
       "      <th>4020</th>\n",
       "      <td>Koyaanisqatsi</td>\n",
       "      <td>Philip Glass</td>\n",
       "      <td>206005</td>\n",
       "      <td>3305164</td>\n",
       "      <td>0.99</td>\n",
       "      <td>Soundtrack</td>\n",
       "      <td>Koyaanisqatsi (Soundtrack from the Motion Pict...</td>\n",
       "      <td>Philip Glass Ensemble</td>\n",
       "    </tr>\n",
       "  </tbody>\n",
       "</table>\n",
       "</div>"
      ],
      "text/plain": [
       "                                                  Track  \\\n",
       "4016  Pini Di Roma (Pinien Von Rom) \\ I Pini Della V...   \n",
       "4017  String Quartet No. 12 in C Minor, D. 703 \"Quar...   \n",
       "4018               L'orfeo, Act 3, Sinfonia (Orchestra)   \n",
       "4019  Quintet for Horn, Violin, 2 Violas, and Cello ...   \n",
       "4020                                      Koyaanisqatsi   \n",
       "\n",
       "                     Composer  Milliseconds    Bytes  UnitPrice       Genre  \\\n",
       "4016                     None        286741  4718950       0.99   Classical   \n",
       "4017           Franz Schubert        139200  2283131       0.99   Classical   \n",
       "4018       Claudio Monteverdi         66639  1189062       0.99   Classical   \n",
       "4019  Wolfgang Amadeus Mozart        221331  3665114       0.99   Classical   \n",
       "4020             Philip Glass        206005  3305164       0.99  Soundtrack   \n",
       "\n",
       "                                                  Album  \\\n",
       "4016                             Respighi:Pines of Rome   \n",
       "4017  Schubert: The Late String Quartets & String Qu...   \n",
       "4018                                Monteverdi: L'Orfeo   \n",
       "4019                              Mozart: Chamber Music   \n",
       "4020  Koyaanisqatsi (Soundtrack from the Motion Pict...   \n",
       "\n",
       "                                                 Artist  \n",
       "4016                                     Eugene Ormandy  \n",
       "4017                             Emerson String Quartet  \n",
       "4018  C. Monteverdi, Nigel Rogers - Chiaroscuro; Lon...  \n",
       "4019                                      Nash Ensemble  \n",
       "4020                              Philip Glass Ensemble  "
      ]
     },
     "execution_count": 10,
     "metadata": {},
     "output_type": "execute_result"
    }
   ],
   "source": [
    "itunes_df.tail()"
   ]
  },
  {
   "cell_type": "markdown",
   "id": "266a5c72-9d0b-43bb-8fb5-957c98e46510",
   "metadata": {},
   "source": [
    "O método `info` permite verificar dados faltantes bem como os tipos de dados das variáveis do _dataframe_ **itunes_df**"
   ]
  },
  {
   "cell_type": "code",
   "execution_count": 11,
   "id": "8396b33e-6a14-4ab5-b19f-8850b3186926",
   "metadata": {},
   "outputs": [
    {
     "name": "stdout",
     "output_type": "stream",
     "text": [
      "<class 'pandas.core.frame.DataFrame'>\n",
      "RangeIndex: 4021 entries, 0 to 4020\n",
      "Data columns (total 8 columns):\n",
      " #   Column        Non-Null Count  Dtype  \n",
      "---  ------        --------------  -----  \n",
      " 0   Track         4021 non-null   object \n",
      " 1   Composer      2908 non-null   object \n",
      " 2   Milliseconds  4021 non-null   int64  \n",
      " 3   Bytes         4021 non-null   int64  \n",
      " 4   UnitPrice     4021 non-null   float64\n",
      " 5   Genre         4021 non-null   object \n",
      " 6   Album         4021 non-null   object \n",
      " 7   Artist        4021 non-null   object \n",
      "dtypes: float64(1), int64(2), object(5)\n",
      "memory usage: 251.4+ KB\n"
     ]
    }
   ],
   "source": [
    "itunes_df.info()"
   ]
  },
  {
   "cell_type": "markdown",
   "id": "ca134785-0c69-479b-8650-35e3c3dae325",
   "metadata": {},
   "source": [
    "A contagem dos registros com valores faltantes para cada uma das variáveis é feita abaixo:"
   ]
  },
  {
   "cell_type": "code",
   "execution_count": 12,
   "id": "65869608-bc4f-4a88-a94a-a70f626048e5",
   "metadata": {},
   "outputs": [
    {
     "data": {
      "text/plain": [
       "Track              0\n",
       "Composer        1113\n",
       "Milliseconds       0\n",
       "Bytes              0\n",
       "UnitPrice          0\n",
       "Genre              0\n",
       "Album              0\n",
       "Artist             0\n",
       "dtype: int64"
      ]
     },
     "execution_count": 12,
     "metadata": {},
     "output_type": "execute_result"
    }
   ],
   "source": [
    "itunes_df.isna().sum()"
   ]
  },
  {
   "cell_type": "markdown",
   "id": "0ac8c126-fdc3-4bbb-a15f-72e5dec5144b",
   "metadata": {},
   "source": [
    "### Propriedades estatísticas dos dados"
   ]
  },
  {
   "cell_type": "markdown",
   "id": "70d2ce22-5dc5-4597-8b23-19ecbe5154b4",
   "metadata": {},
   "source": [
    "O mais básico resumo estatístico do conjunto de dados é obtido por meio do método `describe`, o qual retorna contagem e medidas estatíticas de posição e de dispersão dos dados de tipo numérico:"
   ]
  },
  {
   "cell_type": "code",
   "execution_count": 13,
   "id": "8f0f4ed3-1d5d-4e48-a056-07c991067c8a",
   "metadata": {},
   "outputs": [
    {
     "data": {
      "text/html": [
       "<div>\n",
       "<style scoped>\n",
       "    .dataframe tbody tr th:only-of-type {\n",
       "        vertical-align: middle;\n",
       "    }\n",
       "\n",
       "    .dataframe tbody tr th {\n",
       "        vertical-align: top;\n",
       "    }\n",
       "\n",
       "    .dataframe thead th {\n",
       "        text-align: right;\n",
       "    }\n",
       "</style>\n",
       "<table border=\"1\" class=\"dataframe\">\n",
       "  <thead>\n",
       "    <tr style=\"text-align: right;\">\n",
       "      <th></th>\n",
       "      <th>Milliseconds</th>\n",
       "      <th>Bytes</th>\n",
       "      <th>UnitPrice</th>\n",
       "    </tr>\n",
       "  </thead>\n",
       "  <tbody>\n",
       "    <tr>\n",
       "      <th>count</th>\n",
       "      <td>4.021000e+03</td>\n",
       "      <td>4.021000e+03</td>\n",
       "      <td>4021.000000</td>\n",
       "    </tr>\n",
       "    <tr>\n",
       "      <th>mean</th>\n",
       "      <td>3.927276e+05</td>\n",
       "      <td>3.311048e+07</td>\n",
       "      <td>1.050184</td>\n",
       "    </tr>\n",
       "    <tr>\n",
       "      <th>std</th>\n",
       "      <td>5.337745e+05</td>\n",
       "      <td>1.042268e+08</td>\n",
       "      <td>0.237857</td>\n",
       "    </tr>\n",
       "    <tr>\n",
       "      <th>min</th>\n",
       "      <td>1.071000e+03</td>\n",
       "      <td>3.874700e+04</td>\n",
       "      <td>0.990000</td>\n",
       "    </tr>\n",
       "    <tr>\n",
       "      <th>25%</th>\n",
       "      <td>2.069680e+05</td>\n",
       "      <td>6.372433e+06</td>\n",
       "      <td>0.990000</td>\n",
       "    </tr>\n",
       "    <tr>\n",
       "      <th>50%</th>\n",
       "      <td>2.554770e+05</td>\n",
       "      <td>8.102839e+06</td>\n",
       "      <td>0.990000</td>\n",
       "    </tr>\n",
       "    <tr>\n",
       "      <th>75%</th>\n",
       "      <td>3.217240e+05</td>\n",
       "      <td>1.025143e+07</td>\n",
       "      <td>0.990000</td>\n",
       "    </tr>\n",
       "    <tr>\n",
       "      <th>max</th>\n",
       "      <td>5.286953e+06</td>\n",
       "      <td>1.059546e+09</td>\n",
       "      <td>1.990000</td>\n",
       "    </tr>\n",
       "  </tbody>\n",
       "</table>\n",
       "</div>"
      ],
      "text/plain": [
       "       Milliseconds         Bytes    UnitPrice\n",
       "count  4.021000e+03  4.021000e+03  4021.000000\n",
       "mean   3.927276e+05  3.311048e+07     1.050184\n",
       "std    5.337745e+05  1.042268e+08     0.237857\n",
       "min    1.071000e+03  3.874700e+04     0.990000\n",
       "25%    2.069680e+05  6.372433e+06     0.990000\n",
       "50%    2.554770e+05  8.102839e+06     0.990000\n",
       "75%    3.217240e+05  1.025143e+07     0.990000\n",
       "max    5.286953e+06  1.059546e+09     1.990000"
      ]
     },
     "execution_count": 13,
     "metadata": {},
     "output_type": "execute_result"
    }
   ],
   "source": [
    "itunes_df.describe()"
   ]
  },
  {
   "cell_type": "markdown",
   "id": "00c208b2-2d10-4a5e-b9aa-67380626a8dc",
   "metadata": {},
   "source": [
    "Ainda a respeto dos dados de tipo numérico, o método `corr` fornece uma tabela de correlação de Pearson entre essas variáveis:"
   ]
  },
  {
   "cell_type": "code",
   "execution_count": 14,
   "id": "567ccd85-0743-4d0c-9544-5e2d3655ce7a",
   "metadata": {},
   "outputs": [
    {
     "data": {
      "text/html": [
       "<div>\n",
       "<style scoped>\n",
       "    .dataframe tbody tr th:only-of-type {\n",
       "        vertical-align: middle;\n",
       "    }\n",
       "\n",
       "    .dataframe tbody tr th {\n",
       "        vertical-align: top;\n",
       "    }\n",
       "\n",
       "    .dataframe thead th {\n",
       "        text-align: right;\n",
       "    }\n",
       "</style>\n",
       "<table border=\"1\" class=\"dataframe\">\n",
       "  <thead>\n",
       "    <tr style=\"text-align: right;\">\n",
       "      <th></th>\n",
       "      <th>Milliseconds</th>\n",
       "      <th>Bytes</th>\n",
       "      <th>UnitPrice</th>\n",
       "    </tr>\n",
       "  </thead>\n",
       "  <tbody>\n",
       "    <tr>\n",
       "      <th>Milliseconds</th>\n",
       "      <td>1.000000</td>\n",
       "      <td>0.957791</td>\n",
       "      <td>0.934829</td>\n",
       "    </tr>\n",
       "    <tr>\n",
       "      <th>Bytes</th>\n",
       "      <td>0.957791</td>\n",
       "      <td>1.000000</td>\n",
       "      <td>0.938734</td>\n",
       "    </tr>\n",
       "    <tr>\n",
       "      <th>UnitPrice</th>\n",
       "      <td>0.934829</td>\n",
       "      <td>0.938734</td>\n",
       "      <td>1.000000</td>\n",
       "    </tr>\n",
       "  </tbody>\n",
       "</table>\n",
       "</div>"
      ],
      "text/plain": [
       "              Milliseconds     Bytes  UnitPrice\n",
       "Milliseconds      1.000000  0.957791   0.934829\n",
       "Bytes             0.957791  1.000000   0.938734\n",
       "UnitPrice         0.934829  0.938734   1.000000"
      ]
     },
     "execution_count": 14,
     "metadata": {},
     "output_type": "execute_result"
    }
   ],
   "source": [
    "itunes_df.corr()"
   ]
  },
  {
   "cell_type": "markdown",
   "id": "6e1244bd-433a-4236-849e-3120c08f7fb0",
   "metadata": {},
   "source": [
    "Observa-se que o preço unitário da faixa musical é fortemente correlcionado com a duração da música."
   ]
  },
  {
   "cell_type": "markdown",
   "id": "e989e9c4-a59a-4add-a2bd-414333d78313",
   "metadata": {},
   "source": [
    "Para os dados não numéricos, é possível obter o valor mais frequente por meio do método `mode`. Por exemplo, o gênero musical mais frequente é:"
   ]
  },
  {
   "cell_type": "code",
   "execution_count": 15,
   "id": "5ae56e69-a7c6-4ea2-91e4-434ce9a83fe2",
   "metadata": {},
   "outputs": [
    {
     "data": {
      "text/plain": [
       "0    Rock\n",
       "Name: Genre, dtype: object"
      ]
     },
     "execution_count": 15,
     "metadata": {},
     "output_type": "execute_result"
    }
   ],
   "source": [
    "itunes_df['Genre'].mode()"
   ]
  },
  {
   "cell_type": "markdown",
   "id": "3340e854-7b4b-4037-be37-d7fd80afbdf3",
   "metadata": {},
   "source": [
    "O comando seguinte resulta numa tabela de frequências dos gêneros musicais:"
   ]
  },
  {
   "cell_type": "code",
   "execution_count": 16,
   "id": "26f28977-fd23-4d59-a9ea-bb7b673c0df2",
   "metadata": {},
   "outputs": [
    {
     "data": {
      "text/plain": [
       "Rock                  1498\n",
       "Latin                  656\n",
       "Metal                  420\n",
       "Alternative & Punk     393\n",
       "Jazz                   160\n",
       "TV Shows               105\n",
       "Blues                   92\n",
       "Classical               85\n",
       "Drama                   71\n",
       "R&B/Soul                69\n",
       "Reggae                  64\n",
       "Pop                     51\n",
       "Soundtrack              50\n",
       "Alternative             45\n",
       "Hip Hop/Rap             40\n",
       "Electronica/Dance       35\n",
       "World                   32\n",
       "Heavy Metal             31\n",
       "Sci Fi & Fantasy        31\n",
       "Easy Listening          28\n",
       "Comedy                  20\n",
       "Bossa Nova              17\n",
       "Science Fiction         15\n",
       "Rock And Roll           12\n",
       "Opera                    1\n",
       "Name: Genre, dtype: int64"
      ]
     },
     "execution_count": 16,
     "metadata": {},
     "output_type": "execute_result"
    }
   ],
   "source": [
    "itunes_df['Genre'].value_counts()"
   ]
  },
  {
   "cell_type": "markdown",
   "id": "4ec4b047-622b-4bff-a0bd-55da7e071907",
   "metadata": {},
   "source": [
    "O próximo comando fornece a quantidade de artistas presentes no _dataset_:"
   ]
  },
  {
   "cell_type": "code",
   "execution_count": 17,
   "id": "08064d0a-0fd5-4f20-bc0a-55bca693653c",
   "metadata": {},
   "outputs": [
    {
     "data": {
      "text/plain": [
       "204"
      ]
     },
     "execution_count": 17,
     "metadata": {},
     "output_type": "execute_result"
    }
   ],
   "source": [
    "itunes_df['Artist'].unique().shape[0]"
   ]
  },
  {
   "cell_type": "markdown",
   "id": "ee2609da-9595-483d-ba88-9bdb337ed018",
   "metadata": {},
   "source": [
    "### Viaualizações gráficas dos dados"
   ]
  },
  {
   "cell_type": "markdown",
   "id": "e5989d09-a604-4b2f-a411-b699a81875a7",
   "metadata": {},
   "source": [
    "A primeira visualização gráfica realizada nesta seção é um histograma da distribuição dos dados de duração das faixas musicais:"
   ]
  },
  {
   "cell_type": "code",
   "execution_count": 18,
   "id": "a7eb9ffc-e71e-4937-8318-a58f44880c8f",
   "metadata": {},
   "outputs": [
    {
     "data": {
      "image/png": "[encoded data removed]",
      "text/plain": [
       "<Figure size 576x396 with 1 Axes>"
      ]
     },
     "metadata": {},
     "output_type": "display_data"
    }
   ],
   "source": [
    "ax = itunes_df['Milliseconds'].hist(bins=30, edgecolor='white')\n",
    "ax.set_title('Histograma da duração das faixas musicais')\n",
    "ax.set_xlabel('Duração (milisegundos)')\n",
    "ax.set_ylabel('Frequência')\n",
    "plt.show()"
   ]
  },
  {
   "cell_type": "code",
   "execution_count": 19,
   "id": "3f8dc077-576c-499c-ae6c-21e3ac11839f",
   "metadata": {},
   "outputs": [
    {
     "data": {
      "text/plain": [
       "count    4.021000e+03\n",
       "mean     3.927276e+05\n",
       "std      5.337745e+05\n",
       "min      1.071000e+03\n",
       "25%      2.069680e+05\n",
       "50%      2.554770e+05\n",
       "75%      3.217240e+05\n",
       "max      5.286953e+06\n",
       "Name: Milliseconds, dtype: float64"
      ]
     },
     "execution_count": 19,
     "metadata": {},
     "output_type": "execute_result"
    }
   ],
   "source": [
    "itunes_df['Milliseconds'].describe()"
   ]
  },
  {
   "cell_type": "markdown",
   "id": "f6c7f60b-7d0c-4607-8376-f5065d7370f2",
   "metadata": {},
   "source": [
    "Quanto aos gêneros musicais, o próximo gráfico reforça o _rock_ como gênero mais ouviso."
   ]
  },
  {
   "cell_type": "code",
   "execution_count": 20,
   "id": "a993a7b5-d90f-40bb-aa88-9b2e803816a6",
   "metadata": {},
   "outputs": [
    {
     "data": {
      "image/png": "[encoded data removed]",
      "text/plain": [
       "<Figure size 576x396 with 1 Axes>"
      ]
     },
     "metadata": {},
     "output_type": "display_data"
    }
   ],
   "source": [
    "ax = itunes_df['Genre'].value_counts().plot.bar()\n",
    "ax.set_title('Quantidade de músicas por gênero')\n",
    "ax.set_xlabel('Gênero Musical')\n",
    "ax.set_ylabel('Quantidade')\n",
    "plt.show()"
   ]
  },
  {
   "cell_type": "markdown",
   "id": "7de51d36-5dd7-4423-8256-d74e0addb869",
   "metadata": {},
   "source": [
    "Por sua vez, os compositores mais relevantes em número de músicas foram:"
   ]
  },
  {
   "cell_type": "code",
   "execution_count": 21,
   "id": "1ef20c83-fac4-4875-a6e8-6ed31328da0a",
   "metadata": {},
   "outputs": [
    {
     "data": {
      "image/png": "[encoded data removed]",
      "text/plain": [
       "<Figure size 576x396 with 1 Axes>"
      ]
     },
     "metadata": {},
     "output_type": "display_data"
    }
   ],
   "source": [
    "ax = itunes_df['Composer'].value_counts()[:10].plot.bar()\n",
    "ax.set_title('10 compositores mais relevantes')\n",
    "ax.set_xlabel('Compositor')\n",
    "ax.set_ylabel('Quantidade')\n",
    "plt.show()"
   ]
  },
  {
   "cell_type": "markdown",
   "id": "13d49137-ba53-4de6-97a9-30a955126597",
   "metadata": {},
   "source": [
    "## Limpeza de Dados"
   ]
  },
  {
   "cell_type": "markdown",
   "id": "acc03e9d-3e80-470d-af2d-91e5158a1941",
   "metadata": {},
   "source": [
    "Esta etapa compreende as seguintes etapas:\n",
    "\n",
    "* Remoção de dados irrelevantes\n",
    "* Tratamento de valores duplicados\n",
    "* Tratamento de dados faltantes (substituição ou exclusão de itens)\n",
    "* Tratamento de valores extremos (_outliers_)\n",
    "* Checagem de que os tipos de dados estejam corretos\n",
    "* Padronização de formatos de dados (por exemplo, capitalização incompatível, unidades de conversão)"
   ]
  },
  {
   "cell_type": "markdown",
   "id": "71c16bbe-c117-4644-952e-5c3ce3d79cf0",
   "metadata": {},
   "source": [
    "### Filtragem de dados do _dataframe_"
   ]
  },
  {
   "cell_type": "markdown",
   "id": "727d39e1-1a9e-410e-a5a8-e56d15168d23",
   "metadata": {},
   "source": [
    "Quando da criação do histograma da distribuição de duração das músicas na seção anterior, foi observado que a grande maioria das músicas tinha até 1.000.000 milisegundos. Entretanto, algumas músicas tinham duração muito maior. De fato o resumo estatístico abaixo mostra a música de maior duração tem aproximadamente $5,29 \\cdot 10^6$ milisegundos enquanto que 75% das musicas tem menos de $3,21 \\cdot 10^5$ milisegundos."
   ]
  },
  {
   "cell_type": "code",
   "execution_count": 22,
   "id": "686671f0-f037-456c-816d-742d114730e9",
   "metadata": {},
   "outputs": [
    {
     "data": {
      "text/plain": [
       "count    4.021000e+03\n",
       "mean     3.927276e+05\n",
       "std      5.337745e+05\n",
       "min      1.071000e+03\n",
       "25%      2.069680e+05\n",
       "50%      2.554770e+05\n",
       "75%      3.217240e+05\n",
       "max      5.286953e+06\n",
       "Name: Milliseconds, dtype: float64"
      ]
     },
     "execution_count": 22,
     "metadata": {},
     "output_type": "execute_result"
    }
   ],
   "source": [
    "itunes_df['Milliseconds'].describe()"
   ]
  },
  {
   "cell_type": "markdown",
   "id": "e1138728-930d-4571-a694-b6e72468907c",
   "metadata": {},
   "source": [
    "Nesse sentido, cabe perguntar quais são as músicas mais longas. Considerando o ponto de corte \"arbitrário\" de $4,0 \\cdot 10^5$ milisegundos, temos:"
   ]
  },
  {
   "cell_type": "code",
   "execution_count": 23,
   "id": "350b1043-f0fd-4df3-9523-43d686a42db5",
   "metadata": {},
   "outputs": [
    {
     "data": {
      "text/html": [
       "<div>\n",
       "<style scoped>\n",
       "    .dataframe tbody tr th:only-of-type {\n",
       "        vertical-align: middle;\n",
       "    }\n",
       "\n",
       "    .dataframe tbody tr th {\n",
       "        vertical-align: top;\n",
       "    }\n",
       "\n",
       "    .dataframe thead th {\n",
       "        text-align: right;\n",
       "    }\n",
       "</style>\n",
       "<table border=\"1\" class=\"dataframe\">\n",
       "  <thead>\n",
       "    <tr style=\"text-align: right;\">\n",
       "      <th></th>\n",
       "      <th>Track</th>\n",
       "      <th>Composer</th>\n",
       "      <th>Milliseconds</th>\n",
       "      <th>Bytes</th>\n",
       "      <th>UnitPrice</th>\n",
       "      <th>Genre</th>\n",
       "      <th>Album</th>\n",
       "      <th>Artist</th>\n",
       "    </tr>\n",
       "  </thead>\n",
       "  <tbody>\n",
       "    <tr>\n",
       "      <th>3351</th>\n",
       "      <td>Occupation / Precipice</td>\n",
       "      <td>None</td>\n",
       "      <td>5286953</td>\n",
       "      <td>1054423946</td>\n",
       "      <td>1.99</td>\n",
       "      <td>TV Shows</td>\n",
       "      <td>Battlestar Galactica, Season 3</td>\n",
       "      <td>Battlestar Galactica</td>\n",
       "    </tr>\n",
       "    <tr>\n",
       "      <th>3416</th>\n",
       "      <td>Through a Looking Glass</td>\n",
       "      <td>None</td>\n",
       "      <td>5088838</td>\n",
       "      <td>1059546140</td>\n",
       "      <td>1.99</td>\n",
       "      <td>Drama</td>\n",
       "      <td>Lost, Season 3</td>\n",
       "      <td>Lost</td>\n",
       "    </tr>\n",
       "  </tbody>\n",
       "</table>\n",
       "</div>"
      ],
      "text/plain": [
       "                        Track Composer  Milliseconds       Bytes  UnitPrice  \\\n",
       "3351   Occupation / Precipice     None       5286953  1054423946       1.99   \n",
       "3416  Through a Looking Glass     None       5088838  1059546140       1.99   \n",
       "\n",
       "         Genre                           Album                Artist  \n",
       "3351  TV Shows  Battlestar Galactica, Season 3  Battlestar Galactica  \n",
       "3416     Drama                  Lost, Season 3                  Lost  "
      ]
     },
     "execution_count": 23,
     "metadata": {},
     "output_type": "execute_result"
    }
   ],
   "source": [
    "itunes_df[itunes_df['Milliseconds'] > 4e6]"
   ]
  },
  {
   "cell_type": "markdown",
   "id": "2cd7b355-2d6b-43d6-8b7b-14edcf334ee5",
   "metadata": {},
   "source": [
    "Considerando como ponto de corte a duração de $2 \\cdot 10^6$ milisegundos, tem-se as seguintes frequências por gênero:"
   ]
  },
  {
   "cell_type": "code",
   "execution_count": 24,
   "id": "871f7379-044a-45b6-8ea6-b838a82487d9",
   "metadata": {},
   "outputs": [
    {
     "data": {
      "text/plain": [
       "Drama               69\n",
       "TV Shows            67\n",
       "Sci Fi & Fantasy    31\n",
       "Science Fiction     15\n",
       "Comedy               2\n",
       "Name: Genre, dtype: int64"
      ]
     },
     "execution_count": 24,
     "metadata": {},
     "output_type": "execute_result"
    }
   ],
   "source": [
    "itunes_df[itunes_df['Milliseconds'] > 2e6]['Genre'].value_counts()"
   ]
  },
  {
   "cell_type": "markdown",
   "id": "fff80b68-bafb-49a9-8c27-b3ff51856f58",
   "metadata": {},
   "source": [
    "### Remoção de dados irrelevantes"
   ]
  },
  {
   "cell_type": "markdown",
   "id": "8a868ad9-fe81-4981-becf-d7019e2d7136",
   "metadata": {},
   "source": [
    "Se desejamos analisar apenas dados relcionados a músicas, podemos remover do conjunto de dados aqueles referentes a programas de TV, _e-books_ ou shows de comédia."
   ]
  },
  {
   "cell_type": "code",
   "execution_count": 25,
   "id": "78140b6d-caaf-4872-a4c9-8d5ada489374",
   "metadata": {},
   "outputs": [],
   "source": [
    "only_music = itunes_df[~itunes_df['Genre'].isin(['Drama', 'TV Shows', 'Sci Fi & Fantasy', 'Science Fiction', 'Comedy'])]"
   ]
  },
  {
   "cell_type": "code",
   "execution_count": 26,
   "id": "4c80bede-951c-461f-ae6a-b6510db8f232",
   "metadata": {},
   "outputs": [
    {
     "data": {
      "text/plain": [
       "(3779, 8)"
      ]
     },
     "execution_count": 26,
     "metadata": {},
     "output_type": "execute_result"
    }
   ],
   "source": [
    "only_music.shape"
   ]
  },
  {
   "cell_type": "markdown",
   "id": "387e9dd2-d324-41f9-a0cc-1851772d373a",
   "metadata": {},
   "source": [
    "Ficamos com apenas 3779 dados."
   ]
  },
  {
   "cell_type": "markdown",
   "id": "8bf2d1d1-d786-4b80-919e-31009389ab51",
   "metadata": {},
   "source": [
    "### Tratamento de valores duplicados"
   ]
  },
  {
   "cell_type": "markdown",
   "id": "122d077a-4c55-433c-a584-1936597b68a8",
   "metadata": {},
   "source": [
    "Preliminarmente, efeutamos a contagem de dados duplicados no conjunto de dados trabalhado:"
   ]
  },
  {
   "cell_type": "code",
   "execution_count": 27,
   "id": "79ef6620-38c2-4c72-a576-99b96f6851dd",
   "metadata": {},
   "outputs": [
    {
     "data": {
      "text/plain": [
       "489"
      ]
     },
     "execution_count": 27,
     "metadata": {},
     "output_type": "execute_result"
    }
   ],
   "source": [
    "only_music.duplicated().sum()"
   ]
  },
  {
   "cell_type": "markdown",
   "id": "299aed24-bd3f-4d16-b67e-ee2c4f04f078",
   "metadata": {},
   "source": [
    "Essa quantidade de dados duplicados pode ser removida por uso do método `drop_duplicates`:"
   ]
  },
  {
   "cell_type": "code",
   "execution_count": 28,
   "id": "7d69e833-b914-47f3-8ff3-213b31c9ba93",
   "metadata": {},
   "outputs": [
    {
     "name": "stderr",
     "output_type": "stream",
     "text": [
      "C:\\Users\\igoan\\AppData\\Local\\Temp\\ipykernel_4900\\303695726.py:1: SettingWithCopyWarning: \n",
      "A value is trying to be set on a copy of a slice from a DataFrame\n",
      "\n",
      "See the caveats in the documentation: https://pandas.pydata.org/pandas-docs/stable/user_guide/indexing.html#returning-a-view-versus-a-copy\n",
      "  only_music.drop_duplicates(inplace=True)\n"
     ]
    }
   ],
   "source": [
    "only_music.drop_duplicates(inplace=True)"
   ]
  },
  {
   "cell_type": "code",
   "execution_count": 29,
   "id": "61be9358-2a67-4e59-9186-b0eb02933924",
   "metadata": {},
   "outputs": [
    {
     "data": {
      "text/plain": [
       "(3290, 8)"
      ]
     },
     "execution_count": 29,
     "metadata": {},
     "output_type": "execute_result"
    }
   ],
   "source": [
    "only_music.shape"
   ]
  },
  {
   "cell_type": "markdown",
   "id": "50687517-6480-4ca3-8449-f2449b862bea",
   "metadata": {},
   "source": [
    "### Tratamento de dados faltantes"
   ]
  },
  {
   "cell_type": "markdown",
   "id": "fc62f1bf-ab1e-409a-87ef-39aa2a336cc1",
   "metadata": {},
   "source": [
    "Os dados faltantes podem ser tratados por um ou mais das seguintes opções:\n",
    "\n",
    "* Deixá-los como estão\n",
    "* Excluí-los do conjunto de dados\n",
    "* Preenchimento com um valor específico\n",
    "* Substituição por algum valor representativo dos dados (média, moda ou mediana)\n",
    "* Uso de aprendizado de máquina (_machine learning_) para substituição de valores"
   ]
  },
  {
   "cell_type": "markdown",
   "id": "286a672f-4e14-43b6-99f5-470f829a3ced",
   "metadata": {},
   "source": [
    "Como visto anteriormente, a única coluna que apresentava dados nulos era a coluna **Composer**."
   ]
  },
  {
   "cell_type": "code",
   "execution_count": 30,
   "id": "3991c9a6-75cb-4924-8c7e-13e531556747",
   "metadata": {},
   "outputs": [
    {
     "data": {
      "text/html": [
       "<div>\n",
       "<style scoped>\n",
       "    .dataframe tbody tr th:only-of-type {\n",
       "        vertical-align: middle;\n",
       "    }\n",
       "\n",
       "    .dataframe tbody tr th {\n",
       "        vertical-align: top;\n",
       "    }\n",
       "\n",
       "    .dataframe thead th {\n",
       "        text-align: right;\n",
       "    }\n",
       "</style>\n",
       "<table border=\"1\" class=\"dataframe\">\n",
       "  <thead>\n",
       "    <tr style=\"text-align: right;\">\n",
       "      <th></th>\n",
       "      <th>Track</th>\n",
       "      <th>Composer</th>\n",
       "      <th>Milliseconds</th>\n",
       "      <th>Bytes</th>\n",
       "      <th>UnitPrice</th>\n",
       "      <th>Genre</th>\n",
       "      <th>Album</th>\n",
       "      <th>Artist</th>\n",
       "    </tr>\n",
       "  </thead>\n",
       "  <tbody>\n",
       "    <tr>\n",
       "      <th>1477</th>\n",
       "      <td>A Small Victory</td>\n",
       "      <td>None</td>\n",
       "      <td>297168</td>\n",
       "      <td>9733572</td>\n",
       "      <td>0.99</td>\n",
       "      <td>Alternative &amp; Punk</td>\n",
       "      <td>Angel Dust</td>\n",
       "      <td>Faith No More</td>\n",
       "    </tr>\n",
       "    <tr>\n",
       "      <th>1163</th>\n",
       "      <td>Samba Da Bênção</td>\n",
       "      <td>None</td>\n",
       "      <td>409965</td>\n",
       "      <td>13490008</td>\n",
       "      <td>0.99</td>\n",
       "      <td>Bossa Nova</td>\n",
       "      <td>Vinícius De Moraes - Sem Limite</td>\n",
       "      <td>Toquinho &amp; Vinícius</td>\n",
       "    </tr>\n",
       "    <tr>\n",
       "      <th>3974</th>\n",
       "      <td>You Know I'm No Good</td>\n",
       "      <td>None</td>\n",
       "      <td>256946</td>\n",
       "      <td>4133694</td>\n",
       "      <td>0.99</td>\n",
       "      <td>R&amp;B/Soul</td>\n",
       "      <td>Back to Black</td>\n",
       "      <td>Amy Winehouse</td>\n",
       "    </tr>\n",
       "    <tr>\n",
       "      <th>846</th>\n",
       "      <td>Cada Um Cada Um (A Namoradeira)</td>\n",
       "      <td>None</td>\n",
       "      <td>253492</td>\n",
       "      <td>8441034</td>\n",
       "      <td>0.99</td>\n",
       "      <td>Latin</td>\n",
       "      <td>Na Pista</td>\n",
       "      <td>Cláudio Zoli</td>\n",
       "    </tr>\n",
       "    <tr>\n",
       "      <th>1377</th>\n",
       "      <td>Eu Te Devoro</td>\n",
       "      <td>None</td>\n",
       "      <td>311614</td>\n",
       "      <td>10312775</td>\n",
       "      <td>0.99</td>\n",
       "      <td>Latin</td>\n",
       "      <td>Djavan Ao Vivo - Vol. 02</td>\n",
       "      <td>Djavan</td>\n",
       "    </tr>\n",
       "  </tbody>\n",
       "</table>\n",
       "</div>"
      ],
      "text/plain": [
       "                                Track Composer  Milliseconds     Bytes  \\\n",
       "1477                  A Small Victory     None        297168   9733572   \n",
       "1163                  Samba Da Bênção     None        409965  13490008   \n",
       "3974             You Know I'm No Good     None        256946   4133694   \n",
       "846   Cada Um Cada Um (A Namoradeira)     None        253492   8441034   \n",
       "1377                     Eu Te Devoro     None        311614  10312775   \n",
       "\n",
       "      UnitPrice               Genre                            Album  \\\n",
       "1477       0.99  Alternative & Punk                       Angel Dust   \n",
       "1163       0.99          Bossa Nova  Vinícius De Moraes - Sem Limite   \n",
       "3974       0.99            R&B/Soul                    Back to Black   \n",
       "846        0.99               Latin                         Na Pista   \n",
       "1377       0.99               Latin         Djavan Ao Vivo - Vol. 02   \n",
       "\n",
       "                   Artist  \n",
       "1477        Faith No More  \n",
       "1163  Toquinho & Vinícius  \n",
       "3974        Amy Winehouse  \n",
       "846          Cláudio Zoli  \n",
       "1377               Djavan  "
      ]
     },
     "execution_count": 30,
     "metadata": {},
     "output_type": "execute_result"
    }
   ],
   "source": [
    "only_music[only_music['Composer'].isna()].sample(5, random_state=42).head()"
   ]
  },
  {
   "cell_type": "markdown",
   "id": "0d7f994b-2fd0-4dc8-a3e7-876ee3f1b918",
   "metadata": {},
   "source": [
    "Neste caso, podemos substituir os valores faltantes por 'Unknown' como mostrado a seguir:"
   ]
  },
  {
   "cell_type": "code",
   "execution_count": 31,
   "id": "455cd1ac-8d2b-4f72-b10b-375e9550b857",
   "metadata": {},
   "outputs": [],
   "source": [
    "only_music.loc[only_music['Composer'].isna(), 'Composer'] = 'Unknown'"
   ]
  },
  {
   "cell_type": "markdown",
   "id": "67daa753-5423-4875-b315-2d7d334cdea2",
   "metadata": {},
   "source": [
    "### Tratamento de valores extremos (_outliers_)"
   ]
  },
  {
   "cell_type": "markdown",
   "id": "da18715c-d611-48a5-bec7-3e29c8700a24",
   "metadata": {},
   "source": [
    "Um método bastante comum para detecção de _outliers_ para dados numéricos tem como base o Intervalo Interquartil ($IQR$), definido como a diferença entre o primeiro e o terceiro quaris. Por esse método, um valor extremo é definido como aquele dado cujo valor é $1,5 \\cdot IQR$ superior ao terceiro quartil ($Q_3$) ou $1,5 \\cdot IQR$ inferior ao primeiro quartil ($Q_1$). Por esse método, os dados não extremos estão entre os seguintes valores:\n",
    "\n",
    "$$upper\\_boundary = Q_3 + 1,5 \\cdot IQR$$\n",
    "e\n",
    "$$lower\\_boundary = Q_1 - 1,5 \\cdot IQR$$"
   ]
  },
  {
   "cell_type": "markdown",
   "id": "d67ddcad-fac7-404c-a242-987e2d29a78f",
   "metadata": {},
   "source": [
    "O _script_ abaixo mostra uma função para remoção de _outliers_ de uma daterminada coluna de um _dataframe_."
   ]
  },
  {
   "cell_type": "code",
   "execution_count": 32,
   "id": "78cdd91b-ac2b-4d7f-8499-0f6b739d03f7",
   "metadata": {},
   "outputs": [],
   "source": [
    "def remove_outliers(df, column):\n",
    "    q1 = df[column].quantile(0.25)\n",
    "    q3 = df[column].quantile(0.75)\n",
    "    iqr = q3 - q1\n",
    "    upper_boundary = q3 + 1.5 * iqr\n",
    "    lower_boundary = q1 - 1.5 * iqr\n",
    "    new_df = df.loc[(df[column] > lower_boundary) & \\\n",
    "                    (df[column] < upper_boundary)]\n",
    "    return new_df"
   ]
  },
  {
   "cell_type": "code",
   "execution_count": 33,
   "id": "609b7615-a1f0-44f5-8d7b-68cc57c774cb",
   "metadata": {},
   "outputs": [],
   "source": [
    "only_music_clean = remove_outliers(only_music, 'Milliseconds')"
   ]
  },
  {
   "cell_type": "code",
   "execution_count": 34,
   "id": "61424fc9-541e-4f72-a0f6-6eef91adf32b",
   "metadata": {},
   "outputs": [
    {
     "data": {
      "text/plain": [
       "(3096, 8)"
      ]
     },
     "execution_count": 34,
     "metadata": {},
     "output_type": "execute_result"
    }
   ],
   "source": [
    "only_music_clean.shape"
   ]
  },
  {
   "cell_type": "code",
   "execution_count": 35,
   "id": "1a98fe6f-3e31-41ed-96ba-3b9b566a7af5",
   "metadata": {},
   "outputs": [
    {
     "data": {
      "image/png": "[encoded data removed]",
      "text/plain": [
       "<Figure size 720x288 with 2 Axes>"
      ]
     },
     "metadata": {},
     "output_type": "display_data"
    }
   ],
   "source": [
    "fig, ax = plt.subplots(1,2, figsize=(10, 4))\n",
    "only_music['Milliseconds'].hist(bins=30, edgecolor='white', ax=ax[0])\n",
    "ax[0].set_xlabel('Duração')\n",
    "ax[0].set_ylabel('Frequência')\n",
    "only_music_clean['Milliseconds'].hist(bins=30, edgecolor='white', ax=ax[1])\n",
    "ax[1].set_xlabel('Duração')\n",
    "ax[1].set_ylabel('Frequência')\n",
    "plt.show()"
   ]
  },
  {
   "cell_type": "markdown",
   "id": "8d698934-45b7-4f91-8fdf-9518ba4fe457",
   "metadata": {},
   "source": [
    "### Checagem de que os tipos de dados estejam corretos"
   ]
  },
  {
   "cell_type": "code",
   "execution_count": 36,
   "id": "6b330a64-576b-4439-8297-7ed247a458e0",
   "metadata": {},
   "outputs": [
    {
     "name": "stdout",
     "output_type": "stream",
     "text": [
      "<class 'pandas.core.frame.DataFrame'>\n",
      "Int64Index: 3096 entries, 1 to 4020\n",
      "Data columns (total 8 columns):\n",
      " #   Column        Non-Null Count  Dtype  \n",
      "---  ------        --------------  -----  \n",
      " 0   Track         3096 non-null   object \n",
      " 1   Composer      3096 non-null   object \n",
      " 2   Milliseconds  3096 non-null   int64  \n",
      " 3   Bytes         3096 non-null   int64  \n",
      " 4   UnitPrice     3096 non-null   float64\n",
      " 5   Genre         3096 non-null   object \n",
      " 6   Album         3096 non-null   object \n",
      " 7   Artist        3096 non-null   object \n",
      "dtypes: float64(1), int64(2), object(5)\n",
      "memory usage: 217.7+ KB\n"
     ]
    }
   ],
   "source": [
    "only_music_clean.info()"
   ]
  },
  {
   "cell_type": "code",
   "execution_count": 37,
   "id": "a7e20df9-bf85-4aee-86f8-8620a5603b44",
   "metadata": {},
   "outputs": [],
   "source": [
    "itunes_df['Milliseconds'] = itunes_df['Milliseconds'].astype('int')"
   ]
  },
  {
   "cell_type": "markdown",
   "id": "2fefcf40-684e-4ffa-b0d0-1191fb9c9c09",
   "metadata": {
    "tags": []
   },
   "source": [
    "## Transformação dos Dados"
   ]
  },
  {
   "cell_type": "markdown",
   "id": "55409cf6-5b98-4423-ba2e-cc42443082a5",
   "metadata": {},
   "source": [
    "### Criação de novas colunas"
   ]
  },
  {
   "cell_type": "code",
   "execution_count": 46,
   "id": "7bc54d1f-2975-4a5f-bdde-d1cad699d5a1",
   "metadata": {},
   "outputs": [
    {
     "name": "stderr",
     "output_type": "stream",
     "text": [
      "C:\\Users\\igoan\\AppData\\Local\\Temp\\ipykernel_4900\\1481472810.py:1: SettingWithCopyWarning: \n",
      "A value is trying to be set on a copy of a slice from a DataFrame.\n",
      "Try using .loc[row_indexer,col_indexer] = value instead\n",
      "\n",
      "See the caveats in the documentation: https://pandas.pydata.org/pandas-docs/stable/user_guide/indexing.html#returning-a-view-versus-a-copy\n",
      "  only_music_clean['Seconds'] = only_music_clean['Milliseconds'] / 1000\n"
     ]
    }
   ],
   "source": [
    "only_music_clean['Seconds'] = only_music_clean['Milliseconds'] / 1000"
   ]
  },
  {
   "cell_type": "code",
   "execution_count": 48,
   "id": "db8afba5-88c3-4186-934e-440cf6a45eeb",
   "metadata": {},
   "outputs": [
    {
     "name": "stderr",
     "output_type": "stream",
     "text": [
      "C:\\Users\\igoan\\AppData\\Local\\Temp\\ipykernel_4900\\2495519754.py:1: SettingWithCopyWarning: \n",
      "A value is trying to be set on a copy of a slice from a DataFrame.\n",
      "Try using .loc[row_indexer,col_indexer] = value instead\n",
      "\n",
      "See the caveats in the documentation: https://pandas.pydata.org/pandas-docs/stable/user_guide/indexing.html#returning-a-view-versus-a-copy\n",
      "  only_music_clean['LenByteRatio'] = only_music_clean['Milliseconds'] / only_music_clean['Bytes']\n"
     ]
    }
   ],
   "source": [
    "only_music_clean['LenByteRatio'] = only_music_clean['Milliseconds'] / only_music_clean['Bytes']"
   ]
  },
  {
   "cell_type": "code",
   "execution_count": 49,
   "id": "cf60ecd8-6871-4136-8e5f-f1daaf14af27",
   "metadata": {},
   "outputs": [
    {
     "data": {
      "text/html": [
       "<div>\n",
       "<style scoped>\n",
       "    .dataframe tbody tr th:only-of-type {\n",
       "        vertical-align: middle;\n",
       "    }\n",
       "\n",
       "    .dataframe tbody tr th {\n",
       "        vertical-align: top;\n",
       "    }\n",
       "\n",
       "    .dataframe thead th {\n",
       "        text-align: right;\n",
       "    }\n",
       "</style>\n",
       "<table border=\"1\" class=\"dataframe\">\n",
       "  <thead>\n",
       "    <tr style=\"text-align: right;\">\n",
       "      <th></th>\n",
       "      <th>Track</th>\n",
       "      <th>Composer</th>\n",
       "      <th>Milliseconds</th>\n",
       "      <th>Bytes</th>\n",
       "      <th>UnitPrice</th>\n",
       "      <th>Genre</th>\n",
       "      <th>Album</th>\n",
       "      <th>Artist</th>\n",
       "      <th>Seconds</th>\n",
       "      <th>LenByteRatio</th>\n",
       "    </tr>\n",
       "  </thead>\n",
       "  <tbody>\n",
       "    <tr>\n",
       "      <th>1</th>\n",
       "      <td>Beira Mar</td>\n",
       "      <td>Gilberto Gil</td>\n",
       "      <td>295444.0</td>\n",
       "      <td>9597994.0</td>\n",
       "      <td>0.99</td>\n",
       "      <td>Latin</td>\n",
       "      <td>Unplugged</td>\n",
       "      <td>Eric Clapton</td>\n",
       "      <td>295.444</td>\n",
       "      <td>0.030782</td>\n",
       "    </tr>\n",
       "    <tr>\n",
       "      <th>2</th>\n",
       "      <td>Brasil</td>\n",
       "      <td>Milton Nascimento, Fernando Brant</td>\n",
       "      <td>155428.0</td>\n",
       "      <td>5252560.0</td>\n",
       "      <td>0.99</td>\n",
       "      <td>Latin</td>\n",
       "      <td>Milton Nascimento Ao Vivo</td>\n",
       "      <td>Milton Nascimento</td>\n",
       "      <td>155.428</td>\n",
       "      <td>0.029591</td>\n",
       "    </tr>\n",
       "    <tr>\n",
       "      <th>4</th>\n",
       "      <td>O Último Romântico (Ao Vivo)</td>\n",
       "      <td>Unknown</td>\n",
       "      <td>231993.0</td>\n",
       "      <td>7692697.0</td>\n",
       "      <td>0.99</td>\n",
       "      <td>Latin</td>\n",
       "      <td>Lulu Santos - RCA 100 Anos De Música - Álbum 02</td>\n",
       "      <td>Lulu Santos</td>\n",
       "      <td>231.993</td>\n",
       "      <td>0.030158</td>\n",
       "    </tr>\n",
       "    <tr>\n",
       "      <th>5</th>\n",
       "      <td>Freewheel Burning</td>\n",
       "      <td>Unknown</td>\n",
       "      <td>265952.0</td>\n",
       "      <td>8713599.0</td>\n",
       "      <td>0.99</td>\n",
       "      <td>Metal</td>\n",
       "      <td>Living After Midnight</td>\n",
       "      <td>Judas Priest</td>\n",
       "      <td>265.952</td>\n",
       "      <td>0.030521</td>\n",
       "    </tr>\n",
       "    <tr>\n",
       "      <th>6</th>\n",
       "      <td>That's The Way</td>\n",
       "      <td>Robert Plant</td>\n",
       "      <td>343431.0</td>\n",
       "      <td>11248455.0</td>\n",
       "      <td>0.99</td>\n",
       "      <td>Rock</td>\n",
       "      <td>BBC Sessions [Disc 2] [Live]</td>\n",
       "      <td>Led Zeppelin</td>\n",
       "      <td>343.431</td>\n",
       "      <td>0.030531</td>\n",
       "    </tr>\n",
       "  </tbody>\n",
       "</table>\n",
       "</div>"
      ],
      "text/plain": [
       "                          Track                           Composer  \\\n",
       "1                     Beira Mar                       Gilberto Gil   \n",
       "2                        Brasil  Milton Nascimento, Fernando Brant   \n",
       "4  O Último Romântico (Ao Vivo)                            Unknown   \n",
       "5             Freewheel Burning                            Unknown   \n",
       "6                That's The Way                       Robert Plant   \n",
       "\n",
       "   Milliseconds       Bytes  UnitPrice  Genre  \\\n",
       "1      295444.0   9597994.0       0.99  Latin   \n",
       "2      155428.0   5252560.0       0.99  Latin   \n",
       "4      231993.0   7692697.0       0.99  Latin   \n",
       "5      265952.0   8713599.0       0.99  Metal   \n",
       "6      343431.0  11248455.0       0.99   Rock   \n",
       "\n",
       "                                             Album             Artist  \\\n",
       "1                                        Unplugged       Eric Clapton   \n",
       "2                        Milton Nascimento Ao Vivo  Milton Nascimento   \n",
       "4  Lulu Santos - RCA 100 Anos De Música - Álbum 02        Lulu Santos   \n",
       "5                            Living After Midnight       Judas Priest   \n",
       "6                     BBC Sessions [Disc 2] [Live]       Led Zeppelin   \n",
       "\n",
       "   Seconds  LenByteRatio  \n",
       "1  295.444      0.030782  \n",
       "2  155.428      0.029591  \n",
       "4  231.993      0.030158  \n",
       "5  265.952      0.030521  \n",
       "6  343.431      0.030531  "
      ]
     },
     "execution_count": 49,
     "metadata": {},
     "output_type": "execute_result"
    }
   ],
   "source": [
    "only_music_clean.head()"
   ]
  },
  {
   "cell_type": "markdown",
   "id": "f6dbc262-04ec-4b0a-9d63-1a644db5d5f2",
   "metadata": {},
   "source": [
    "### Agrupamento de dados com `groupby`"
   ]
  },
  {
   "cell_type": "markdown",
   "id": "c7274ac0-917e-44d8-b0b9-aee36f042a97",
   "metadata": {},
   "source": [
    "Caso desejemos saber qual a duração média das músicas por gênero, podemos proceder ao seguinte código:"
   ]
  },
  {
   "cell_type": "code",
   "execution_count": 69,
   "id": "def66b19-e014-4874-a2b8-9ef327f9f572",
   "metadata": {},
   "outputs": [],
   "source": [
    "avg_duration_by_genre = only_music_clean. \\\n",
    "    groupby('Genre').mean()['Seconds']. \\\n",
    "    to_frame(). \\\n",
    "    sort_values(by='Seconds', ascending=False)"
   ]
  },
  {
   "cell_type": "code",
   "execution_count": 70,
   "id": "97b5bc38-3989-4d87-80e5-53e23b8ea4a4",
   "metadata": {},
   "outputs": [
    {
     "data": {
      "text/html": [
       "<div>\n",
       "<style scoped>\n",
       "    .dataframe tbody tr th:only-of-type {\n",
       "        vertical-align: middle;\n",
       "    }\n",
       "\n",
       "    .dataframe tbody tr th {\n",
       "        vertical-align: top;\n",
       "    }\n",
       "\n",
       "    .dataframe thead th {\n",
       "        text-align: right;\n",
       "    }\n",
       "</style>\n",
       "<table border=\"1\" class=\"dataframe\">\n",
       "  <thead>\n",
       "    <tr style=\"text-align: right;\">\n",
       "      <th></th>\n",
       "      <th>Seconds</th>\n",
       "    </tr>\n",
       "    <tr>\n",
       "      <th>Genre</th>\n",
       "      <th></th>\n",
       "    </tr>\n",
       "  </thead>\n",
       "  <tbody>\n",
       "    <tr>\n",
       "      <th>Electronica/Dance</th>\n",
       "      <td>295.168621</td>\n",
       "    </tr>\n",
       "    <tr>\n",
       "      <th>Heavy Metal</th>\n",
       "      <td>290.236520</td>\n",
       "    </tr>\n",
       "    <tr>\n",
       "      <th>Metal</th>\n",
       "      <td>286.642447</td>\n",
       "    </tr>\n",
       "    <tr>\n",
       "      <th>Rock</th>\n",
       "      <td>259.318492</td>\n",
       "    </tr>\n",
       "    <tr>\n",
       "      <th>Jazz</th>\n",
       "      <td>259.307602</td>\n",
       "    </tr>\n",
       "    <tr>\n",
       "      <th>Blues</th>\n",
       "      <td>254.506421</td>\n",
       "    </tr>\n",
       "    <tr>\n",
       "      <th>Classical</th>\n",
       "      <td>254.094548</td>\n",
       "    </tr>\n",
       "    <tr>\n",
       "      <th>Alternative</th>\n",
       "      <td>253.578667</td>\n",
       "    </tr>\n",
       "    <tr>\n",
       "      <th>Soundtrack</th>\n",
       "      <td>249.420500</td>\n",
       "    </tr>\n",
       "    <tr>\n",
       "      <th>Reggae</th>\n",
       "      <td>247.177759</td>\n",
       "    </tr>\n",
       "    <tr>\n",
       "      <th>Alternative &amp; Punk</th>\n",
       "      <td>232.846937</td>\n",
       "    </tr>\n",
       "    <tr>\n",
       "      <th>Latin</th>\n",
       "      <td>232.394391</td>\n",
       "    </tr>\n",
       "    <tr>\n",
       "      <th>World</th>\n",
       "      <td>231.805037</td>\n",
       "    </tr>\n",
       "    <tr>\n",
       "      <th>R&amp;B/Soul</th>\n",
       "      <td>220.066852</td>\n",
       "    </tr>\n",
       "    <tr>\n",
       "      <th>Pop</th>\n",
       "      <td>219.791723</td>\n",
       "    </tr>\n",
       "    <tr>\n",
       "      <th>Bossa Nova</th>\n",
       "      <td>219.590000</td>\n",
       "    </tr>\n",
       "    <tr>\n",
       "      <th>Hip Hop/Rap</th>\n",
       "      <td>193.061563</td>\n",
       "    </tr>\n",
       "    <tr>\n",
       "      <th>Easy Listening</th>\n",
       "      <td>189.164208</td>\n",
       "    </tr>\n",
       "    <tr>\n",
       "      <th>Opera</th>\n",
       "      <td>174.813000</td>\n",
       "    </tr>\n",
       "    <tr>\n",
       "      <th>Rock And Roll</th>\n",
       "      <td>134.643500</td>\n",
       "    </tr>\n",
       "  </tbody>\n",
       "</table>\n",
       "</div>"
      ],
      "text/plain": [
       "                       Seconds\n",
       "Genre                         \n",
       "Electronica/Dance   295.168621\n",
       "Heavy Metal         290.236520\n",
       "Metal               286.642447\n",
       "Rock                259.318492\n",
       "Jazz                259.307602\n",
       "Blues               254.506421\n",
       "Classical           254.094548\n",
       "Alternative         253.578667\n",
       "Soundtrack          249.420500\n",
       "Reggae              247.177759\n",
       "Alternative & Punk  232.846937\n",
       "Latin               232.394391\n",
       "World               231.805037\n",
       "R&B/Soul            220.066852\n",
       "Pop                 219.791723\n",
       "Bossa Nova          219.590000\n",
       "Hip Hop/Rap         193.061563\n",
       "Easy Listening      189.164208\n",
       "Opera               174.813000\n",
       "Rock And Roll       134.643500"
      ]
     },
     "execution_count": 70,
     "metadata": {},
     "output_type": "execute_result"
    }
   ],
   "source": [
    "avg_duration_by_genre"
   ]
  },
  {
   "cell_type": "code",
   "execution_count": 75,
   "id": "5b42a916-b4d6-41c8-a7fc-9c1b854947f1",
   "metadata": {},
   "outputs": [
    {
     "data": {
      "image/png": "[encoded data removed]",
      "text/plain": [
       "<Figure size 576x396 with 1 Axes>"
      ]
     },
     "metadata": {},
     "output_type": "display_data"
    }
   ],
   "source": [
    "ax = avg_duration_by_genre.plot.bar(legend=False)\n",
    "ax.set_xlabel('Genre')\n",
    "ax.set_ylabel('Average Duration (s)')\n",
    "plt.show()"
   ]
  },
  {
   "cell_type": "markdown",
   "id": "ea7376dd-ea49-49cb-a67c-4cbe07147a03",
   "metadata": {},
   "source": [
    "## Salvando os dados em disco"
   ]
  },
  {
   "cell_type": "code",
   "execution_count": 76,
   "id": "68f9649d-a5be-4b50-a753-2f0d407979fb",
   "metadata": {},
   "outputs": [],
   "source": [
    "only_music_clean.to_csv('data/only_music_clean.csv', index=False)"
   ]
  },
  {
   "cell_type": "code",
   "execution_count": null,
   "id": "8dfb3183-848a-4e59-9d42-708927d2d97b",
   "metadata": {},
   "outputs": [],
   "source": []
  }
 ],
 "metadata": {
  "kernelspec": {
   "display_name": "DS Projects (venv)",
   "language": "python",
   "name": "venv"
  },
  "language_info": {
   "codemirror_mode": {
    "name": "ipython",
    "version": 3
   },
   "file_extension": ".py",
   "mimetype": "text/x-python",
   "name": "python",
   "nbconvert_exporter": "python",
   "pygments_lexer": "ipython3",
   "version": "3.10.0"
  }
 },
 "nbformat": 4,
 "nbformat_minor": 5
}
