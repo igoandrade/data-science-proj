{
 "cells": [
  {
   "cell_type": "markdown",
   "metadata": {},
   "source": [
    "# Leitura de dados SQL com Python"
   ]
  },
  {
   "cell_type": "markdown",
   "metadata": {},
   "source": [
    "## Usando `SQLite3`"
   ]
  },
  {
   "cell_type": "markdown",
   "metadata": {},
   "source": [
    "Bibliotecas importadas nesta seção:"
   ]
  },
  {
   "cell_type": "code",
   "execution_count": 1,
   "metadata": {},
   "outputs": [],
   "source": [
    "# Bibliotecas importadas\n",
    "import os\n",
    "import sqlite3"
   ]
  },
  {
   "cell_type": "code",
   "execution_count": 2,
   "metadata": {},
   "outputs": [],
   "source": [
    "# Diretório fonte de dados\n",
    "data_dirpath = r\"../../data\""
   ]
  },
  {
   "cell_type": "markdown",
   "metadata": {},
   "source": [
    "Conexão com o banco de dados usando a biblioteca `sqlite3`:"
   ]
  },
  {
   "cell_type": "code",
   "execution_count": 3,
   "metadata": {},
   "outputs": [],
   "source": [
    "connection = sqlite3.connect(os.path.join(data_dirpath, 'chinook.db'))\n",
    "cursor = connection.cursor()"
   ]
  },
  {
   "cell_type": "markdown",
   "metadata": {},
   "source": [
    "O código seguinte executa uma consulta SQL e lista as tabelas existentes no banco de dados \"chinook.db\":"
   ]
  },
  {
   "cell_type": "code",
   "execution_count": 4,
   "metadata": {},
   "outputs": [
    {
     "data": {
      "text/plain": [
       "[('albums',),\n",
       " ('sqlite_sequence',),\n",
       " ('artists',),\n",
       " ('customers',),\n",
       " ('employees',),\n",
       " ('genres',),\n",
       " ('invoices',),\n",
       " ('invoice_items',),\n",
       " ('media_types',),\n",
       " ('playlists',),\n",
       " ('playlist_track',),\n",
       " ('tracks',),\n",
       " ('sqlite_stat1',)]"
      ]
     },
     "execution_count": 4,
     "metadata": {},
     "output_type": "execute_result"
    }
   ],
   "source": [
    "cursor.execute(\"SELECT name FROM sqlite_master WHERE type='table';\")\n",
    "cursor.fetchall()"
   ]
  },
  {
   "cell_type": "markdown",
   "metadata": {},
   "source": [
    "Nas análises seguintes, são considerados os dados referentes às faturas, constantes nas tabelas _invoices_ e *invoice_items*."
   ]
  },
  {
   "cell_type": "markdown",
   "metadata": {},
   "source": [
    "A tabela de faturas (_invoices_) contêm os seguintes campos:"
   ]
  },
  {
   "cell_type": "code",
   "execution_count": 5,
   "metadata": {},
   "outputs": [
    {
     "data": {
      "text/plain": [
       "[(0, 'InvoiceId', 'INTEGER', 1, None, 1),\n",
       " (1, 'CustomerId', 'INTEGER', 1, None, 0),\n",
       " (2, 'InvoiceDate', 'DATETIME', 1, None, 0),\n",
       " (3, 'BillingAddress', 'NVARCHAR(70)', 0, None, 0),\n",
       " (4, 'BillingCity', 'NVARCHAR(40)', 0, None, 0),\n",
       " (5, 'BillingState', 'NVARCHAR(40)', 0, None, 0),\n",
       " (6, 'BillingCountry', 'NVARCHAR(40)', 0, None, 0),\n",
       " (7, 'BillingPostalCode', 'NVARCHAR(10)', 0, None, 0),\n",
       " (8, 'Total', 'NUMERIC(10,2)', 1, None, 0)]"
      ]
     },
     "execution_count": 5,
     "metadata": {},
     "output_type": "execute_result"
    }
   ],
   "source": [
    "cursor.execute('PRAGMA table_info(invoices)')\n",
    "cursor.fetchall()"
   ]
  },
  {
   "cell_type": "markdown",
   "metadata": {},
   "source": [
    "Por sua vez, a tabela de items de fatura (*invoice_items*) contém os campos:"
   ]
  },
  {
   "cell_type": "code",
   "execution_count": 6,
   "metadata": {},
   "outputs": [
    {
     "data": {
      "text/plain": [
       "[(0, 'InvoiceLineId', 'INTEGER', 1, None, 1),\n",
       " (1, 'InvoiceId', 'INTEGER', 1, None, 0),\n",
       " (2, 'TrackId', 'INTEGER', 1, None, 0),\n",
       " (3, 'UnitPrice', 'NUMERIC(10,2)', 1, None, 0),\n",
       " (4, 'Quantity', 'INTEGER', 1, None, 0)]"
      ]
     },
     "execution_count": 6,
     "metadata": {},
     "output_type": "execute_result"
    }
   ],
   "source": [
    "cursor.execute('PRAGMA table_info(invoice_items)')\n",
    "cursor.fetchall()"
   ]
  },
  {
   "cell_type": "markdown",
   "metadata": {},
   "source": [
    "Consulta aos primeiros 05 (cinco) registros da tabela **artists** do banco de dados **chinook.db**."
   ]
  },
  {
   "cell_type": "code",
   "execution_count": 7,
   "metadata": {},
   "outputs": [
    {
     "data": {
      "text/plain": [
       "[(1, 'AC/DC'),\n",
       " (2, 'Accept'),\n",
       " (3, 'Aerosmith'),\n",
       " (4, 'Alanis Morissette'),\n",
       " (5, 'Alice In Chains')]"
      ]
     },
     "execution_count": 7,
     "metadata": {},
     "output_type": "execute_result"
    }
   ],
   "source": [
    "cursor.execute('SELECT * FROM artists LIMIT 5;')\n",
    "cursor.fetchall()"
   ]
  },
  {
   "cell_type": "markdown",
   "metadata": {},
   "source": [
    "Consulta das 05 (cinco) maiores _invoices_ ordenadas pelo respectivo montante:"
   ]
  },
  {
   "cell_type": "code",
   "execution_count": 8,
   "metadata": {},
   "outputs": [
    {
     "data": {
      "text/plain": [
       "[('2013-11-13 00:00:00', 25.86),\n",
       " ('2012-08-05 00:00:00', 23.86),\n",
       " ('2010-02-18 00:00:00', 21.86),\n",
       " ('2011-04-28 00:00:00', 21.86),\n",
       " ('2010-01-18 00:00:00', 18.86)]"
      ]
     },
     "execution_count": 8,
     "metadata": {},
     "output_type": "execute_result"
    }
   ],
   "source": [
    "query = \"\"\"\n",
    "    SELECT InvoiceDate, Total \n",
    "    FROM invoices\n",
    "    ORDER BY Total DESC\n",
    "    LIMIT 5;\n",
    "\"\"\"\n",
    "\n",
    "cursor.execute(query)\n",
    "cursor.fetchall()"
   ]
  },
  {
   "cell_type": "markdown",
   "metadata": {},
   "source": [
    "Consulta de _invoices_ com origem no Canadá."
   ]
  },
  {
   "cell_type": "code",
   "execution_count": 9,
   "metadata": {},
   "outputs": [
    {
     "data": {
      "text/plain": [
       "[('Canada', 8.91),\n",
       " ('Canada', 8.91),\n",
       " ('Canada', 0.99),\n",
       " ('Canada', 1.98),\n",
       " ('Canada', 13.86)]"
      ]
     },
     "execution_count": 9,
     "metadata": {},
     "output_type": "execute_result"
    }
   ],
   "source": [
    "cursor.execute(\n",
    "\"\"\"\n",
    "    SELECT BillingCountry, Total\n",
    "    FROM invoices\n",
    "    WHERE BillingCountry == \"Canada\"\n",
    "    LIMIT 5;\n",
    "\"\"\")\n",
    "\n",
    "cursor.fetchall()"
   ]
  },
  {
   "cell_type": "markdown",
   "metadata": {},
   "source": [
    "Consulta do valor total das faturas (_invoices_) agrupadas por país e ordenadas por valor:"
   ]
  },
  {
   "cell_type": "code",
   "execution_count": 10,
   "metadata": {},
   "outputs": [
    {
     "data": {
      "text/plain": [
       "[('USA', 523.0600000000003),\n",
       " ('Canada', 303.9599999999999),\n",
       " ('France', 195.09999999999994),\n",
       " ('Brazil', 190.09999999999997),\n",
       " ('Germany', 156.48)]"
      ]
     },
     "execution_count": 10,
     "metadata": {},
     "output_type": "execute_result"
    }
   ],
   "source": [
    "cursor.execute(\"\"\"\n",
    "    SELECT BillingCountry, SUM(Total) AS TotalAmount\n",
    "    FROM invoices\n",
    "    GROUP BY BillingCountry\n",
    "    ORDER BY TotalAmount DESC\n",
    "    LIMIT 5;\n",
    "\"\"\")\n",
    "\n",
    "cursor.fetchall()"
   ]
  },
  {
   "cell_type": "markdown",
   "metadata": {},
   "source": [
    "O resultado seguinte responde à questão sobre quais faixas foram compradas por quais países. Para tanto, foram combinadas as tabelas _tracks_, que lista as músicas por nome, _invoices_, que contém os dados de nomes de países e *invoice_items* que contém dados das quantidades de faixas vendidas."
   ]
  },
  {
   "cell_type": "code",
   "execution_count": 11,
   "metadata": {},
   "outputs": [
    {
     "data": {
      "text/plain": [
       "[('Your Time Has Come', 494, 'USA'),\n",
       " ('Right Through You', 304, 'Canada'),\n",
       " ('Morena De Angola', 190, 'France'),\n",
       " ('Admirável Gado Novo', 190, 'Brazil'),\n",
       " ('Balls to the Wall', 152, 'Germany')]"
      ]
     },
     "execution_count": 11,
     "metadata": {},
     "output_type": "execute_result"
    }
   ],
   "source": [
    "query = \"\"\"\n",
    "    SELECT \n",
    "        tracks.Name,\n",
    "        COUNT(invoice_items.TrackId),\n",
    "        invoices.BillingCountry\n",
    "    FROM invoices\n",
    "    JOIN invoice_items\n",
    "    ON invoices.InvoiceId = invoice_items.InvoiceId\n",
    "    JOIN tracks\n",
    "    ON tracks.TrackId = invoice_items.TrackId\n",
    "    GROUP BY invoices.BillingCountry\n",
    "    ORDER BY COUNT(invoice_items.TrackId) DESC\n",
    "    LIMIT 5;\n",
    "\"\"\"\n",
    "\n",
    "cursor.execute(query)\n",
    "cursor.fetchall()"
   ]
  },
  {
   "cell_type": "markdown",
   "metadata": {},
   "source": [
    "Término da análise com fechamento da conexão com o banco de dados."
   ]
  },
  {
   "cell_type": "code",
   "execution_count": 12,
   "metadata": {},
   "outputs": [],
   "source": [
    "connection.close()"
   ]
  },
  {
   "cell_type": "code",
   "execution_count": null,
   "metadata": {},
   "outputs": [],
   "source": []
  }
 ],
 "metadata": {
  "interpreter": {
   "hash": "8b8334dab9339717f727a1deaf837b322d7a41c20d15cc86be99a8e69ceec8ce"
  },
  "kernelspec": {
   "display_name": "DS Projects (venv)",
   "language": "python",
   "name": "venv"
  },
  "language_info": {
   "codemirror_mode": {
    "name": "ipython",
    "version": 3
   },
   "file_extension": ".py",
   "mimetype": "text/x-python",
   "name": "python",
   "nbconvert_exporter": "python",
   "pygments_lexer": "ipython3",
   "version": "3.10.0"
  }
 },
 "nbformat": 4,
 "nbformat_minor": 4
}
