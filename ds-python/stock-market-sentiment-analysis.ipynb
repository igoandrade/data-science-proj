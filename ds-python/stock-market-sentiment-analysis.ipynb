{
 "cells": [
  {
   "cell_type": "markdown",
   "id": "bda9796f-7473-4737-8979-746b1bf88738",
   "metadata": {},
   "source": [
    "# Análise de sentimento do mercado de ações usando Python e aprendizado de máquina"
   ]
  },
  {
   "cell_type": "markdown",
   "id": "e7a59748-909c-4ce5-aafc-c31d867e3e70",
   "metadata": {},
   "source": [
    "## Introdução\n",
    "\n",
    "> **Análise de Sentimentos** é o processo de identificar e categorizar computacionamente as opiniões expressas em um trecho de texto, especialmente para determinar se a atitude do autor do texto em relação a um determinado assunto, produto, etc. é positiva, negativa ou eutra."
   ]
  },
  {
   "cell_type": "markdown",
   "id": "a664ea5d-bc65-49c2-a2eb-f2eb06161cff",
   "metadata": {},
   "source": [
    "## Objetivo\n",
    "\n",
    "Prever se o preço das ações de uma companhia irá crescer, descrecer com base nas principais manchetes nos meios de comunicação."
   ]
  },
  {
   "cell_type": "markdown",
   "id": "ceee7a54-8993-4604-af91-d6434099e6f4",
   "metadata": {},
   "source": [
    "## Bibliotecas importadas:"
   ]
  },
  {
   "cell_type": "code",
   "execution_count": 1,
   "id": "081ddfa3-80b0-44d2-bf51-d2261811b350",
   "metadata": {},
   "outputs": [],
   "source": [
    "import re\n",
    "import numpy as np\n",
    "import pandas as pd\n",
    "from textblob import TextBlob\n",
    "import nltk\n",
    "from nltk.corpus import stopwords\n",
    "from wordcloud import WordCloud, STOPWORDS, ImageColorGenerator\n",
    "import string\n",
    "from vaderSentiment.vaderSentiment import SentimentIntensityAnalyzer\n",
    "from sklearn.model_selection import train_test_split\n",
    "from sklearn.metrics import accuracy_score, classification_report\n",
    "from sklearn.discriminant_analysis import LinearDiscriminantAnalysis"
   ]
  },
  {
   "cell_type": "markdown",
   "id": "e7dfb974-b652-4b3b-b79b-00204f211751",
   "metadata": {},
   "source": [
    "## Obtenção e Preparação do conjunto de dados"
   ]
  },
  {
   "cell_type": "markdown",
   "id": "eab5568e-2f02-4899-b74f-38c153f92d2d",
   "metadata": {},
   "source": [
    "Os dados trabalhados neste projeto fazem parte de um _dataset_ de estudos de [**notícias diárias para previsão do mercado de ações**](https://www.kaggle.com/aaron7sun/stocknews). Conforme descrição do autor do _dataset_, existem dois canais de dados fornecidos neste conjunto de dados:"
   ]
  },
  {
   "cell_type": "markdown",
   "id": "4fb6d89a-225e-4266-828b-260bf0aeb5b1",
   "metadata": {},
   "source": [
    "1. Dados de notícias: manchetes de notícias históricas do Reddit WorldNews Channel (/r/worldnews). Elas são classificadas pelos votos dos usuários do reddit, e apenas os 25 principais títulos são considerados para uma única data.\n",
    "    (Intervalo: 08-08-2008 a 01-07-2016):"
   ]
  },
  {
   "cell_type": "code",
   "execution_count": 2,
   "id": "1b726308-1290-4b1f-b6e1-f5dddd38c542",
   "metadata": {},
   "outputs": [
    {
     "data": {
      "text/html": [
       "<div>\n",
       "<style scoped>\n",
       "    .dataframe tbody tr th:only-of-type {\n",
       "        vertical-align: middle;\n",
       "    }\n",
       "\n",
       "    .dataframe tbody tr th {\n",
       "        vertical-align: top;\n",
       "    }\n",
       "\n",
       "    .dataframe thead th {\n",
       "        text-align: right;\n",
       "    }\n",
       "</style>\n",
       "<table border=\"1\" class=\"dataframe\">\n",
       "  <thead>\n",
       "    <tr style=\"text-align: right;\">\n",
       "      <th></th>\n",
       "      <th>Label</th>\n",
       "      <th>Top1</th>\n",
       "      <th>Top2</th>\n",
       "      <th>Top3</th>\n",
       "      <th>Top4</th>\n",
       "      <th>Top5</th>\n",
       "      <th>Top6</th>\n",
       "      <th>Top7</th>\n",
       "      <th>Top8</th>\n",
       "      <th>Top9</th>\n",
       "      <th>...</th>\n",
       "      <th>Top16</th>\n",
       "      <th>Top17</th>\n",
       "      <th>Top18</th>\n",
       "      <th>Top19</th>\n",
       "      <th>Top20</th>\n",
       "      <th>Top21</th>\n",
       "      <th>Top22</th>\n",
       "      <th>Top23</th>\n",
       "      <th>Top24</th>\n",
       "      <th>Top25</th>\n",
       "    </tr>\n",
       "    <tr>\n",
       "      <th>Date</th>\n",
       "      <th></th>\n",
       "      <th></th>\n",
       "      <th></th>\n",
       "      <th></th>\n",
       "      <th></th>\n",
       "      <th></th>\n",
       "      <th></th>\n",
       "      <th></th>\n",
       "      <th></th>\n",
       "      <th></th>\n",
       "      <th></th>\n",
       "      <th></th>\n",
       "      <th></th>\n",
       "      <th></th>\n",
       "      <th></th>\n",
       "      <th></th>\n",
       "      <th></th>\n",
       "      <th></th>\n",
       "      <th></th>\n",
       "      <th></th>\n",
       "      <th></th>\n",
       "    </tr>\n",
       "  </thead>\n",
       "  <tbody>\n",
       "    <tr>\n",
       "      <th>2008-08-08</th>\n",
       "      <td>0</td>\n",
       "      <td>b\"Georgia 'downs two Russian warplanes' as cou...</td>\n",
       "      <td>b'BREAKING: Musharraf to be impeached.'</td>\n",
       "      <td>b'Russia Today: Columns of troops roll into So...</td>\n",
       "      <td>b'Russian tanks are moving towards the capital...</td>\n",
       "      <td>b\"Afghan children raped with 'impunity,' U.N. ...</td>\n",
       "      <td>b'150 Russian tanks have entered South Ossetia...</td>\n",
       "      <td>b\"Breaking: Georgia invades South Ossetia, Rus...</td>\n",
       "      <td>b\"The 'enemy combatent' trials are nothing but...</td>\n",
       "      <td>b'Georgian troops retreat from S. Osettain cap...</td>\n",
       "      <td>...</td>\n",
       "      <td>b'Georgia Invades South Ossetia - if Russia ge...</td>\n",
       "      <td>b'Al-Qaeda Faces Islamist Backlash'</td>\n",
       "      <td>b'Condoleezza Rice: \"The US would not act to p...</td>\n",
       "      <td>b'This is a busy day:  The European Union has ...</td>\n",
       "      <td>b\"Georgia will withdraw 1,000 soldiers from Ir...</td>\n",
       "      <td>b'Why the Pentagon Thinks Attacking Iran is a ...</td>\n",
       "      <td>b'Caucasus in crisis: Georgia invades South Os...</td>\n",
       "      <td>b'Indian shoe manufactory  - And again in a se...</td>\n",
       "      <td>b'Visitors Suffering from Mental Illnesses Ban...</td>\n",
       "      <td>b\"No Help for Mexico's Kidnapping Surge\"</td>\n",
       "    </tr>\n",
       "    <tr>\n",
       "      <th>2008-08-11</th>\n",
       "      <td>1</td>\n",
       "      <td>b'Why wont America and Nato help us? If they w...</td>\n",
       "      <td>b'Bush puts foot down on Georgian conflict'</td>\n",
       "      <td>b\"Jewish Georgian minister: Thanks to Israeli ...</td>\n",
       "      <td>b'Georgian army flees in disarray as Russians ...</td>\n",
       "      <td>b\"Olympic opening ceremony fireworks 'faked'\"</td>\n",
       "      <td>b'What were the Mossad with fraudulent New Zea...</td>\n",
       "      <td>b'Russia angered by Israeli military sale to G...</td>\n",
       "      <td>b'An American citizen living in S.Ossetia blam...</td>\n",
       "      <td>b'Welcome To World War IV! Now In High Definit...</td>\n",
       "      <td>...</td>\n",
       "      <td>b'Israel and the US behind the Georgian aggres...</td>\n",
       "      <td>b'\"Do not believe TV, neither Russian nor Geor...</td>\n",
       "      <td>b'Riots are still going on in Montreal (Canada...</td>\n",
       "      <td>b'China to overtake US as largest manufacturer'</td>\n",
       "      <td>b'War in South Ossetia [PICS]'</td>\n",
       "      <td>b'Israeli Physicians Group Condemns State Tort...</td>\n",
       "      <td>b' Russia has just beaten the United States ov...</td>\n",
       "      <td>b'Perhaps *the* question about the Georgia - R...</td>\n",
       "      <td>b'Russia is so much better at war'</td>\n",
       "      <td>b\"So this is what it's come to: trading sex fo...</td>\n",
       "    </tr>\n",
       "    <tr>\n",
       "      <th>2008-08-12</th>\n",
       "      <td>0</td>\n",
       "      <td>b'Remember that adorable 9-year-old who sang a...</td>\n",
       "      <td>b\"Russia 'ends Georgia operation'\"</td>\n",
       "      <td>b'\"If we had no sexual harassment we would hav...</td>\n",
       "      <td>b\"Al-Qa'eda is losing support in Iraq because ...</td>\n",
       "      <td>b'Ceasefire in Georgia: Putin Outmaneuvers the...</td>\n",
       "      <td>b'Why Microsoft and Intel tried to kill the XO...</td>\n",
       "      <td>b'Stratfor: The Russo-Georgian War and the Bal...</td>\n",
       "      <td>b\"I'm Trying to Get a Sense of This Whole Geor...</td>\n",
       "      <td>b\"The US military was surprised by the timing ...</td>\n",
       "      <td>...</td>\n",
       "      <td>b'U.S. troops still in Georgia (did you know t...</td>\n",
       "      <td>b'Why Russias response to Georgia was right'</td>\n",
       "      <td>b'Gorbachev accuses U.S. of making a \"serious ...</td>\n",
       "      <td>b'Russia, Georgia, and NATO: Cold War Two'</td>\n",
       "      <td>b'Remember that adorable 62-year-old who led y...</td>\n",
       "      <td>b'War in Georgia: The Israeli connection'</td>\n",
       "      <td>b'All signs point to the US encouraging Georgi...</td>\n",
       "      <td>b'Christopher King argues that the US and NATO...</td>\n",
       "      <td>b'America: The New Mexico?'</td>\n",
       "      <td>b\"BBC NEWS | Asia-Pacific | Extinction 'by man...</td>\n",
       "    </tr>\n",
       "  </tbody>\n",
       "</table>\n",
       "<p>3 rows × 26 columns</p>\n",
       "</div>"
      ],
      "text/plain": [
       "            Label                                               Top1  \\\n",
       "Date                                                                   \n",
       "2008-08-08      0  b\"Georgia 'downs two Russian warplanes' as cou...   \n",
       "2008-08-11      1  b'Why wont America and Nato help us? If they w...   \n",
       "2008-08-12      0  b'Remember that adorable 9-year-old who sang a...   \n",
       "\n",
       "                                                   Top2  \\\n",
       "Date                                                      \n",
       "2008-08-08      b'BREAKING: Musharraf to be impeached.'   \n",
       "2008-08-11  b'Bush puts foot down on Georgian conflict'   \n",
       "2008-08-12           b\"Russia 'ends Georgia operation'\"   \n",
       "\n",
       "                                                         Top3  \\\n",
       "Date                                                            \n",
       "2008-08-08  b'Russia Today: Columns of troops roll into So...   \n",
       "2008-08-11  b\"Jewish Georgian minister: Thanks to Israeli ...   \n",
       "2008-08-12  b'\"If we had no sexual harassment we would hav...   \n",
       "\n",
       "                                                         Top4  \\\n",
       "Date                                                            \n",
       "2008-08-08  b'Russian tanks are moving towards the capital...   \n",
       "2008-08-11  b'Georgian army flees in disarray as Russians ...   \n",
       "2008-08-12  b\"Al-Qa'eda is losing support in Iraq because ...   \n",
       "\n",
       "                                                         Top5  \\\n",
       "Date                                                            \n",
       "2008-08-08  b\"Afghan children raped with 'impunity,' U.N. ...   \n",
       "2008-08-11      b\"Olympic opening ceremony fireworks 'faked'\"   \n",
       "2008-08-12  b'Ceasefire in Georgia: Putin Outmaneuvers the...   \n",
       "\n",
       "                                                         Top6  \\\n",
       "Date                                                            \n",
       "2008-08-08  b'150 Russian tanks have entered South Ossetia...   \n",
       "2008-08-11  b'What were the Mossad with fraudulent New Zea...   \n",
       "2008-08-12  b'Why Microsoft and Intel tried to kill the XO...   \n",
       "\n",
       "                                                         Top7  \\\n",
       "Date                                                            \n",
       "2008-08-08  b\"Breaking: Georgia invades South Ossetia, Rus...   \n",
       "2008-08-11  b'Russia angered by Israeli military sale to G...   \n",
       "2008-08-12  b'Stratfor: The Russo-Georgian War and the Bal...   \n",
       "\n",
       "                                                         Top8  \\\n",
       "Date                                                            \n",
       "2008-08-08  b\"The 'enemy combatent' trials are nothing but...   \n",
       "2008-08-11  b'An American citizen living in S.Ossetia blam...   \n",
       "2008-08-12  b\"I'm Trying to Get a Sense of This Whole Geor...   \n",
       "\n",
       "                                                         Top9  ...  \\\n",
       "Date                                                           ...   \n",
       "2008-08-08  b'Georgian troops retreat from S. Osettain cap...  ...   \n",
       "2008-08-11  b'Welcome To World War IV! Now In High Definit...  ...   \n",
       "2008-08-12  b\"The US military was surprised by the timing ...  ...   \n",
       "\n",
       "                                                        Top16  \\\n",
       "Date                                                            \n",
       "2008-08-08  b'Georgia Invades South Ossetia - if Russia ge...   \n",
       "2008-08-11  b'Israel and the US behind the Georgian aggres...   \n",
       "2008-08-12  b'U.S. troops still in Georgia (did you know t...   \n",
       "\n",
       "                                                        Top17  \\\n",
       "Date                                                            \n",
       "2008-08-08                b'Al-Qaeda Faces Islamist Backlash'   \n",
       "2008-08-11  b'\"Do not believe TV, neither Russian nor Geor...   \n",
       "2008-08-12       b'Why Russias response to Georgia was right'   \n",
       "\n",
       "                                                        Top18  \\\n",
       "Date                                                            \n",
       "2008-08-08  b'Condoleezza Rice: \"The US would not act to p...   \n",
       "2008-08-11  b'Riots are still going on in Montreal (Canada...   \n",
       "2008-08-12  b'Gorbachev accuses U.S. of making a \"serious ...   \n",
       "\n",
       "                                                        Top19  \\\n",
       "Date                                                            \n",
       "2008-08-08  b'This is a busy day:  The European Union has ...   \n",
       "2008-08-11    b'China to overtake US as largest manufacturer'   \n",
       "2008-08-12         b'Russia, Georgia, and NATO: Cold War Two'   \n",
       "\n",
       "                                                        Top20  \\\n",
       "Date                                                            \n",
       "2008-08-08  b\"Georgia will withdraw 1,000 soldiers from Ir...   \n",
       "2008-08-11                     b'War in South Ossetia [PICS]'   \n",
       "2008-08-12  b'Remember that adorable 62-year-old who led y...   \n",
       "\n",
       "                                                        Top21  \\\n",
       "Date                                                            \n",
       "2008-08-08  b'Why the Pentagon Thinks Attacking Iran is a ...   \n",
       "2008-08-11  b'Israeli Physicians Group Condemns State Tort...   \n",
       "2008-08-12          b'War in Georgia: The Israeli connection'   \n",
       "\n",
       "                                                        Top22  \\\n",
       "Date                                                            \n",
       "2008-08-08  b'Caucasus in crisis: Georgia invades South Os...   \n",
       "2008-08-11  b' Russia has just beaten the United States ov...   \n",
       "2008-08-12  b'All signs point to the US encouraging Georgi...   \n",
       "\n",
       "                                                        Top23  \\\n",
       "Date                                                            \n",
       "2008-08-08  b'Indian shoe manufactory  - And again in a se...   \n",
       "2008-08-11  b'Perhaps *the* question about the Georgia - R...   \n",
       "2008-08-12  b'Christopher King argues that the US and NATO...   \n",
       "\n",
       "                                                        Top24  \\\n",
       "Date                                                            \n",
       "2008-08-08  b'Visitors Suffering from Mental Illnesses Ban...   \n",
       "2008-08-11                 b'Russia is so much better at war'   \n",
       "2008-08-12                        b'America: The New Mexico?'   \n",
       "\n",
       "                                                        Top25  \n",
       "Date                                                           \n",
       "2008-08-08           b\"No Help for Mexico's Kidnapping Surge\"  \n",
       "2008-08-11  b\"So this is what it's come to: trading sex fo...  \n",
       "2008-08-12  b\"BBC NEWS | Asia-Pacific | Extinction 'by man...  \n",
       "\n",
       "[3 rows x 26 columns]"
      ]
     },
     "execution_count": 2,
     "metadata": {},
     "output_type": "execute_result"
    }
   ],
   "source": [
    "df1 = pd.read_csv('../data/Down_Jones_Industrial_Average_News.csv', parse_dates=['Date'], index_col='Date')\n",
    "df1.head(3)"
   ]
  },
  {
   "cell_type": "markdown",
   "id": "a7f72420-3158-45f5-8aa0-5ff4ed10dee1",
   "metadata": {},
   "source": [
    "Quantidade de observações (linhas) e campos ou variáveis (colunas) do _dataframe_ `df1`:"
   ]
  },
  {
   "cell_type": "code",
   "execution_count": 3,
   "id": "bd60275c-8ab1-4a63-b8a3-09791b0af401",
   "metadata": {},
   "outputs": [
    {
     "data": {
      "text/plain": [
       "(1989, 26)"
      ]
     },
     "execution_count": 3,
     "metadata": {},
     "output_type": "execute_result"
    }
   ],
   "source": [
    "df1.shape "
   ]
  },
  {
   "cell_type": "code",
   "execution_count": 4,
   "id": "a81027d1-8779-412a-9af2-cbca7fc2a5ba",
   "metadata": {},
   "outputs": [
    {
     "data": {
      "text/plain": [
       "Index(['Label', 'Top1', 'Top2', 'Top3', 'Top4', 'Top5', 'Top6', 'Top7', 'Top8',\n",
       "       'Top9', 'Top10', 'Top11', 'Top12', 'Top13', 'Top14', 'Top15', 'Top16',\n",
       "       'Top17', 'Top18', 'Top19', 'Top20', 'Top21', 'Top22', 'Top23', 'Top24',\n",
       "       'Top25'],\n",
       "      dtype='object')"
      ]
     },
     "execution_count": 4,
     "metadata": {},
     "output_type": "execute_result"
    }
   ],
   "source": [
    "df1.columns"
   ]
  },
  {
   "cell_type": "markdown",
   "id": "f33de84a-4401-4b6b-9ff6-14dfb4c29005",
   "metadata": {},
   "source": [
    "Quanto às colunas do conjunto de dados no _dataframe_ `df1`, note-se que existem 25 colunas nomeadas de \"Top1\" a \"Top25\" que identificam manchetes de norícias em uma determinada data. A coluna \"Label\" por sua vez refere-se a se houve uma baixa (0) ou alta (1) no preço de fechamento ajustado do ídice Dow Jones na referida data. "
   ]
  },
  {
   "cell_type": "code",
   "execution_count": 5,
   "id": "4d060f42-cd7f-46c0-9ad2-0db9c58e95ac",
   "metadata": {},
   "outputs": [
    {
     "data": {
      "text/plain": [
       "array([0, 1], dtype=int64)"
      ]
     },
     "execution_count": 5,
     "metadata": {},
     "output_type": "execute_result"
    }
   ],
   "source": [
    "df1['Label'].unique()"
   ]
  },
  {
   "cell_type": "markdown",
   "id": "12d78dc0-899f-44d2-9ad4-b8047d3e760f",
   "metadata": {},
   "source": [
    "2. Dados de estoque: Dow Jones Industrial Average (DJIA) é usado para \"provar o conceito\".\n",
    "    (Intervalo: 08-08-2008 a 01-07-2016):"
   ]
  },
  {
   "cell_type": "code",
   "execution_count": 6,
   "id": "c80d8d1a-7405-487e-aba2-769d905a08cb",
   "metadata": {},
   "outputs": [
    {
     "data": {
      "text/html": [
       "<div>\n",
       "<style scoped>\n",
       "    .dataframe tbody tr th:only-of-type {\n",
       "        vertical-align: middle;\n",
       "    }\n",
       "\n",
       "    .dataframe tbody tr th {\n",
       "        vertical-align: top;\n",
       "    }\n",
       "\n",
       "    .dataframe thead th {\n",
       "        text-align: right;\n",
       "    }\n",
       "</style>\n",
       "<table border=\"1\" class=\"dataframe\">\n",
       "  <thead>\n",
       "    <tr style=\"text-align: right;\">\n",
       "      <th></th>\n",
       "      <th>Open</th>\n",
       "      <th>High</th>\n",
       "      <th>Low</th>\n",
       "      <th>Close</th>\n",
       "      <th>Volume</th>\n",
       "      <th>Adj Close</th>\n",
       "    </tr>\n",
       "    <tr>\n",
       "      <th>Date</th>\n",
       "      <th></th>\n",
       "      <th></th>\n",
       "      <th></th>\n",
       "      <th></th>\n",
       "      <th></th>\n",
       "      <th></th>\n",
       "    </tr>\n",
       "  </thead>\n",
       "  <tbody>\n",
       "    <tr>\n",
       "      <th>2016-07-01</th>\n",
       "      <td>17924.240234</td>\n",
       "      <td>18002.380859</td>\n",
       "      <td>17916.910156</td>\n",
       "      <td>17949.369141</td>\n",
       "      <td>82160000</td>\n",
       "      <td>17949.369141</td>\n",
       "    </tr>\n",
       "    <tr>\n",
       "      <th>2016-06-30</th>\n",
       "      <td>17712.759766</td>\n",
       "      <td>17930.609375</td>\n",
       "      <td>17711.800781</td>\n",
       "      <td>17929.990234</td>\n",
       "      <td>133030000</td>\n",
       "      <td>17929.990234</td>\n",
       "    </tr>\n",
       "    <tr>\n",
       "      <th>2016-06-29</th>\n",
       "      <td>17456.019531</td>\n",
       "      <td>17704.509766</td>\n",
       "      <td>17456.019531</td>\n",
       "      <td>17694.679688</td>\n",
       "      <td>106380000</td>\n",
       "      <td>17694.679688</td>\n",
       "    </tr>\n",
       "  </tbody>\n",
       "</table>\n",
       "</div>"
      ],
      "text/plain": [
       "                    Open          High           Low         Close     Volume  \\\n",
       "Date                                                                            \n",
       "2016-07-01  17924.240234  18002.380859  17916.910156  17949.369141   82160000   \n",
       "2016-06-30  17712.759766  17930.609375  17711.800781  17929.990234  133030000   \n",
       "2016-06-29  17456.019531  17704.509766  17456.019531  17694.679688  106380000   \n",
       "\n",
       "               Adj Close  \n",
       "Date                      \n",
       "2016-07-01  17949.369141  \n",
       "2016-06-30  17929.990234  \n",
       "2016-06-29  17694.679688  "
      ]
     },
     "execution_count": 6,
     "metadata": {},
     "output_type": "execute_result"
    }
   ],
   "source": [
    "df2 = pd.read_csv('../data/Down_Jones_Industrial_Average_Stock.csv', parse_dates=['Date'], index_col='Date')\n",
    "df2.head(3)"
   ]
  },
  {
   "cell_type": "markdown",
   "id": "9749802e-05c8-44e3-83b6-2c7ce5223928",
   "metadata": {},
   "source": [
    "Quantidade de observações (linhas) e campos ou variáveis (colunas) do _dataframe_ `df2`:"
   ]
  },
  {
   "cell_type": "code",
   "execution_count": 7,
   "id": "11160630-c3c0-4a9a-9eed-5874aa149063",
   "metadata": {},
   "outputs": [
    {
     "data": {
      "text/plain": [
       "(1989, 6)"
      ]
     },
     "execution_count": 7,
     "metadata": {},
     "output_type": "execute_result"
    }
   ],
   "source": [
    "df2.shape"
   ]
  },
  {
   "cell_type": "code",
   "execution_count": 8,
   "id": "f1051188-b05a-4119-a056-7e18582d40d5",
   "metadata": {},
   "outputs": [
    {
     "data": {
      "text/plain": [
       "Index(['Open', 'High', 'Low', 'Close', 'Volume', 'Adj Close'], dtype='object')"
      ]
     },
     "execution_count": 8,
     "metadata": {},
     "output_type": "execute_result"
    }
   ],
   "source": [
    "df2.columns"
   ]
  },
  {
   "cell_type": "markdown",
   "id": "8f172c58-1519-4aea-9c7b-05bd651664cf",
   "metadata": {},
   "source": [
    "Como verificado acima, o _dataframe_ `df2` contém dados de preço de abertura (\"Open\"), preço máximo (\"High\"), preço mínimo (\"Low\"), preço de fechamento (\"Close\"), volume de ações negociadas (\"Volume\") e preço de fechamento ajustado (\"Adj Close\") do índice Dow Jones em uma determinada data."
   ]
  },
  {
   "cell_type": "markdown",
   "id": "7b0e50d0-d726-49fe-acc6-afa57b1ce54b",
   "metadata": {},
   "source": [
    "### Combinando os dois _dataframes_ num único conjunto de dados"
   ]
  },
  {
   "cell_type": "markdown",
   "id": "aa9e1597-91b6-4c92-980f-4b58573d9594",
   "metadata": {},
   "source": [
    "A primeira etapa é combinar todas as manchetes de notícias em um único trecho de texto para cada uma das datas no _dataframe_ `df1`:"
   ]
  },
  {
   "cell_type": "code",
   "execution_count": 9,
   "id": "5c738e2a-9b46-4420-ab5f-c8b86845d2c3",
   "metadata": {},
   "outputs": [
    {
     "name": "stderr",
     "output_type": "stream",
     "text": [
      "[nltk_data] Downloading package stopwords to\n",
      "[nltk_data]     C:\\Users\\igoan\\AppData\\Roaming\\nltk_data...\n",
      "[nltk_data]   Package stopwords is already up-to-date!\n"
     ]
    }
   ],
   "source": [
    "nltk.download('stopwords')\n",
    "stemmer = nltk.SnowballStemmer(\"english\")\n",
    "stopword=set(stopwords.words('english'))"
   ]
  },
  {
   "cell_type": "code",
   "execution_count": 10,
   "id": "f176ff27-0155-4cb1-a384-2929b7884b25",
   "metadata": {},
   "outputs": [],
   "source": [
    "headlines = []\n",
    "for row in range(df1.shape[0]):\n",
    "    l = [str(x) for x in df1.iloc[row, 1:]]\n",
    "    l = [x[2:-1] for x in l]\n",
    "    headlines.append(' '.join(x for x in l))"
   ]
  },
  {
   "cell_type": "code",
   "execution_count": 11,
   "id": "f6dad8c1-3474-4e4a-8d3d-5b310118781c",
   "metadata": {},
   "outputs": [
    {
     "data": {
      "text/plain": [
       "'Georgia \\'downs two Russian warplanes\\' as countries move to brink of war BREAKING: Musharraf to be impeached. Russia Today: Columns of troops roll into South Ossetia; footage from fighting (YouTube) Russian tanks are moving towards the capital of South Ossetia, which has reportedly been completely destroyed by Georgian artillery fire Afghan children raped with \\'impunity,\\' U.N. official says - this is sick, a three year old was raped and they do nothing 150 Russian tanks have entered South Ossetia whilst Georgia shoots down two Russian jets. Breaking: Georgia invades South Ossetia, Russia warned it would intervene on SO\\'s side The \\'enemy combatent\\' trials are nothing but a sham: Salim Haman has been sentenced to 5 1/2 years, but will be kept longer anyway just because they feel like it. Georgian troops retreat from S. Osettain capital, presumably leaving several hundred people killed. [VIDEO] Did the U.S. Prep Georgia for War with Russia? Rice Gives Green Light for Israel to Attack Iran: Says U.S. has no veto over Israeli military ops Announcing:Class Action Lawsuit on Behalf of American Public Against the FBI So---Russia and Georgia are at war and the NYT\\'s top story is opening ceremonies of the Olympics?  What a fucking disgrace and yet further proof of the decline of journalism. China tells Bush to stay out of other countries\\' affairs Did World War III start today? Georgia Invades South Ossetia - if Russia gets involved, will NATO absorb Georgia and unleash a full scale war? Al-Qaeda Faces Islamist Backlash Condoleezza Rice: \"The US would not act to prevent an Israeli strike on Iran.\" Israeli Defense Minister Ehud Barak: \"Israel is prepared for uncompromising victory in the case of military hostilities.\" This is a busy day:  The European Union has approved new sanctions against Iran in protest at its nuclear programme. Georgia will withdraw 1,000 soldiers from Iraq to help fight off Russian forces in Georgia\\'s breakaway region of South Ossetia Why the Pentagon Thinks Attacking Iran is a Bad Idea - US News &amp; World Report Caucasus in crisis: Georgia invades South Ossetia Indian shoe manufactory  - And again in a series of \"you do not like your work?\" Visitors Suffering from Mental Illnesses Banned from Olympics No Help for Mexico\\'s Kidnapping Surge'"
      ]
     },
     "execution_count": 11,
     "metadata": {},
     "output_type": "execute_result"
    }
   ],
   "source": [
    "headlines[0]"
   ]
  },
  {
   "cell_type": "markdown",
   "id": "07c40277-3995-47ab-af97-c9dd073a1f8e",
   "metadata": {},
   "source": [
    "Note-se no exemplo acima que o texto contém inúmeros caracteres indesejados que não correspondem a palavras. Nesse sentido, deve-se realizar uma \"limpeza\" nesses dados, como mostrado a seguir:"
   ]
  },
  {
   "cell_type": "code",
   "execution_count": 12,
   "id": "066104f3-db3c-43a0-be15-4a8df2f44cb3",
   "metadata": {},
   "outputs": [],
   "source": [
    "def clean(text):\n",
    "    text = str(text).lower()\n",
    "    text = re.sub('\\[.*?\\]', '', text)\n",
    "    text = re.sub('https?://\\S+|www\\.\\S+', '', text)\n",
    "    text = re.sub('<.*?>+', '', text)\n",
    "    text = re.sub('[%s]' % re.escape(string.punctuation), '', text)\n",
    "    text = re.sub('\\n', '', text)\n",
    "    text = re.sub('\\w*\\d\\w*', '', text)\n",
    "    #text = [word for word in text.split(' ') if word not in stopword]\n",
    "    #text = \" \".join(text)\n",
    "    #text = [stemmer.stem(word) for word in text.split(' ')]\n",
    "    return text.strip()"
   ]
  },
  {
   "cell_type": "code",
   "execution_count": 13,
   "id": "46f693d7-622e-44e1-aef7-b9a2b18dd5c2",
   "metadata": {},
   "outputs": [
    {
     "data": {
      "text/html": [
       "<div>\n",
       "<style scoped>\n",
       "    .dataframe tbody tr th:only-of-type {\n",
       "        vertical-align: middle;\n",
       "    }\n",
       "\n",
       "    .dataframe tbody tr th {\n",
       "        vertical-align: top;\n",
       "    }\n",
       "\n",
       "    .dataframe thead th {\n",
       "        text-align: right;\n",
       "    }\n",
       "</style>\n",
       "<table border=\"1\" class=\"dataframe\">\n",
       "  <thead>\n",
       "    <tr style=\"text-align: right;\">\n",
       "      <th></th>\n",
       "      <th>Headlines</th>\n",
       "    </tr>\n",
       "    <tr>\n",
       "      <th>Date</th>\n",
       "      <th></th>\n",
       "    </tr>\n",
       "  </thead>\n",
       "  <tbody>\n",
       "    <tr>\n",
       "      <th>2008-08-08</th>\n",
       "      <td>Georgia 'downs two Russian warplanes' as count...</td>\n",
       "    </tr>\n",
       "    <tr>\n",
       "      <th>2008-08-11</th>\n",
       "      <td>Why wont America and Nato help us? If they won...</td>\n",
       "    </tr>\n",
       "    <tr>\n",
       "      <th>2008-08-12</th>\n",
       "      <td>Remember that adorable 9-year-old who sang at ...</td>\n",
       "    </tr>\n",
       "    <tr>\n",
       "      <th>2008-08-13</th>\n",
       "      <td>U.S. refuses Israel weapons to attack Iran: r...</td>\n",
       "    </tr>\n",
       "    <tr>\n",
       "      <th>2008-08-14</th>\n",
       "      <td>All the experts admit that we should legalise ...</td>\n",
       "    </tr>\n",
       "  </tbody>\n",
       "</table>\n",
       "</div>"
      ],
      "text/plain": [
       "                                                    Headlines\n",
       "Date                                                         \n",
       "2008-08-08  Georgia 'downs two Russian warplanes' as count...\n",
       "2008-08-11  Why wont America and Nato help us? If they won...\n",
       "2008-08-12  Remember that adorable 9-year-old who sang at ...\n",
       "2008-08-13   U.S. refuses Israel weapons to attack Iran: r...\n",
       "2008-08-14  All the experts admit that we should legalise ..."
      ]
     },
     "execution_count": 13,
     "metadata": {},
     "output_type": "execute_result"
    }
   ],
   "source": [
    "temp = pd.DataFrame()\n",
    "temp['Headlines'] = headlines\n",
    "temp.index = df1.index\n",
    "temp.head()"
   ]
  },
  {
   "cell_type": "code",
   "execution_count": 14,
   "id": "1d3ff023-bc6a-4bc7-8140-4debd4d636e6",
   "metadata": {},
   "outputs": [
    {
     "data": {
      "text/plain": [
       "Date\n",
       "2008-08-08    georgia downs two russian warplanes as countri...\n",
       "2008-08-11    why wont america and nato help us if they wont...\n",
       "2008-08-12    remember that adorable  who sang at the openin...\n",
       "2008-08-13    us refuses israel weapons to attack iran repor...\n",
       "2008-08-14    all the experts admit that we should legalise ...\n",
       "Name: Headlines, dtype: object"
      ]
     },
     "execution_count": 14,
     "metadata": {},
     "output_type": "execute_result"
    }
   ],
   "source": [
    "# Limpeza de dados\n",
    "temp['Headlines'] = temp['Headlines'].apply(clean)\n",
    "temp['Headlines'].head()"
   ]
  },
  {
   "cell_type": "code",
   "execution_count": 15,
   "id": "cd25746e-b098-4770-88ed-fdeda6b7dee5",
   "metadata": {},
   "outputs": [
    {
     "data": {
      "text/plain": [
       "'georgia downs two russian warplanes as countries move to brink of war breaking musharraf to be impeached russia today columns of troops roll into south ossetia footage from fighting youtube russian tanks are moving towards the capital of south ossetia which has reportedly been completely destroyed by georgian artillery fire afghan children raped with impunity un official says  this is sick a three year old was raped and they do nothing  russian tanks have entered south ossetia whilst georgia shoots down two russian jets breaking georgia invades south ossetia russia warned it would intervene on sos side the enemy combatent trials are nothing but a sham salim haman has been sentenced to   years but will be kept longer anyway just because they feel like it georgian troops retreat from s osettain capital presumably leaving several hundred people killed  did the us prep georgia for war with russia rice gives green light for israel to attack iran says us has no veto over israeli military ops announcingclass action lawsuit on behalf of american public against the fbi sorussia and georgia are at war and the nyts top story is opening ceremonies of the olympics  what a fucking disgrace and yet further proof of the decline of journalism china tells bush to stay out of other countries affairs did world war iii start today georgia invades south ossetia  if russia gets involved will nato absorb georgia and unleash a full scale war alqaeda faces islamist backlash condoleezza rice the us would not act to prevent an israeli strike on iran israeli defense minister ehud barak israel is prepared for uncompromising victory in the case of military hostilities this is a busy day  the european union has approved new sanctions against iran in protest at its nuclear programme georgia will withdraw  soldiers from iraq to help fight off russian forces in georgias breakaway region of south ossetia why the pentagon thinks attacking iran is a bad idea  us news amp world report caucasus in crisis georgia invades south ossetia indian shoe manufactory   and again in a series of you do not like your work visitors suffering from mental illnesses banned from olympics no help for mexicos kidnapping surge'"
      ]
     },
     "execution_count": 15,
     "metadata": {},
     "output_type": "execute_result"
    }
   ],
   "source": [
    "temp['Headlines'][0]                "
   ]
  },
  {
   "cell_type": "markdown",
   "id": "9a5a5e12-8d97-4401-8c0b-0031b1b059af",
   "metadata": {},
   "source": [
    "Em seguida, o _dataframe_ de preços `df2` é concatenado com o _dataframe_ de manchetes agrupadas:"
   ]
  },
  {
   "cell_type": "code",
   "execution_count": 16,
   "id": "aab7ebeb-0cbc-484f-acbc-25736445f0fc",
   "metadata": {},
   "outputs": [
    {
     "data": {
      "text/html": [
       "<div>\n",
       "<style scoped>\n",
       "    .dataframe tbody tr th:only-of-type {\n",
       "        vertical-align: middle;\n",
       "    }\n",
       "\n",
       "    .dataframe tbody tr th {\n",
       "        vertical-align: top;\n",
       "    }\n",
       "\n",
       "    .dataframe thead th {\n",
       "        text-align: right;\n",
       "    }\n",
       "</style>\n",
       "<table border=\"1\" class=\"dataframe\">\n",
       "  <thead>\n",
       "    <tr style=\"text-align: right;\">\n",
       "      <th></th>\n",
       "      <th>Open</th>\n",
       "      <th>High</th>\n",
       "      <th>Low</th>\n",
       "      <th>Close</th>\n",
       "      <th>Volume</th>\n",
       "      <th>Adj Close</th>\n",
       "      <th>Headlines</th>\n",
       "      <th>Label</th>\n",
       "    </tr>\n",
       "    <tr>\n",
       "      <th>Date</th>\n",
       "      <th></th>\n",
       "      <th></th>\n",
       "      <th></th>\n",
       "      <th></th>\n",
       "      <th></th>\n",
       "      <th></th>\n",
       "      <th></th>\n",
       "      <th></th>\n",
       "    </tr>\n",
       "  </thead>\n",
       "  <tbody>\n",
       "    <tr>\n",
       "      <th>2008-08-08</th>\n",
       "      <td>11432.089844</td>\n",
       "      <td>11759.959961</td>\n",
       "      <td>11388.040039</td>\n",
       "      <td>11734.320312</td>\n",
       "      <td>212830000</td>\n",
       "      <td>11734.320312</td>\n",
       "      <td>georgia downs two russian warplanes as countri...</td>\n",
       "      <td>0</td>\n",
       "    </tr>\n",
       "    <tr>\n",
       "      <th>2008-08-11</th>\n",
       "      <td>11729.669922</td>\n",
       "      <td>11867.110352</td>\n",
       "      <td>11675.530273</td>\n",
       "      <td>11782.349609</td>\n",
       "      <td>183190000</td>\n",
       "      <td>11782.349609</td>\n",
       "      <td>why wont america and nato help us if they wont...</td>\n",
       "      <td>1</td>\n",
       "    </tr>\n",
       "    <tr>\n",
       "      <th>2008-08-12</th>\n",
       "      <td>11781.700195</td>\n",
       "      <td>11782.349609</td>\n",
       "      <td>11601.519531</td>\n",
       "      <td>11642.469727</td>\n",
       "      <td>173590000</td>\n",
       "      <td>11642.469727</td>\n",
       "      <td>remember that adorable  who sang at the openin...</td>\n",
       "      <td>0</td>\n",
       "    </tr>\n",
       "  </tbody>\n",
       "</table>\n",
       "</div>"
      ],
      "text/plain": [
       "                    Open          High           Low         Close     Volume  \\\n",
       "Date                                                                            \n",
       "2008-08-08  11432.089844  11759.959961  11388.040039  11734.320312  212830000   \n",
       "2008-08-11  11729.669922  11867.110352  11675.530273  11782.349609  183190000   \n",
       "2008-08-12  11781.700195  11782.349609  11601.519531  11642.469727  173590000   \n",
       "\n",
       "               Adj Close                                          Headlines  \\\n",
       "Date                                                                          \n",
       "2008-08-08  11734.320312  georgia downs two russian warplanes as countri...   \n",
       "2008-08-11  11782.349609  why wont america and nato help us if they wont...   \n",
       "2008-08-12  11642.469727  remember that adorable  who sang at the openin...   \n",
       "\n",
       "            Label  \n",
       "Date               \n",
       "2008-08-08      0  \n",
       "2008-08-11      1  \n",
       "2008-08-12      0  "
      ]
     },
     "execution_count": 16,
     "metadata": {},
     "output_type": "execute_result"
    }
   ],
   "source": [
    "merge = pd.concat([df2, temp, df1['Label']], axis=1)\n",
    "merge.head(3)"
   ]
  },
  {
   "cell_type": "markdown",
   "id": "30d2d0b1-969f-42b9-8351-0b6c75831ef8",
   "metadata": {},
   "source": [
    "Como as datas de cada uma das observações eram iguais nos dois _dataframes_, não houve perda de informações nem linhas com dados faltantes:"
   ]
  },
  {
   "cell_type": "code",
   "execution_count": 17,
   "id": "6fe1a372-f4eb-4a16-a918-e9fb8376bd24",
   "metadata": {},
   "outputs": [
    {
     "data": {
      "text/plain": [
       "(1989, 8)"
      ]
     },
     "execution_count": 17,
     "metadata": {},
     "output_type": "execute_result"
    }
   ],
   "source": [
    "merge.shape"
   ]
  },
  {
   "cell_type": "code",
   "execution_count": 18,
   "id": "76e7711e-659c-4540-b204-73cc08b3fe60",
   "metadata": {},
   "outputs": [
    {
     "data": {
      "text/plain": [
       "Open         0\n",
       "High         0\n",
       "Low          0\n",
       "Close        0\n",
       "Volume       0\n",
       "Adj Close    0\n",
       "Headlines    0\n",
       "Label        0\n",
       "dtype: int64"
      ]
     },
     "execution_count": 18,
     "metadata": {},
     "output_type": "execute_result"
    }
   ],
   "source": [
    "merge.isna().sum()"
   ]
  },
  {
   "cell_type": "markdown",
   "id": "9d543df8-32e0-433a-9c0f-de5731119336",
   "metadata": {},
   "source": [
    "Como se pode verificar pelo resultado abaixo, o conjunto de manchetes agrupadas está textualmente mais limpo e legível:"
   ]
  },
  {
   "cell_type": "markdown",
   "id": "681f382b-42ec-46e7-b87b-b618a7116fa3",
   "metadata": {},
   "source": [
    "## Criação de uma funções para a análise de sentimentos em textos"
   ]
  },
  {
   "cell_type": "markdown",
   "id": "2be643ac-17a7-473d-8e7d-433abf3770e9",
   "metadata": {},
   "source": [
    "A função abaixo retorna uma medida da subjetividade presente em um dada `string` de texto:"
   ]
  },
  {
   "cell_type": "code",
   "execution_count": 19,
   "id": "62e5e74d-b9ea-4e59-a169-12cb5282d78a",
   "metadata": {},
   "outputs": [],
   "source": [
    "def get_subjectivity(text):\n",
    "    return TextBlob(text).sentiment.subjectivity"
   ]
  },
  {
   "cell_type": "markdown",
   "id": "41d3532a-d7b3-44d6-b497-1c18e0cae82a",
   "metadata": {},
   "source": [
    "A seguinte função mede o nível de polaridade em textos:"
   ]
  },
  {
   "cell_type": "code",
   "execution_count": 20,
   "id": "077a0b92-ec95-4a24-8f74-bf3850bd5ba1",
   "metadata": {},
   "outputs": [],
   "source": [
    "def get_polarity(text):\n",
    "    return TextBlob(text).sentiment.polarity"
   ]
  },
  {
   "cell_type": "markdown",
   "id": "2b682ff2-90ec-4b83-b589-f3e97c0c03ac",
   "metadata": {},
   "source": [
    "Por aplicação das funções acima, duas novas colunas serão adicionadas ao _dataframe_ `merge`: uma referente à subjetividade e outra à polaridade em cada grupo de notícias:"
   ]
  },
  {
   "cell_type": "code",
   "execution_count": 21,
   "id": "5c832b16-c8d7-4a2b-aa43-4d5a412fed66",
   "metadata": {},
   "outputs": [
    {
     "data": {
      "text/html": [
       "<div>\n",
       "<style scoped>\n",
       "    .dataframe tbody tr th:only-of-type {\n",
       "        vertical-align: middle;\n",
       "    }\n",
       "\n",
       "    .dataframe tbody tr th {\n",
       "        vertical-align: top;\n",
       "    }\n",
       "\n",
       "    .dataframe thead th {\n",
       "        text-align: right;\n",
       "    }\n",
       "</style>\n",
       "<table border=\"1\" class=\"dataframe\">\n",
       "  <thead>\n",
       "    <tr style=\"text-align: right;\">\n",
       "      <th></th>\n",
       "      <th>Open</th>\n",
       "      <th>High</th>\n",
       "      <th>Low</th>\n",
       "      <th>Close</th>\n",
       "      <th>Volume</th>\n",
       "      <th>Adj Close</th>\n",
       "      <th>Headlines</th>\n",
       "      <th>Label</th>\n",
       "      <th>Subjectivity</th>\n",
       "      <th>Polarity</th>\n",
       "    </tr>\n",
       "    <tr>\n",
       "      <th>Date</th>\n",
       "      <th></th>\n",
       "      <th></th>\n",
       "      <th></th>\n",
       "      <th></th>\n",
       "      <th></th>\n",
       "      <th></th>\n",
       "      <th></th>\n",
       "      <th></th>\n",
       "      <th></th>\n",
       "      <th></th>\n",
       "    </tr>\n",
       "  </thead>\n",
       "  <tbody>\n",
       "    <tr>\n",
       "      <th>2008-08-08</th>\n",
       "      <td>11432.089844</td>\n",
       "      <td>11759.959961</td>\n",
       "      <td>11388.040039</td>\n",
       "      <td>11734.320312</td>\n",
       "      <td>212830000</td>\n",
       "      <td>11734.320312</td>\n",
       "      <td>georgia downs two russian warplanes as countri...</td>\n",
       "      <td>0</td>\n",
       "      <td>0.267549</td>\n",
       "      <td>-0.048568</td>\n",
       "    </tr>\n",
       "    <tr>\n",
       "      <th>2008-08-11</th>\n",
       "      <td>11729.669922</td>\n",
       "      <td>11867.110352</td>\n",
       "      <td>11675.530273</td>\n",
       "      <td>11782.349609</td>\n",
       "      <td>183190000</td>\n",
       "      <td>11782.349609</td>\n",
       "      <td>why wont america and nato help us if they wont...</td>\n",
       "      <td>1</td>\n",
       "      <td>0.374806</td>\n",
       "      <td>0.109325</td>\n",
       "    </tr>\n",
       "    <tr>\n",
       "      <th>2008-08-12</th>\n",
       "      <td>11781.700195</td>\n",
       "      <td>11782.349609</td>\n",
       "      <td>11601.519531</td>\n",
       "      <td>11642.469727</td>\n",
       "      <td>173590000</td>\n",
       "      <td>11642.469727</td>\n",
       "      <td>remember that adorable  who sang at the openin...</td>\n",
       "      <td>0</td>\n",
       "      <td>0.536234</td>\n",
       "      <td>-0.044302</td>\n",
       "    </tr>\n",
       "  </tbody>\n",
       "</table>\n",
       "</div>"
      ],
      "text/plain": [
       "                    Open          High           Low         Close     Volume  \\\n",
       "Date                                                                            \n",
       "2008-08-08  11432.089844  11759.959961  11388.040039  11734.320312  212830000   \n",
       "2008-08-11  11729.669922  11867.110352  11675.530273  11782.349609  183190000   \n",
       "2008-08-12  11781.700195  11782.349609  11601.519531  11642.469727  173590000   \n",
       "\n",
       "               Adj Close                                          Headlines  \\\n",
       "Date                                                                          \n",
       "2008-08-08  11734.320312  georgia downs two russian warplanes as countri...   \n",
       "2008-08-11  11782.349609  why wont america and nato help us if they wont...   \n",
       "2008-08-12  11642.469727  remember that adorable  who sang at the openin...   \n",
       "\n",
       "            Label  Subjectivity  Polarity  \n",
       "Date                                       \n",
       "2008-08-08      0      0.267549 -0.048568  \n",
       "2008-08-11      1      0.374806  0.109325  \n",
       "2008-08-12      0      0.536234 -0.044302  "
      ]
     },
     "execution_count": 21,
     "metadata": {},
     "output_type": "execute_result"
    }
   ],
   "source": [
    "# Criação das colunas 'Subjectivity' e 'Polarity'\n",
    "merge['Subjectivity'] = merge['Headlines'].apply(get_subjectivity)\n",
    "merge['Polarity'] = merge['Headlines'].apply(get_polarity)\n",
    "merge.head(3)"
   ]
  },
  {
   "cell_type": "markdown",
   "id": "4104af26-0379-483b-bbac-9ccdb07b52cc",
   "metadata": {},
   "source": [
    "A próxima função atribui uma pontuação como medida do sentimento em cada registro dos dados:"
   ]
  },
  {
   "cell_type": "code",
   "execution_count": 22,
   "id": "2c860913-8386-4de8-93ee-113c7898488d",
   "metadata": {},
   "outputs": [],
   "source": [
    "def get_sia(text):\n",
    "    sia = SentimentIntensityAnalyzer()\n",
    "    sentiment = sia.polarity_scores(text)\n",
    "    return sentiment"
   ]
  },
  {
   "cell_type": "code",
   "execution_count": null,
   "id": "32cdbb1b-e729-4fb2-a7d4-f0a3d79090c2",
   "metadata": {},
   "outputs": [],
   "source": [
    "sentiments = {\n",
    "    'compound' : [],\n",
    "    'neg' : [],\n",
    "    'pos' : [],\n",
    "    'neu'  : []\n",
    "}\n",
    "\n",
    "SIA = 0\n",
    "for headline in merge['Headlines']:\n",
    "    SIA = get_sia(headline)\n",
    "    for name in ['compound', 'neg', 'pos', 'neu']:\n",
    "        sentiments[name].append(SIA[name])"
   ]
  },
  {
   "cell_type": "code",
   "execution_count": null,
   "id": "f4a7adaf-6cce-4150-9294-98146387fa57",
   "metadata": {},
   "outputs": [],
   "source": [
    "for name in ['compound', 'neg', 'pos', 'neu']:\n",
    "    merge[name] = sentiments[name]"
   ]
  },
  {
   "cell_type": "code",
   "execution_count": null,
   "id": "253dd8df-b1d2-41d2-a768-3ac960081a0c",
   "metadata": {},
   "outputs": [],
   "source": [
    "merge.head(3)"
   ]
  },
  {
   "cell_type": "markdown",
   "id": "f7cb01d8-576d-418e-aacc-537308e437af",
   "metadata": {},
   "source": [
    "## Modelo Predtivo"
   ]
  },
  {
   "cell_type": "code",
   "execution_count": null,
   "id": "d219b0eb-f4b4-4bc7-a937-0491ed58070e",
   "metadata": {},
   "outputs": [],
   "source": [
    "keep_columns = ['Open', 'High', 'Low', 'Close', 'Volume', 'Headlines', 'Subjectivity', 'Polarity', 'compound', 'neg', 'pos', 'neu', 'Label']\n",
    "df = merge[keep_columns]\n",
    "df.columns = ['Open', 'High', 'Low', 'Close', 'Volume', 'Headlines', 'Subjectivity', 'Polarity', 'Compound', 'Negative', 'POsitive', 'Neutral', 'Label']\n",
    "df.head()"
   ]
  },
  {
   "cell_type": "code",
   "execution_count": null,
   "id": "59ddaf87-5994-48a2-a7e0-82fb57885403",
   "metadata": {},
   "outputs": [],
   "source": [
    "# Criação dos dados de feature\n",
    "X = np.array(df.drop(['Label'], axis = 1))\n",
    "\n",
    "# Criação dos dados target\n",
    "y = np.array(df['Label'])"
   ]
  },
  {
   "cell_type": "markdown",
   "id": "9a96b99d-a19a-4f18-8aef-387dca47a184",
   "metadata": {},
   "source": [
    "Em seguida os dados criados são divididos sendo 80% para treinamento do modelo e o restante para teste."
   ]
  },
  {
   "cell_type": "code",
   "execution_count": null,
   "id": "566ef081-7d2a-47e0-aacd-074e16f2cdf9",
   "metadata": {},
   "outputs": [],
   "source": [
    "# Split the data into 80% training and 20% testing\n",
    "X_train, X_test, y_train, y_test = train_test_split(X, y, test_size=0.2, random_state=0)"
   ]
  },
  {
   "cell_type": "markdown",
   "id": "b00f6953-6d9c-476e-b733-4279b619c0f1",
   "metadata": {},
   "source": [
    "Criação do modelo de treinamento"
   ]
  },
  {
   "cell_type": "code",
   "execution_count": null,
   "id": "a4c0351f-89eb-41c4-8bb2-2ad69dfc7a28",
   "metadata": {},
   "outputs": [],
   "source": [
    "model = LinearDiscriminantAnalysis().fit(X_train, y_train)"
   ]
  },
  {
   "cell_type": "code",
   "execution_count": null,
   "id": "2501a2c7-79b3-4697-bce4-d00c9744b628",
   "metadata": {},
   "outputs": [],
   "source": []
  }
 ],
 "metadata": {
  "kernelspec": {
   "display_name": "DS Projects (venv)",
   "language": "python",
   "name": "venv"
  },
  "language_info": {
   "codemirror_mode": {
    "name": "ipython",
    "version": 3
   },
   "file_extension": ".py",
   "mimetype": "text/x-python",
   "name": "python",
   "nbconvert_exporter": "python",
   "pygments_lexer": "ipython3",
   "version": "3.10.0"
  }
 },
 "nbformat": 4,
 "nbformat_minor": 5
}
