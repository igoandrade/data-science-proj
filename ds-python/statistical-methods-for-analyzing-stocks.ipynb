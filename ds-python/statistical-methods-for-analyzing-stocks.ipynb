{
 "cells": [
  {
   "cell_type": "markdown",
   "metadata": {},
   "source": [
    "# Métodos estatísticos para análise de ações"
   ]
  },
  {
   "cell_type": "markdown",
   "metadata": {},
   "source": [
    "## Bibliotecas importadas"
   ]
  },
  {
   "cell_type": "code",
   "execution_count": 2,
   "metadata": {},
   "outputs": [],
   "source": [
    "import numpy as np\n",
    "import pandas as pd\n",
    "import pandas_datareader as pdr \n",
    "import pandas_datareader.data as web\n",
    "import datetime \n",
    "import matplotlib.pyplot as plt \n",
    "\n",
    "plt.style.use('seaborn')"
   ]
  },
  {
   "cell_type": "markdown",
   "metadata": {},
   "source": [
    "Definição do intervalo de tempo para análise de dados:"
   ]
  },
  {
   "cell_type": "code",
   "execution_count": 4,
   "metadata": {},
   "outputs": [],
   "source": [
    "start = datetime.datetime(2015, 1, 1)\n",
    "end = datetime.datetime(2019, 1, 1)"
   ]
  },
  {
   "cell_type": "markdown",
   "metadata": {},
   "source": [
    "A amostra de dados será composta pelos preços de ações da IBM desde 01 de janeiro de 2015 até 01 de janeiro de 2019. Os dados serão obtidos da API yahoo finance."
   ]
  },
  {
   "cell_type": "code",
   "execution_count": 5,
   "metadata": {},
   "outputs": [],
   "source": [
    "ibm = web.DataReader('IBM', 'yahoo', start, end)"
   ]
  },
  {
   "cell_type": "code",
   "execution_count": 6,
   "metadata": {},
   "outputs": [
    {
     "data": {
      "text/html": [
       "<div>\n",
       "<style scoped>\n",
       "    .dataframe tbody tr th:only-of-type {\n",
       "        vertical-align: middle;\n",
       "    }\n",
       "\n",
       "    .dataframe tbody tr th {\n",
       "        vertical-align: top;\n",
       "    }\n",
       "\n",
       "    .dataframe thead th {\n",
       "        text-align: right;\n",
       "    }\n",
       "</style>\n",
       "<table border=\"1\" class=\"dataframe\">\n",
       "  <thead>\n",
       "    <tr style=\"text-align: right;\">\n",
       "      <th></th>\n",
       "      <th>High</th>\n",
       "      <th>Low</th>\n",
       "      <th>Open</th>\n",
       "      <th>Close</th>\n",
       "      <th>Volume</th>\n",
       "      <th>Adj Close</th>\n",
       "    </tr>\n",
       "    <tr>\n",
       "      <th>Date</th>\n",
       "      <th></th>\n",
       "      <th></th>\n",
       "      <th></th>\n",
       "      <th></th>\n",
       "      <th></th>\n",
       "      <th></th>\n",
       "    </tr>\n",
       "  </thead>\n",
       "  <tbody>\n",
       "    <tr>\n",
       "      <th>2018-12-24</th>\n",
       "      <td>106.118546</td>\n",
       "      <td>102.772469</td>\n",
       "      <td>105.066925</td>\n",
       "      <td>102.839386</td>\n",
       "      <td>3997184.0</td>\n",
       "      <td>87.719414</td>\n",
       "    </tr>\n",
       "    <tr>\n",
       "      <th>2018-12-26</th>\n",
       "      <td>106.491394</td>\n",
       "      <td>101.281075</td>\n",
       "      <td>103.250481</td>\n",
       "      <td>106.491394</td>\n",
       "      <td>6951507.0</td>\n",
       "      <td>90.834496</td>\n",
       "    </tr>\n",
       "    <tr>\n",
       "      <th>2018-12-27</th>\n",
       "      <td>108.776291</td>\n",
       "      <td>104.655830</td>\n",
       "      <td>105.152962</td>\n",
       "      <td>108.776291</td>\n",
       "      <td>6323698.0</td>\n",
       "      <td>92.783447</td>\n",
       "    </tr>\n",
       "    <tr>\n",
       "      <th>2018-12-28</th>\n",
       "      <td>109.751434</td>\n",
       "      <td>107.552582</td>\n",
       "      <td>109.196938</td>\n",
       "      <td>108.059273</td>\n",
       "      <td>5352905.0</td>\n",
       "      <td>92.171852</td>\n",
       "    </tr>\n",
       "    <tr>\n",
       "      <th>2018-12-31</th>\n",
       "      <td>109.321220</td>\n",
       "      <td>107.476097</td>\n",
       "      <td>108.346077</td>\n",
       "      <td>108.671127</td>\n",
       "      <td>5212009.0</td>\n",
       "      <td>92.693741</td>\n",
       "    </tr>\n",
       "  </tbody>\n",
       "</table>\n",
       "</div>"
      ],
      "text/plain": [
       "                  High         Low  ...     Volume  Adj Close\n",
       "Date                                ...                      \n",
       "2018-12-24  106.118546  102.772469  ...  3997184.0  87.719414\n",
       "2018-12-26  106.491394  101.281075  ...  6951507.0  90.834496\n",
       "2018-12-27  108.776291  104.655830  ...  6323698.0  92.783447\n",
       "2018-12-28  109.751434  107.552582  ...  5352905.0  92.171852\n",
       "2018-12-31  109.321220  107.476097  ...  5212009.0  92.693741\n",
       "\n",
       "[5 rows x 6 columns]"
      ]
     },
     "execution_count": 6,
     "metadata": {},
     "output_type": "execute_result"
    }
   ],
   "source": [
    "ibm.tail()"
   ]
  },
  {
   "cell_type": "code",
   "execution_count": 7,
   "metadata": {},
   "outputs": [
    {
     "data": {
      "text/html": [
       "<div>\n",
       "<style scoped>\n",
       "    .dataframe tbody tr th:only-of-type {\n",
       "        vertical-align: middle;\n",
       "    }\n",
       "\n",
       "    .dataframe tbody tr th {\n",
       "        vertical-align: top;\n",
       "    }\n",
       "\n",
       "    .dataframe thead th {\n",
       "        text-align: right;\n",
       "    }\n",
       "</style>\n",
       "<table border=\"1\" class=\"dataframe\">\n",
       "  <thead>\n",
       "    <tr style=\"text-align: right;\">\n",
       "      <th></th>\n",
       "      <th>High</th>\n",
       "      <th>Low</th>\n",
       "      <th>Open</th>\n",
       "      <th>Close</th>\n",
       "      <th>Volume</th>\n",
       "      <th>Adj Close</th>\n",
       "    </tr>\n",
       "    <tr>\n",
       "      <th>Date</th>\n",
       "      <th></th>\n",
       "      <th></th>\n",
       "      <th></th>\n",
       "      <th></th>\n",
       "      <th></th>\n",
       "      <th></th>\n",
       "    </tr>\n",
       "  </thead>\n",
       "  <tbody>\n",
       "    <tr>\n",
       "      <th>2015-01-02</th>\n",
       "      <td>156.128113</td>\n",
       "      <td>153.919693</td>\n",
       "      <td>154.216064</td>\n",
       "      <td>154.933075</td>\n",
       "      <td>5779673.0</td>\n",
       "      <td>113.538879</td>\n",
       "    </tr>\n",
       "    <tr>\n",
       "      <th>2015-01-05</th>\n",
       "      <td>154.177826</td>\n",
       "      <td>152.189301</td>\n",
       "      <td>154.177826</td>\n",
       "      <td>152.495224</td>\n",
       "      <td>5104898.0</td>\n",
       "      <td>111.752350</td>\n",
       "    </tr>\n",
       "    <tr>\n",
       "      <th>2015-01-06</th>\n",
       "      <td>152.925430</td>\n",
       "      <td>148.346085</td>\n",
       "      <td>152.648178</td>\n",
       "      <td>149.206497</td>\n",
       "      <td>6429448.0</td>\n",
       "      <td>109.342300</td>\n",
       "    </tr>\n",
       "    <tr>\n",
       "      <th>2015-01-07</th>\n",
       "      <td>150.286804</td>\n",
       "      <td>147.256210</td>\n",
       "      <td>150.286804</td>\n",
       "      <td>148.231354</td>\n",
       "      <td>4918083.0</td>\n",
       "      <td>108.627678</td>\n",
       "    </tr>\n",
       "    <tr>\n",
       "      <th>2015-01-08</th>\n",
       "      <td>152.045883</td>\n",
       "      <td>148.709366</td>\n",
       "      <td>149.369019</td>\n",
       "      <td>151.453156</td>\n",
       "      <td>4431693.0</td>\n",
       "      <td>110.988670</td>\n",
       "    </tr>\n",
       "  </tbody>\n",
       "</table>\n",
       "</div>"
      ],
      "text/plain": [
       "                  High         Low  ...     Volume   Adj Close\n",
       "Date                                ...                       \n",
       "2015-01-02  156.128113  153.919693  ...  5779673.0  113.538879\n",
       "2015-01-05  154.177826  152.189301  ...  5104898.0  111.752350\n",
       "2015-01-06  152.925430  148.346085  ...  6429448.0  109.342300\n",
       "2015-01-07  150.286804  147.256210  ...  4918083.0  108.627678\n",
       "2015-01-08  152.045883  148.709366  ...  4431693.0  110.988670\n",
       "\n",
       "[5 rows x 6 columns]"
      ]
     },
     "execution_count": 7,
     "metadata": {},
     "output_type": "execute_result"
    }
   ],
   "source": [
    "ibm.head()"
   ]
  },
  {
   "cell_type": "markdown",
   "metadata": {},
   "source": [
    "Estatísticas básicas:"
   ]
  },
  {
   "cell_type": "code",
   "execution_count": 21,
   "metadata": {},
   "outputs": [
    {
     "name": "stdout",
     "output_type": "stream",
     "text": [
      "Média: 145.1695\n",
      "Mediana: 145.7983\n",
      "Moda: 140.0382\n"
     ]
    }
   ],
   "source": [
    "print(f\"Média: {ibm['Close'].mean():.4f}\")\n",
    "print(f\"Mediana: {ibm['Close'].median():.4f}\")\n",
    "print(f\"Moda: {ibm['Close'].mode().loc[0]:.4f}\")"
   ]
  },
  {
   "cell_type": "markdown",
   "metadata": {},
   "source": [
    "Criação do histrograma da distribuição retornos simples"
   ]
  },
  {
   "cell_type": "code",
   "execution_count": 23,
   "metadata": {},
   "outputs": [
    {
     "data": {
      "text/plain": [
       "Date\n",
       "2015-01-02         NaN\n",
       "2015-01-05   -0.015735\n",
       "2015-01-06   -0.021566\n",
       "2015-01-07   -0.006536\n",
       "2015-01-08    0.021735\n",
       "Name: Close, dtype: float64"
      ]
     },
     "execution_count": 23,
     "metadata": {},
     "output_type": "execute_result"
    }
   ],
   "source": [
    "ibm_returns = ibm['Close'].pct_change()\n",
    "ibm_returns.head()"
   ]
  },
  {
   "cell_type": "code",
   "execution_count": 33,
   "metadata": {},
   "outputs": [
    {
     "data": {
      "image/png": "[encoded data removed]",
      "text/plain": [
       "<Figure size 720x360 with 1 Axes>"
      ]
     },
     "metadata": {},
     "output_type": "display_data"
    }
   ],
   "source": [
    "N = ibm_returns.shape[0]\n",
    "k = int(np.round(1 + 3.3222 * np.log10(N)))\n",
    "\n",
    "ax = ibm_returns.hist(bins=40, edgecolor='white', figsize=(10,5))\n",
    "ax.set_xlabel('Stock Return')\n",
    "ax.set_ylabel('Frequency')\n",
    "ax.set_title('IBM Returns Frequency')\n",
    "plt.show()\n"
   ]
  },
  {
   "cell_type": "markdown",
   "metadata": {},
   "source": [
    "Histograma dos retornos logarítmicos"
   ]
  },
  {
   "cell_type": "code",
   "execution_count": 35,
   "metadata": {},
   "outputs": [],
   "source": [
    "ibm_log_returns = np.log(ibm['Close'] / ibm['Close'].shift(1))"
   ]
  },
  {
   "cell_type": "code",
   "execution_count": 70,
   "metadata": {},
   "outputs": [
    {
     "data": {
      "image/png": "[encoded data removed]",
      "text/plain": [
       "<Figure size 720x360 with 1 Axes>"
      ]
     },
     "metadata": {},
     "output_type": "display_data"
    }
   ],
   "source": [
    "median = ibm_log_returns.median()\n",
    "mean = ibm_log_returns.mean()\n",
    "\n",
    "ax = ibm_log_returns.hist(bins=40, edgecolor='white', figsize=(10,5))\n",
    "ax.axvline(mean, color='black',  linestyle='dashed', label=f'Média     = {mean:>10.6f}')\n",
    "ax.axvline(median, color='tomato', label=f'Mediana = {median:>10.6f}')\n",
    "\n",
    "ax.set_xlabel('Stock Log Return')\n",
    "ax.set_ylabel('Frequency')\n",
    "ax.set_title('IBM Log Returns Frequency')\n",
    "plt.legend()\n",
    "plt.show()\n"
   ]
  },
  {
   "cell_type": "markdown",
   "metadata": {},
   "source": [
    "Note-se que a média e a media dos retornos logarítmicos são levemente diferentes. De fato, a distribuição desses dados apresenta uma assimetria negativa igual a: "
   ]
  },
  {
   "cell_type": "code",
   "execution_count": 71,
   "metadata": {},
   "outputs": [
    {
     "data": {
      "text/plain": [
       "-0.6582895096911845"
      ]
     },
     "execution_count": 71,
     "metadata": {},
     "output_type": "execute_result"
    }
   ],
   "source": [
    "ibm_log_returns.skew()"
   ]
  },
  {
   "cell_type": "markdown",
   "metadata": {},
   "source": [
    "Além da assimetria, calculada acima, outra importante medida descritiva dos dados é a curtose. Para os retornos logarítmicos, a curtose é igual a:"
   ]
  },
  {
   "cell_type": "code",
   "execution_count": 72,
   "metadata": {},
   "outputs": [
    {
     "data": {
      "text/plain": [
       "6.257142458760562"
      ]
     },
     "execution_count": 72,
     "metadata": {},
     "output_type": "execute_result"
    }
   ],
   "source": [
    "ibm_log_returns.kurtosis()"
   ]
  },
  {
   "cell_type": "markdown",
   "metadata": {},
   "source": [
    "Intervalo Interquartil e _boxplots_"
   ]
  },
  {
   "cell_type": "markdown",
   "metadata": {},
   "source": [
    "O intergalo interquartil ($IQR$) é uma forma simples de verificar a dispersão dos dados. Essa medida de espalhamento é dada pela fórmula\n",
    "$$IQR = Q_3 - Q_1$$\n",
    "onde $Q_1$ e $Q_3$ são respectivamente o primeiro e o terceiro quartis."
   ]
  },
  {
   "cell_type": "markdown",
   "metadata": {},
   "source": [
    "O intervalo interquartil é comumente utilizado para detecção de _outliers_ de uma distribuição de dados. No caso da distribuição de preços de fechamento, temos:"
   ]
  },
  {
   "cell_type": "code",
   "execution_count": 76,
   "metadata": {},
   "outputs": [],
   "source": [
    "q1 = ibm['Close'].quantile(0.25)\n",
    "q3 = ibm['Close'].quantile(0.75)\n",
    "iqr = q3 - q1\n",
    "outliers_low = q1 - 1.5 * iqr\n",
    "outliers_high = q3 + 1.5 * iqr"
   ]
  },
  {
   "cell_type": "code",
   "execution_count": 77,
   "metadata": {},
   "outputs": [
    {
     "name": "stdout",
     "output_type": "stream",
     "text": [
      "116.26792526245117 175.5509147644043\n"
     ]
    }
   ],
   "source": [
    "print(outliers_low, outliers_high)"
   ]
  },
  {
   "cell_type": "code",
   "execution_count": 75,
   "metadata": {},
   "outputs": [
    {
     "data": {
      "image/png": "[encoded data removed]",
      "text/plain": [
       "<Figure size 576x396 with 1 Axes>"
      ]
     },
     "metadata": {},
     "output_type": "display_data"
    }
   ],
   "source": [
    "ax = plt.boxplot(ibm['Close'])\n",
    "plt.title('IBM Close - Boxplot')\n",
    "plt.xlabel('IBM')\n",
    "plt.ylabel('IBM Closing Price')\n",
    "\n",
    "plt.show()"
   ]
  },
  {
   "cell_type": "markdown",
   "metadata": {},
   "source": [
    "## Gráficos de Densidade por Kernel e Volatilidade"
   ]
  },
  {
   "cell_type": "markdown",
   "metadata": {},
   "source": [
    "### Variância\n",
    "\n",
    "Além do Intervalo Interquaril, a dispersão de daddos pode ser medida pela variância ($\\sigma^2$) e pelo Desvio Padrão ($\\sigma$). A fórmula da variância é mostrada abaixo:\n",
    "\n",
    "$$\\sigma^2 = \\sum \\dfrac{(x - \\bar{x})}{n}$$\n",
    "em que:\n",
    "\n",
    "- $x$: dado pontual\n",
    "- $\\bar{x}$: média dos dados\n",
    "- $n$: quantidade de dados"
   ]
  },
  {
   "cell_type": "markdown",
   "metadata": {},
   "source": [
    "O desvio padrão é simplesmente a raiz quadrada da variância, ou seja:\n",
    "\n",
    "$$\\sigma = \\sqrt{\\sigma^2} = \\sqrt{\\sum \\dfrac{(x - \\bar{x})}{n}}$$"
   ]
  },
  {
   "cell_type": "markdown",
   "metadata": {},
   "source": [
    "Para a distribuição de retornos logarítmicos, o desvio padrão e a variância são iguais a:"
   ]
  },
  {
   "cell_type": "code",
   "execution_count": 78,
   "metadata": {},
   "outputs": [
    {
     "name": "stdout",
     "output_type": "stream",
     "text": [
      "\n",
      "Desvio padão: 0.013\n",
      "Variância: 0.000171\n",
      "\n"
     ]
    }
   ],
   "source": [
    "var = ibm_log_returns.var()\n",
    "std = ibm_log_returns.std()\n",
    "\n",
    "print(f\"\"\"\n",
    "Desvio padão: {std:.3f}\n",
    "Variância: {var:.6f}\n",
    "\"\"\")"
   ]
  },
  {
   "cell_type": "markdown",
   "metadata": {},
   "source": [
    "Essas medidas dão uma indicação do risco do ativo analisado. Em finanças, o desvio padrão é frequentemente referido como **volatilidade**."
   ]
  },
  {
   "cell_type": "code",
   "execution_count": 79,
   "metadata": {},
   "outputs": [
    {
     "data": {
      "image/png": "[encoded data removed]",
      "text/plain": [
       "<Figure size 720x360 with 1 Axes>"
      ]
     },
     "metadata": {},
     "output_type": "display_data"
    }
   ],
   "source": [
    "ibm_log_returns.plot(kind='kde', bw_method='scott', label='IBM', figsize=(10,5))\n",
    "plt.xlabel('Log Stock Return')\n",
    "plt.ylabel('Density')\n",
    "plt.title('IBM Log Returns KDE')\n",
    "plt.show()\n"
   ]
  },
  {
   "cell_type": "markdown",
   "metadata": {},
   "source": [
    "## Covariância e Correlação"
   ]
  },
  {
   "cell_type": "markdown",
   "metadata": {},
   "source": [
    "Quando tentamos compreender a relação entre diferentes ativos, duas abordagens quantitativas que podem ser úteis são a covariância e a correlação.\n",
    "\n",
    "Dados dois ativos $a$ e $b$ com retornos respectivamente iguais a $R_a$ e $R_b$, a covariância é dada por:\n",
    "\n",
    "$$Cov(R_a, R_b) = E\\left\\{ [R_a - E(R_a)][R_b - E(R_b)]  \\right\\}$$"
   ]
  },
  {
   "cell_type": "code",
   "execution_count": 80,
   "metadata": {},
   "outputs": [],
   "source": [
    "start = datetime.datetime(2014, 1, 1)\n",
    "end = datetime.datetime(2019, 1, 1)"
   ]
  },
  {
   "cell_type": "code",
   "execution_count": 88,
   "metadata": {},
   "outputs": [],
   "source": [
    "nutanix = web.DataReader('NTNX', 'yahoo', start, end)\n",
    "sp500 = web.DataReader('^GSPC', 'yahoo', start, end)"
   ]
  },
  {
   "cell_type": "code",
   "execution_count": 89,
   "metadata": {},
   "outputs": [],
   "source": [
    "nutanix['Returns'] = nutanix['Close'].pct_change()\n",
    "sp500['Returns'] = sp500['Close'].pct_change()"
   ]
  },
  {
   "cell_type": "code",
   "execution_count": 90,
   "metadata": {},
   "outputs": [],
   "source": [
    "nutanix['Returns'] = nutanix['Returns'].dropna()\n",
    "sp500['Returns'] = sp500['Returns'].dropna()"
   ]
  },
  {
   "cell_type": "code",
   "execution_count": 92,
   "metadata": {},
   "outputs": [
    {
     "data": {
      "text/html": [
       "<div>\n",
       "<style scoped>\n",
       "    .dataframe tbody tr th:only-of-type {\n",
       "        vertical-align: middle;\n",
       "    }\n",
       "\n",
       "    .dataframe tbody tr th {\n",
       "        vertical-align: top;\n",
       "    }\n",
       "\n",
       "    .dataframe thead th {\n",
       "        text-align: right;\n",
       "    }\n",
       "</style>\n",
       "<table border=\"1\" class=\"dataframe\">\n",
       "  <thead>\n",
       "    <tr style=\"text-align: right;\">\n",
       "      <th></th>\n",
       "      <th>High</th>\n",
       "      <th>Low</th>\n",
       "      <th>Open</th>\n",
       "      <th>Close</th>\n",
       "      <th>Volume</th>\n",
       "      <th>Adj Close</th>\n",
       "      <th>Returns</th>\n",
       "    </tr>\n",
       "    <tr>\n",
       "      <th>Date</th>\n",
       "      <th></th>\n",
       "      <th></th>\n",
       "      <th></th>\n",
       "      <th></th>\n",
       "      <th></th>\n",
       "      <th></th>\n",
       "      <th></th>\n",
       "    </tr>\n",
       "  </thead>\n",
       "  <tbody>\n",
       "    <tr>\n",
       "      <th>2016-09-30</th>\n",
       "      <td>39.400002</td>\n",
       "      <td>26.100000</td>\n",
       "      <td>26.500000</td>\n",
       "      <td>37.000000</td>\n",
       "      <td>30011500</td>\n",
       "      <td>37.000000</td>\n",
       "      <td>NaN</td>\n",
       "    </tr>\n",
       "    <tr>\n",
       "      <th>2016-10-03</th>\n",
       "      <td>46.779999</td>\n",
       "      <td>37.500000</td>\n",
       "      <td>38.849998</td>\n",
       "      <td>44.459999</td>\n",
       "      <td>28809900</td>\n",
       "      <td>44.459999</td>\n",
       "      <td>0.201622</td>\n",
       "    </tr>\n",
       "    <tr>\n",
       "      <th>2016-10-04</th>\n",
       "      <td>43.400002</td>\n",
       "      <td>38.000000</td>\n",
       "      <td>43.099998</td>\n",
       "      <td>38.090000</td>\n",
       "      <td>9879400</td>\n",
       "      <td>38.090000</td>\n",
       "      <td>-0.143275</td>\n",
       "    </tr>\n",
       "    <tr>\n",
       "      <th>2016-10-05</th>\n",
       "      <td>40.860001</td>\n",
       "      <td>36.099998</td>\n",
       "      <td>40.099998</td>\n",
       "      <td>36.180000</td>\n",
       "      <td>8423500</td>\n",
       "      <td>36.180000</td>\n",
       "      <td>-0.050144</td>\n",
       "    </tr>\n",
       "    <tr>\n",
       "      <th>2016-10-06</th>\n",
       "      <td>37.700001</td>\n",
       "      <td>35.180000</td>\n",
       "      <td>35.770000</td>\n",
       "      <td>36.700001</td>\n",
       "      <td>5266600</td>\n",
       "      <td>36.700001</td>\n",
       "      <td>0.014373</td>\n",
       "    </tr>\n",
       "    <tr>\n",
       "      <th>...</th>\n",
       "      <td>...</td>\n",
       "      <td>...</td>\n",
       "      <td>...</td>\n",
       "      <td>...</td>\n",
       "      <td>...</td>\n",
       "      <td>...</td>\n",
       "      <td>...</td>\n",
       "    </tr>\n",
       "    <tr>\n",
       "      <th>2018-12-24</th>\n",
       "      <td>37.759998</td>\n",
       "      <td>35.240002</td>\n",
       "      <td>35.689999</td>\n",
       "      <td>36.130001</td>\n",
       "      <td>1480800</td>\n",
       "      <td>36.130001</td>\n",
       "      <td>-0.009323</td>\n",
       "    </tr>\n",
       "    <tr>\n",
       "      <th>2018-12-26</th>\n",
       "      <td>38.970001</td>\n",
       "      <td>36.509998</td>\n",
       "      <td>36.509998</td>\n",
       "      <td>38.919998</td>\n",
       "      <td>1774900</td>\n",
       "      <td>38.919998</td>\n",
       "      <td>0.077221</td>\n",
       "    </tr>\n",
       "    <tr>\n",
       "      <th>2018-12-27</th>\n",
       "      <td>39.910000</td>\n",
       "      <td>37.869999</td>\n",
       "      <td>38.230000</td>\n",
       "      <td>39.910000</td>\n",
       "      <td>1864800</td>\n",
       "      <td>39.910000</td>\n",
       "      <td>0.025437</td>\n",
       "    </tr>\n",
       "    <tr>\n",
       "      <th>2018-12-28</th>\n",
       "      <td>40.889999</td>\n",
       "      <td>38.970001</td>\n",
       "      <td>40.130001</td>\n",
       "      <td>40.270000</td>\n",
       "      <td>1706300</td>\n",
       "      <td>40.270000</td>\n",
       "      <td>0.009020</td>\n",
       "    </tr>\n",
       "    <tr>\n",
       "      <th>2018-12-31</th>\n",
       "      <td>42.450001</td>\n",
       "      <td>40.671001</td>\n",
       "      <td>41.060001</td>\n",
       "      <td>41.590000</td>\n",
       "      <td>2484100</td>\n",
       "      <td>41.590000</td>\n",
       "      <td>0.032779</td>\n",
       "    </tr>\n",
       "  </tbody>\n",
       "</table>\n",
       "<p>566 rows × 7 columns</p>\n",
       "</div>"
      ],
      "text/plain": [
       "                 High        Low       Open  ...    Volume  Adj Close   Returns\n",
       "Date                                         ...                               \n",
       "2016-09-30  39.400002  26.100000  26.500000  ...  30011500  37.000000       NaN\n",
       "2016-10-03  46.779999  37.500000  38.849998  ...  28809900  44.459999  0.201622\n",
       "2016-10-04  43.400002  38.000000  43.099998  ...   9879400  38.090000 -0.143275\n",
       "2016-10-05  40.860001  36.099998  40.099998  ...   8423500  36.180000 -0.050144\n",
       "2016-10-06  37.700001  35.180000  35.770000  ...   5266600  36.700001  0.014373\n",
       "...               ...        ...        ...  ...       ...        ...       ...\n",
       "2018-12-24  37.759998  35.240002  35.689999  ...   1480800  36.130001 -0.009323\n",
       "2018-12-26  38.970001  36.509998  36.509998  ...   1774900  38.919998  0.077221\n",
       "2018-12-27  39.910000  37.869999  38.230000  ...   1864800  39.910000  0.025437\n",
       "2018-12-28  40.889999  38.970001  40.130001  ...   1706300  40.270000  0.009020\n",
       "2018-12-31  42.450001  40.671001  41.060001  ...   2484100  41.590000  0.032779\n",
       "\n",
       "[566 rows x 7 columns]"
      ]
     },
     "execution_count": 92,
     "metadata": {},
     "output_type": "execute_result"
    }
   ],
   "source": [
    "nutanix"
   ]
  },
  {
   "cell_type": "code",
   "execution_count": 91,
   "metadata": {},
   "outputs": [
    {
     "data": {
      "text/html": [
       "<div>\n",
       "<style scoped>\n",
       "    .dataframe tbody tr th:only-of-type {\n",
       "        vertical-align: middle;\n",
       "    }\n",
       "\n",
       "    .dataframe tbody tr th {\n",
       "        vertical-align: top;\n",
       "    }\n",
       "\n",
       "    .dataframe thead th {\n",
       "        text-align: right;\n",
       "    }\n",
       "</style>\n",
       "<table border=\"1\" class=\"dataframe\">\n",
       "  <thead>\n",
       "    <tr style=\"text-align: right;\">\n",
       "      <th></th>\n",
       "      <th>Nutanix Returns</th>\n",
       "      <th>SP500 Returns</th>\n",
       "    </tr>\n",
       "    <tr>\n",
       "      <th>Date</th>\n",
       "      <th></th>\n",
       "      <th></th>\n",
       "    </tr>\n",
       "  </thead>\n",
       "  <tbody>\n",
       "    <tr>\n",
       "      <th>2014-01-02</th>\n",
       "      <td>NaN</td>\n",
       "      <td>NaN</td>\n",
       "    </tr>\n",
       "    <tr>\n",
       "      <th>2014-01-03</th>\n",
       "      <td>NaN</td>\n",
       "      <td>-0.000333</td>\n",
       "    </tr>\n",
       "    <tr>\n",
       "      <th>2014-01-06</th>\n",
       "      <td>NaN</td>\n",
       "      <td>-0.002512</td>\n",
       "    </tr>\n",
       "    <tr>\n",
       "      <th>2014-01-07</th>\n",
       "      <td>NaN</td>\n",
       "      <td>0.006082</td>\n",
       "    </tr>\n",
       "    <tr>\n",
       "      <th>2014-01-08</th>\n",
       "      <td>NaN</td>\n",
       "      <td>-0.000212</td>\n",
       "    </tr>\n",
       "  </tbody>\n",
       "</table>\n",
       "</div>"
      ],
      "text/plain": [
       "            Nutanix Returns  SP500 Returns\n",
       "Date                                      \n",
       "2014-01-02              NaN            NaN\n",
       "2014-01-03              NaN      -0.000333\n",
       "2014-01-06              NaN      -0.002512\n",
       "2014-01-07              NaN       0.006082\n",
       "2014-01-08              NaN      -0.000212"
      ]
     },
     "execution_count": 91,
     "metadata": {},
     "output_type": "execute_result"
    }
   ],
   "source": [
    "nutanix_sp500 = pd.concat([nutanix['Returns'], sp500['Returns']], axis=1)\n",
    "nutanix_sp500.columns = ['Nutanix Returns', 'SP500 Returns']\n",
    "nutanix_sp500.head()"
   ]
  },
  {
   "cell_type": "code",
   "execution_count": 93,
   "metadata": {},
   "outputs": [
    {
     "data": {
      "text/html": [
       "<div>\n",
       "<style scoped>\n",
       "    .dataframe tbody tr th:only-of-type {\n",
       "        vertical-align: middle;\n",
       "    }\n",
       "\n",
       "    .dataframe tbody tr th {\n",
       "        vertical-align: top;\n",
       "    }\n",
       "\n",
       "    .dataframe thead th {\n",
       "        text-align: right;\n",
       "    }\n",
       "</style>\n",
       "<table border=\"1\" class=\"dataframe\">\n",
       "  <thead>\n",
       "    <tr style=\"text-align: right;\">\n",
       "      <th></th>\n",
       "      <th>Nutanix Returns</th>\n",
       "      <th>SP500 Returns</th>\n",
       "    </tr>\n",
       "  </thead>\n",
       "  <tbody>\n",
       "    <tr>\n",
       "      <th>Nutanix Returns</th>\n",
       "      <td>0.001484</td>\n",
       "      <td>0.000119</td>\n",
       "    </tr>\n",
       "    <tr>\n",
       "      <th>SP500 Returns</th>\n",
       "      <td>0.000119</td>\n",
       "      <td>0.000069</td>\n",
       "    </tr>\n",
       "  </tbody>\n",
       "</table>\n",
       "</div>"
      ],
      "text/plain": [
       "                 Nutanix Returns  SP500 Returns\n",
       "Nutanix Returns         0.001484       0.000119\n",
       "SP500 Returns           0.000119       0.000069"
      ]
     },
     "execution_count": 93,
     "metadata": {},
     "output_type": "execute_result"
    }
   ],
   "source": [
    "covariance = nutanix_sp500.cov()\n",
    "covariance"
   ]
  },
  {
   "cell_type": "markdown",
   "metadata": {},
   "source": [
    "### Correlação\n",
    "\n",
    "$$Corr(R_a, R_b) = \\dfrac{Cov(R_a, R_b)}{\\sigma(R_a) \\sigma(R_b)}$$"
   ]
  },
  {
   "cell_type": "code",
   "execution_count": 94,
   "metadata": {},
   "outputs": [
    {
     "data": {
      "text/html": [
       "<div>\n",
       "<style scoped>\n",
       "    .dataframe tbody tr th:only-of-type {\n",
       "        vertical-align: middle;\n",
       "    }\n",
       "\n",
       "    .dataframe tbody tr th {\n",
       "        vertical-align: top;\n",
       "    }\n",
       "\n",
       "    .dataframe thead th {\n",
       "        text-align: right;\n",
       "    }\n",
       "</style>\n",
       "<table border=\"1\" class=\"dataframe\">\n",
       "  <thead>\n",
       "    <tr style=\"text-align: right;\">\n",
       "      <th></th>\n",
       "      <th>Nutanix Returns</th>\n",
       "      <th>SP500 Returns</th>\n",
       "    </tr>\n",
       "  </thead>\n",
       "  <tbody>\n",
       "    <tr>\n",
       "      <th>Nutanix Returns</th>\n",
       "      <td>1.000000</td>\n",
       "      <td>0.391875</td>\n",
       "    </tr>\n",
       "    <tr>\n",
       "      <th>SP500 Returns</th>\n",
       "      <td>0.391875</td>\n",
       "      <td>1.000000</td>\n",
       "    </tr>\n",
       "  </tbody>\n",
       "</table>\n",
       "</div>"
      ],
      "text/plain": [
       "                 Nutanix Returns  SP500 Returns\n",
       "Nutanix Returns         1.000000       0.391875\n",
       "SP500 Returns           0.391875       1.000000"
      ]
     },
     "execution_count": 94,
     "metadata": {},
     "output_type": "execute_result"
    }
   ],
   "source": [
    "correlation = nutanix_sp500.corr()\n",
    "correlation"
   ]
  },
  {
   "cell_type": "markdown",
   "metadata": {},
   "source": [
    "## Gráficos de dispersão e Mapas de calor"
   ]
  },
  {
   "cell_type": "code",
   "execution_count": 95,
   "metadata": {},
   "outputs": [],
   "source": [
    "from pandas.plotting import scatter_matrix"
   ]
  },
  {
   "cell_type": "code",
   "execution_count": 101,
   "metadata": {},
   "outputs": [
    {
     "data": {
      "image/png": "[encoded data removed]",
      "text/plain": [
       "<Figure size 864x720 with 4 Axes>"
      ]
     },
     "metadata": {},
     "output_type": "display_data"
    }
   ],
   "source": [
    "scatter_matrix(nutanix_sp500, figsize=(12, 10), alpha=0.5, hist_kwds={'bins':90, 'edgecolor':'white'})\n",
    "_=plt.title('Nutanixand SP500 Scatterplot')\n",
    "plt.show()"
   ]
  },
  {
   "cell_type": "code",
   "execution_count": 102,
   "metadata": {},
   "outputs": [],
   "source": [
    "import seaborn as sns"
   ]
  },
  {
   "cell_type": "code",
   "execution_count": 103,
   "metadata": {},
   "outputs": [
    {
     "data": {
      "image/png": "[encoded data removed]",
      "text/plain": [
       "<Figure size 576x396 with 2 Axes>"
      ]
     },
     "metadata": {},
     "output_type": "display_data"
    }
   ],
   "source": [
    "sns.heatmap(correlation, annot=True, cmap=None, linewidths=0.3, annot_kws={'size': 20})\n",
    "\n",
    "_=plt.title('Nutanix SP500 Heatmap')\n",
    "\n",
    "plt.show()"
   ]
  },
  {
   "cell_type": "code",
   "execution_count": null,
   "metadata": {},
   "outputs": [],
   "source": []
  }
 ],
 "metadata": {
  "interpreter": {
   "hash": "8b8334dab9339717f727a1deaf837b322d7a41c20d15cc86be99a8e69ceec8ce"
  },
  "kernelspec": {
   "display_name": "Python 3.8.12 64-bit ('3.8.12')",
   "language": "python",
   "name": "python3"
  },
  "language_info": {
   "codemirror_mode": {
    "name": "ipython",
    "version": 3
   },
   "file_extension": ".py",
   "mimetype": "text/x-python",
   "name": "python",
   "nbconvert_exporter": "python",
   "pygments_lexer": "ipython3",
   "version": "3.8.12"
  },
  "orig_nbformat": 4
 },
 "nbformat": 4,
 "nbformat_minor": 2
}
