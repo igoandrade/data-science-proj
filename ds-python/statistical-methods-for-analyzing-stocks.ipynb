{
 "cells": [
  {
   "cell_type": "markdown",
   "metadata": {},
   "source": [
    "# Métodos estatísticos para análise de ações"
   ]
  },
  {
   "cell_type": "markdown",
   "metadata": {},
   "source": [
    "## Bibliotecas importadas"
   ]
  },
  {
   "cell_type": "code",
   "execution_count": 2,
   "metadata": {},
   "outputs": [],
   "source": [
    "import numpy as np\n",
    "import pandas as pd\n",
    "import pandas_datareader as pdr \n",
    "import pandas_datareader.data as web\n",
    "import datetime \n",
    "import matplotlib.pyplot as plt \n",
    "\n",
    "plt.style.use('seaborn')"
   ]
  },
  {
   "cell_type": "markdown",
   "metadata": {},
   "source": [
    "Definição do intervalo de tempo para análise de dados:"
   ]
  },
  {
   "cell_type": "code",
   "execution_count": 4,
   "metadata": {},
   "outputs": [],
   "source": [
    "start = datetime.datetime(2015, 1, 1)\n",
    "end = datetime.datetime(2019, 1, 1)"
   ]
  },
  {
   "cell_type": "markdown",
   "metadata": {},
   "source": [
    "A amostra de dados será composta pelos preços de ações da IBM desde 01 de janeiro de 2015 até 01 de janeiro de 2019. Os dados serão obtidos da API yahoo finance."
   ]
  },
  {
   "cell_type": "code",
   "execution_count": 5,
   "metadata": {},
   "outputs": [],
   "source": [
    "ibm = web.DataReader('IBM', 'yahoo', start, end)"
   ]
  },
  {
   "cell_type": "code",
   "execution_count": 6,
   "metadata": {},
   "outputs": [
    {
     "data": {
      "text/html": [
       "<div>\n",
       "<style scoped>\n",
       "    .dataframe tbody tr th:only-of-type {\n",
       "        vertical-align: middle;\n",
       "    }\n",
       "\n",
       "    .dataframe tbody tr th {\n",
       "        vertical-align: top;\n",
       "    }\n",
       "\n",
       "    .dataframe thead th {\n",
       "        text-align: right;\n",
       "    }\n",
       "</style>\n",
       "<table border=\"1\" class=\"dataframe\">\n",
       "  <thead>\n",
       "    <tr style=\"text-align: right;\">\n",
       "      <th></th>\n",
       "      <th>High</th>\n",
       "      <th>Low</th>\n",
       "      <th>Open</th>\n",
       "      <th>Close</th>\n",
       "      <th>Volume</th>\n",
       "      <th>Adj Close</th>\n",
       "    </tr>\n",
       "    <tr>\n",
       "      <th>Date</th>\n",
       "      <th></th>\n",
       "      <th></th>\n",
       "      <th></th>\n",
       "      <th></th>\n",
       "      <th></th>\n",
       "      <th></th>\n",
       "    </tr>\n",
       "  </thead>\n",
       "  <tbody>\n",
       "    <tr>\n",
       "      <th>2018-12-24</th>\n",
       "      <td>106.118546</td>\n",
       "      <td>102.772469</td>\n",
       "      <td>105.066925</td>\n",
       "      <td>102.839386</td>\n",
       "      <td>3997184.0</td>\n",
       "      <td>87.719414</td>\n",
       "    </tr>\n",
       "    <tr>\n",
       "      <th>2018-12-26</th>\n",
       "      <td>106.491394</td>\n",
       "      <td>101.281075</td>\n",
       "      <td>103.250481</td>\n",
       "      <td>106.491394</td>\n",
       "      <td>6951507.0</td>\n",
       "      <td>90.834496</td>\n",
       "    </tr>\n",
       "    <tr>\n",
       "      <th>2018-12-27</th>\n",
       "      <td>108.776291</td>\n",
       "      <td>104.655830</td>\n",
       "      <td>105.152962</td>\n",
       "      <td>108.776291</td>\n",
       "      <td>6323698.0</td>\n",
       "      <td>92.783447</td>\n",
       "    </tr>\n",
       "    <tr>\n",
       "      <th>2018-12-28</th>\n",
       "      <td>109.751434</td>\n",
       "      <td>107.552582</td>\n",
       "      <td>109.196938</td>\n",
       "      <td>108.059273</td>\n",
       "      <td>5352905.0</td>\n",
       "      <td>92.171852</td>\n",
       "    </tr>\n",
       "    <tr>\n",
       "      <th>2018-12-31</th>\n",
       "      <td>109.321220</td>\n",
       "      <td>107.476097</td>\n",
       "      <td>108.346077</td>\n",
       "      <td>108.671127</td>\n",
       "      <td>5212009.0</td>\n",
       "      <td>92.693741</td>\n",
       "    </tr>\n",
       "  </tbody>\n",
       "</table>\n",
       "</div>"
      ],
      "text/plain": [
       "                  High         Low  ...     Volume  Adj Close\n",
       "Date                                ...                      \n",
       "2018-12-24  106.118546  102.772469  ...  3997184.0  87.719414\n",
       "2018-12-26  106.491394  101.281075  ...  6951507.0  90.834496\n",
       "2018-12-27  108.776291  104.655830  ...  6323698.0  92.783447\n",
       "2018-12-28  109.751434  107.552582  ...  5352905.0  92.171852\n",
       "2018-12-31  109.321220  107.476097  ...  5212009.0  92.693741\n",
       "\n",
       "[5 rows x 6 columns]"
      ]
     },
     "execution_count": 6,
     "metadata": {},
     "output_type": "execute_result"
    }
   ],
   "source": [
    "ibm.tail()"
   ]
  },
  {
   "cell_type": "code",
   "execution_count": 7,
   "metadata": {},
   "outputs": [
    {
     "data": {
      "text/html": [
       "<div>\n",
       "<style scoped>\n",
       "    .dataframe tbody tr th:only-of-type {\n",
       "        vertical-align: middle;\n",
       "    }\n",
       "\n",
       "    .dataframe tbody tr th {\n",
       "        vertical-align: top;\n",
       "    }\n",
       "\n",
       "    .dataframe thead th {\n",
       "        text-align: right;\n",
       "    }\n",
       "</style>\n",
       "<table border=\"1\" class=\"dataframe\">\n",
       "  <thead>\n",
       "    <tr style=\"text-align: right;\">\n",
       "      <th></th>\n",
       "      <th>High</th>\n",
       "      <th>Low</th>\n",
       "      <th>Open</th>\n",
       "      <th>Close</th>\n",
       "      <th>Volume</th>\n",
       "      <th>Adj Close</th>\n",
       "    </tr>\n",
       "    <tr>\n",
       "      <th>Date</th>\n",
       "      <th></th>\n",
       "      <th></th>\n",
       "      <th></th>\n",
       "      <th></th>\n",
       "      <th></th>\n",
       "      <th></th>\n",
       "    </tr>\n",
       "  </thead>\n",
       "  <tbody>\n",
       "    <tr>\n",
       "      <th>2015-01-02</th>\n",
       "      <td>156.128113</td>\n",
       "      <td>153.919693</td>\n",
       "      <td>154.216064</td>\n",
       "      <td>154.933075</td>\n",
       "      <td>5779673.0</td>\n",
       "      <td>113.538879</td>\n",
       "    </tr>\n",
       "    <tr>\n",
       "      <th>2015-01-05</th>\n",
       "      <td>154.177826</td>\n",
       "      <td>152.189301</td>\n",
       "      <td>154.177826</td>\n",
       "      <td>152.495224</td>\n",
       "      <td>5104898.0</td>\n",
       "      <td>111.752350</td>\n",
       "    </tr>\n",
       "    <tr>\n",
       "      <th>2015-01-06</th>\n",
       "      <td>152.925430</td>\n",
       "      <td>148.346085</td>\n",
       "      <td>152.648178</td>\n",
       "      <td>149.206497</td>\n",
       "      <td>6429448.0</td>\n",
       "      <td>109.342300</td>\n",
       "    </tr>\n",
       "    <tr>\n",
       "      <th>2015-01-07</th>\n",
       "      <td>150.286804</td>\n",
       "      <td>147.256210</td>\n",
       "      <td>150.286804</td>\n",
       "      <td>148.231354</td>\n",
       "      <td>4918083.0</td>\n",
       "      <td>108.627678</td>\n",
       "    </tr>\n",
       "    <tr>\n",
       "      <th>2015-01-08</th>\n",
       "      <td>152.045883</td>\n",
       "      <td>148.709366</td>\n",
       "      <td>149.369019</td>\n",
       "      <td>151.453156</td>\n",
       "      <td>4431693.0</td>\n",
       "      <td>110.988670</td>\n",
       "    </tr>\n",
       "  </tbody>\n",
       "</table>\n",
       "</div>"
      ],
      "text/plain": [
       "                  High         Low  ...     Volume   Adj Close\n",
       "Date                                ...                       \n",
       "2015-01-02  156.128113  153.919693  ...  5779673.0  113.538879\n",
       "2015-01-05  154.177826  152.189301  ...  5104898.0  111.752350\n",
       "2015-01-06  152.925430  148.346085  ...  6429448.0  109.342300\n",
       "2015-01-07  150.286804  147.256210  ...  4918083.0  108.627678\n",
       "2015-01-08  152.045883  148.709366  ...  4431693.0  110.988670\n",
       "\n",
       "[5 rows x 6 columns]"
      ]
     },
     "execution_count": 7,
     "metadata": {},
     "output_type": "execute_result"
    }
   ],
   "source": [
    "ibm.head()"
   ]
  },
  {
   "cell_type": "markdown",
   "metadata": {},
   "source": [
    "Estatísticas básicas:"
   ]
  },
  {
   "cell_type": "code",
   "execution_count": 21,
   "metadata": {},
   "outputs": [
    {
     "name": "stdout",
     "output_type": "stream",
     "text": [
      "Média: 145.1695\n",
      "Mediana: 145.7983\n",
      "Moda: 140.0382\n"
     ]
    }
   ],
   "source": [
    "print(f\"Média: {ibm['Close'].mean():.4f}\")\n",
    "print(f\"Mediana: {ibm['Close'].median():.4f}\")\n",
    "print(f\"Moda: {ibm['Close'].mode().loc[0]:.4f}\")"
   ]
  },
  {
   "cell_type": "markdown",
   "metadata": {},
   "source": [
    "Criação do histrograma da distribuição retornos simples"
   ]
  },
  {
   "cell_type": "code",
   "execution_count": 23,
   "metadata": {},
   "outputs": [
    {
     "data": {
      "text/plain": [
       "Date\n",
       "2015-01-02         NaN\n",
       "2015-01-05   -0.015735\n",
       "2015-01-06   -0.021566\n",
       "2015-01-07   -0.006536\n",
       "2015-01-08    0.021735\n",
       "Name: Close, dtype: float64"
      ]
     },
     "execution_count": 23,
     "metadata": {},
     "output_type": "execute_result"
    }
   ],
   "source": [
    "ibm_returns = ibm['Close'].pct_change()\n",
    "ibm_returns.head()"
   ]
  },
  {
   "cell_type": "code",
   "execution_count": 33,
   "metadata": {},
   "outputs": [
    {
     "data": {
      "image/png": "[encoded data removed]",
      "text/plain": [
       "<Figure size 720x360 with 1 Axes>"
      ]
     },
     "metadata": {},
     "output_type": "display_data"
    }
   ],
   "source": [
    "N = ibm_returns.shape[0]\n",
    "k = int(np.round(1 + 3.3222 * np.log10(N)))\n",
    "\n",
    "ax = ibm_returns.hist(bins=40, edgecolor='white', figsize=(10,5))\n",
    "ax.set_xlabel('Stock Return')\n",
    "ax.set_ylabel('Frequency')\n",
    "ax.set_title('IBM Returns Frequency')\n",
    "plt.show()\n"
   ]
  },
  {
   "cell_type": "markdown",
   "metadata": {},
   "source": [
    "Histograma dos retornos logarítmicos"
   ]
  },
  {
   "cell_type": "code",
   "execution_count": 35,
   "metadata": {},
   "outputs": [],
   "source": [
    "ibm_log_returns = np.log(ibm['Close'] / ibm['Close'].shift(1))"
   ]
  },
  {
   "cell_type": "code",
   "execution_count": 70,
   "metadata": {},
   "outputs": [
    {
     "data": {
      "image/png": "[encoded data removed]",
      "text/plain": [
       "<Figure size 720x360 with 1 Axes>"
      ]
     },
     "metadata": {},
     "output_type": "display_data"
    }
   ],
   "source": [
    "median = ibm_log_returns.median()\n",
    "mean = ibm_log_returns.mean()\n",
    "\n",
    "ax = ibm_log_returns.hist(bins=40, edgecolor='white', figsize=(10,5))\n",
    "ax.axvline(mean, color='black',  linestyle='dashed', label=f'Média     = {mean:>10.6f}')\n",
    "ax.axvline(median, color='tomato', label=f'Mediana = {median:>10.6f}')\n",
    "\n",
    "ax.set_xlabel('Stock Log Return')\n",
    "ax.set_ylabel('Frequency')\n",
    "ax.set_title('IBM Log Returns Frequency')\n",
    "plt.legend()\n",
    "plt.show()\n"
   ]
  },
  {
   "cell_type": "markdown",
   "metadata": {},
   "source": [
    "Note-se que a média e a media dos retornos logarítmicos são levemente diferentes. De fato, a distribuição desses dados apresenta uma assimetria negativa igual a: "
   ]
  },
  {
   "cell_type": "code",
   "execution_count": 71,
   "metadata": {},
   "outputs": [
    {
     "data": {
      "text/plain": [
       "-0.6582895096911845"
      ]
     },
     "execution_count": 71,
     "metadata": {},
     "output_type": "execute_result"
    }
   ],
   "source": [
    "ibm_log_returns.skew()"
   ]
  },
  {
   "cell_type": "markdown",
   "metadata": {},
   "source": [
    "Além da assimetria, calculada acima, outra importante medida descritiva dos dados é a curtose. Para os retornos logarítmicos, a curtose é igual a:"
   ]
  },
  {
   "cell_type": "code",
   "execution_count": 72,
   "metadata": {},
   "outputs": [
    {
     "data": {
      "text/plain": [
       "6.257142458760562"
      ]
     },
     "execution_count": 72,
     "metadata": {},
     "output_type": "execute_result"
    }
   ],
   "source": [
    "ibm_log_returns.kurtosis()"
   ]
  },
  {
   "cell_type": "code",
   "execution_count": null,
   "metadata": {},
   "outputs": [],
   "source": []
  }
 ],
 "metadata": {
  "interpreter": {
   "hash": "8b8334dab9339717f727a1deaf837b322d7a41c20d15cc86be99a8e69ceec8ce"
  },
  "kernelspec": {
   "display_name": "Python 3.8.12 64-bit ('3.8.12')",
   "language": "python",
   "name": "python3"
  },
  "language_info": {
   "codemirror_mode": {
    "name": "ipython",
    "version": 3
   },
   "file_extension": ".py",
   "mimetype": "text/x-python",
   "name": "python",
   "nbconvert_exporter": "python",
   "pygments_lexer": "ipython3",
   "version": "3.8.12"
  },
  "orig_nbformat": 4
 },
 "nbformat": 4,
 "nbformat_minor": 2
}
