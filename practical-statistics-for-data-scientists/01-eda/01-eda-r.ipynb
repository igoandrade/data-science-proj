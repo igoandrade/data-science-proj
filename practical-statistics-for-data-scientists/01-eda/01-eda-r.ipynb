{
 "cells": [
  {
   "cell_type": "markdown",
   "id": "6982be43-8801-48eb-b355-d23a01eb27de",
   "metadata": {},
   "source": [
    "# Análise Exploratória de Dados (R)"
   ]
  },
  {
   "cell_type": "markdown",
   "id": "66c3b182-c1d9-4cd2-a274-a40505388af8",
   "metadata": {},
   "source": [
    "## Bibliotecas importadas"
   ]
  },
  {
   "cell_type": "code",
   "execution_count": 57,
   "id": "db1236c5-a271-4bc1-baa1-bc0fde6ada98",
   "metadata": {},
   "outputs": [],
   "source": [
    "library(ggplot2)\n",
    "library(matrixStats)"
   ]
  },
  {
   "cell_type": "markdown",
   "id": "0039cfb5-08a5-47f6-ac08-c4c2e4fdeb46",
   "metadata": {},
   "source": [
    "## Análise da população e taxas de homicídio"
   ]
  },
  {
   "cell_type": "markdown",
   "id": "60f7aa03-db56-4dff-9f27-3f5c3f5c985c",
   "metadata": {},
   "source": [
    "### Descrição do conjunto de dados"
   ]
  },
  {
   "cell_type": "markdown",
   "id": "94757109-73d5-47f1-ad50-665eeceb6add",
   "metadata": {},
   "source": [
    "O conjunto de dado (_dataset_) analisado neste _notebook_ contém os dados populacionais de de taxa de assassinato (em unidades por 100.000 pessoas por ano) para cada um do 50 estados americanos, de acordo com o Censo 2010 desse país."
   ]
  },
  {
   "cell_type": "markdown",
   "id": "956cb9bd-9d55-448e-af81-069036e642de",
   "metadata": {},
   "source": [
    "## Carregamento dos dados e primeiras visualizações"
   ]
  },
  {
   "cell_type": "code",
   "execution_count": 3,
   "id": "3979941a-d58e-4e18-83e4-43058bfb5212",
   "metadata": {
    "tags": []
   },
   "outputs": [],
   "source": [
    "state <- read.csv('../data/state.csv')"
   ]
  },
  {
   "cell_type": "markdown",
   "id": "f45b2c30-fbe2-41c6-998d-fb57fb3928c8",
   "metadata": {},
   "source": [
    "As primeiras cinco linhas do _dataset_ são as seguintes:"
   ]
  },
  {
   "cell_type": "code",
   "execution_count": 4,
   "id": "be50faf2-20ae-4895-98da-1b4f9afff70a",
   "metadata": {},
   "outputs": [
    {
     "data": {
      "text/html": [
       "<table class=\"dataframe\">\n",
       "<caption>A data.frame: 6 × 4</caption>\n",
       "<thead>\n",
       "\t<tr><th></th><th scope=col>State</th><th scope=col>Population</th><th scope=col>Murder.Rate</th><th scope=col>Abbreviation</th></tr>\n",
       "\t<tr><th></th><th scope=col>&lt;chr&gt;</th><th scope=col>&lt;int&gt;</th><th scope=col>&lt;dbl&gt;</th><th scope=col>&lt;chr&gt;</th></tr>\n",
       "</thead>\n",
       "<tbody>\n",
       "\t<tr><th scope=row>1</th><td>Alabama   </td><td> 4779736</td><td>5.7</td><td>AL</td></tr>\n",
       "\t<tr><th scope=row>2</th><td>Alaska    </td><td>  710231</td><td>5.6</td><td>AK</td></tr>\n",
       "\t<tr><th scope=row>3</th><td>Arizona   </td><td> 6392017</td><td>4.7</td><td>AZ</td></tr>\n",
       "\t<tr><th scope=row>4</th><td>Arkansas  </td><td> 2915918</td><td>5.6</td><td>AR</td></tr>\n",
       "\t<tr><th scope=row>5</th><td>California</td><td>37253956</td><td>4.4</td><td>CA</td></tr>\n",
       "\t<tr><th scope=row>6</th><td>Colorado  </td><td> 5029196</td><td>2.8</td><td>CO</td></tr>\n",
       "</tbody>\n",
       "</table>\n"
      ],
      "text/latex": [
       "A data.frame: 6 × 4\n",
       "\\begin{tabular}{r|llll}\n",
       "  & State & Population & Murder.Rate & Abbreviation\\\\\n",
       "  & <chr> & <int> & <dbl> & <chr>\\\\\n",
       "\\hline\n",
       "\t1 & Alabama    &  4779736 & 5.7 & AL\\\\\n",
       "\t2 & Alaska     &   710231 & 5.6 & AK\\\\\n",
       "\t3 & Arizona    &  6392017 & 4.7 & AZ\\\\\n",
       "\t4 & Arkansas   &  2915918 & 5.6 & AR\\\\\n",
       "\t5 & California & 37253956 & 4.4 & CA\\\\\n",
       "\t6 & Colorado   &  5029196 & 2.8 & CO\\\\\n",
       "\\end{tabular}\n"
      ],
      "text/markdown": [
       "\n",
       "A data.frame: 6 × 4\n",
       "\n",
       "| <!--/--> | State &lt;chr&gt; | Population &lt;int&gt; | Murder.Rate &lt;dbl&gt; | Abbreviation &lt;chr&gt; |\n",
       "|---|---|---|---|---|\n",
       "| 1 | Alabama    |  4779736 | 5.7 | AL |\n",
       "| 2 | Alaska     |   710231 | 5.6 | AK |\n",
       "| 3 | Arizona    |  6392017 | 4.7 | AZ |\n",
       "| 4 | Arkansas   |  2915918 | 5.6 | AR |\n",
       "| 5 | California | 37253956 | 4.4 | CA |\n",
       "| 6 | Colorado   |  5029196 | 2.8 | CO |\n",
       "\n"
      ],
      "text/plain": [
       "  State      Population Murder.Rate Abbreviation\n",
       "1 Alabama     4779736   5.7         AL          \n",
       "2 Alaska       710231   5.6         AK          \n",
       "3 Arizona     6392017   4.7         AZ          \n",
       "4 Arkansas    2915918   5.6         AR          \n",
       "5 California 37253956   4.4         CA          \n",
       "6 Colorado    5029196   2.8         CO          "
      ]
     },
     "metadata": {},
     "output_type": "display_data"
    }
   ],
   "source": [
    "head(state)"
   ]
  },
  {
   "cell_type": "markdown",
   "id": "c0c9575a-967d-4532-bcca-6d5b0220a6d3",
   "metadata": {},
   "source": [
    "Dimensões do _dataset_:"
   ]
  },
  {
   "cell_type": "code",
   "execution_count": 6,
   "id": "4505777b-7eb2-4f98-9bf9-79f2224b45b1",
   "metadata": {},
   "outputs": [
    {
     "data": {
      "text/html": [
       "<style>\n",
       ".list-inline {list-style: none; margin:0; padding: 0}\n",
       ".list-inline>li {display: inline-block}\n",
       ".list-inline>li:not(:last-child)::after {content: \"\\00b7\"; padding: 0 .5ex}\n",
       "</style>\n",
       "<ol class=list-inline><li>50</li><li>4</li></ol>\n"
      ],
      "text/latex": [
       "\\begin{enumerate*}\n",
       "\\item 50\n",
       "\\item 4\n",
       "\\end{enumerate*}\n"
      ],
      "text/markdown": [
       "1. 50\n",
       "2. 4\n",
       "\n",
       "\n"
      ],
      "text/plain": [
       "[1] 50  4"
      ]
     },
     "metadata": {},
     "output_type": "display_data"
    }
   ],
   "source": [
    "dim(state)"
   ]
  },
  {
   "cell_type": "markdown",
   "id": "725f1b4a-3a8d-4263-8163-c6a4594fdcca",
   "metadata": {},
   "source": [
    "## Análise Exploratória de Dados"
   ]
  },
  {
   "cell_type": "markdown",
   "id": "8ba97590-d772-4308-8527-ed804861f5de",
   "metadata": {},
   "source": [
    "### Medidas de posição"
   ]
  },
  {
   "cell_type": "markdown",
   "id": "1a2b1793-c945-431e-a44f-47f59754b55e",
   "metadata": {},
   "source": [
    "A populaçãp média por estado nos EUA em 2010 foi de:"
   ]
  },
  {
   "cell_type": "code",
   "execution_count": 8,
   "id": "0e426b75-5246-4e31-b459-ea78a1b0f573",
   "metadata": {},
   "outputs": [
    {
     "data": {
      "text/html": [
       "6162876.3"
      ],
      "text/latex": [
       "6162876.3"
      ],
      "text/markdown": [
       "6162876.3"
      ],
      "text/plain": [
       "[1] 6162876"
      ]
     },
     "metadata": {},
     "output_type": "display_data"
    }
   ],
   "source": [
    "mean(state[['Population']])"
   ]
  },
  {
   "cell_type": "markdown",
   "id": "549791cb-ebbb-47ee-a991-1e43a19f24a3",
   "metadata": {},
   "source": [
    "Por sua vez, a mediana da da população é: "
   ]
  },
  {
   "cell_type": "code",
   "execution_count": 10,
   "id": "cefb59e8-ae90-42e8-9282-dc73881aca89",
   "metadata": {},
   "outputs": [
    {
     "data": {
      "text/html": [
       "4436369.5"
      ],
      "text/latex": [
       "4436369.5"
      ],
      "text/markdown": [
       "4436369.5"
      ],
      "text/plain": [
       "[1] 4436370"
      ]
     },
     "metadata": {},
     "output_type": "display_data"
    }
   ],
   "source": [
    "median(state[['Population']])"
   ]
  },
  {
   "cell_type": "markdown",
   "id": "e43cdfcf-1b43-4672-8b4c-89d545a55a55",
   "metadata": {},
   "source": [
    "O fato de que a média é maior que a mediana é um indicativo da existência de estados cuja população é muito maior que os demais (valores extremos). Uma forma de contornar esse \"problema\" é retirar do cálculo da média alguns desses valores extremos. Isso pode ser feito por meio de uma média aparada.\n",
    "\n",
    "Em **R**, isso pode ser feito por meio do uso de argumento `trim` da função `mean` utilizada acima. Por exemplo, retirando 10% dos dados em cada extremidade, tem-se:"
   ]
  },
  {
   "cell_type": "code",
   "execution_count": 12,
   "id": "02514196-dc37-485f-bc30-16c1bb41d87c",
   "metadata": {},
   "outputs": [
    {
     "data": {
      "text/html": [
       "4783697.125"
      ],
      "text/latex": [
       "4783697.125"
      ],
      "text/markdown": [
       "4783697.125"
      ],
      "text/plain": [
       "[1] 4783697"
      ]
     },
     "metadata": {},
     "output_type": "display_data"
    }
   ],
   "source": [
    "mean(state[['Population']], trim=0.1)"
   ]
  },
  {
   "cell_type": "markdown",
   "id": "98319fd9-62e1-4d53-a099-e3d9f22e58fe",
   "metadata": {},
   "source": [
    "Quanto à taxa de assassinatos, uma informação importante é a taxa de assassinato nacional. Para esse cálculo da taxa de assassinato ponderada pela população, pode-se utilizar a função `weighted.mean` ou a função `weighted.median`, ambas do pacote **R** `matrixStats`: "
   ]
  },
  {
   "cell_type": "markdown",
   "id": "8cd935b9-add3-4ff7-8a83-23e7af6027f7",
   "metadata": {},
   "source": [
    "**Média Ponderada:**"
   ]
  },
  {
   "cell_type": "code",
   "execution_count": 14,
   "id": "c53edd07-8b65-469f-9674-3ffb36c21e57",
   "metadata": {},
   "outputs": [
    {
     "data": {
      "text/html": [
       "4.44583398112339"
      ],
      "text/latex": [
       "4.44583398112339"
      ],
      "text/markdown": [
       "4.44583398112339"
      ],
      "text/plain": [
       "[1] 4.445834"
      ]
     },
     "metadata": {},
     "output_type": "display_data"
    }
   ],
   "source": [
    "weighted.mean(state[['Murder.Rate']], w = state[['Population']])"
   ]
  },
  {
   "cell_type": "markdown",
   "id": "6059a327-eaa9-432c-9968-b17e83d8ecba",
   "metadata": {},
   "source": [
    "**Mediana Ponderada:**"
   ]
  },
  {
   "cell_type": "code",
   "execution_count": 18,
   "id": "11cdf8ac-cde9-400e-b932-10759ba784f9",
   "metadata": {},
   "outputs": [
    {
     "data": {
      "text/html": [
       "4.4"
      ],
      "text/latex": [
       "4.4"
      ],
      "text/markdown": [
       "4.4"
      ],
      "text/plain": [
       "[1] 4.4"
      ]
     },
     "metadata": {},
     "output_type": "display_data"
    }
   ],
   "source": [
    "weightedMedian(state[['Murder.Rate']], w = state[['Population']])"
   ]
  },
  {
   "cell_type": "markdown",
   "id": "a4525808-54b0-46a2-adf0-dba0660e5be6",
   "metadata": {},
   "source": [
    "### Medidas de Dispersão"
   ]
  },
  {
   "cell_type": "markdown",
   "id": "e79013cb-9d97-4619-b3af-877ee0e00076",
   "metadata": {},
   "source": [
    "**Desvio Padrão:**"
   ]
  },
  {
   "cell_type": "code",
   "execution_count": 19,
   "id": "c93b8f11-4d56-4f79-9872-ddae76309eb4",
   "metadata": {},
   "outputs": [
    {
     "data": {
      "text/html": [
       "6848235.34740114"
      ],
      "text/latex": [
       "6848235.34740114"
      ],
      "text/markdown": [
       "6848235.34740114"
      ],
      "text/plain": [
       "[1] 6848235"
      ]
     },
     "metadata": {},
     "output_type": "display_data"
    }
   ],
   "source": [
    "sd(state[['Population']])"
   ]
  },
  {
   "cell_type": "markdown",
   "id": "ce3b84d2-bb09-4e67-ac17-28a63840f9c3",
   "metadata": {},
   "source": [
    "**Intervalo Interquartil ($IQR$):**"
   ]
  },
  {
   "cell_type": "code",
   "execution_count": 20,
   "id": "deb6f294-e52b-4314-800d-b80140d53055",
   "metadata": {},
   "outputs": [
    {
     "data": {
      "text/html": [
       "4847308"
      ],
      "text/latex": [
       "4847308"
      ],
      "text/markdown": [
       "4847308"
      ],
      "text/plain": [
       "[1] 4847308"
      ]
     },
     "metadata": {},
     "output_type": "display_data"
    }
   ],
   "source": [
    "IQR(state[['Population']])"
   ]
  },
  {
   "cell_type": "markdown",
   "id": "389d6c9e-2750-4498-a594-2400be2a2b54",
   "metadata": {},
   "source": [
    "**Desvio Absoluto Mediano ($MAD$):**"
   ]
  },
  {
   "cell_type": "code",
   "execution_count": 21,
   "id": "e604b9eb-12b9-4f7b-aa44-d91366df67df",
   "metadata": {},
   "outputs": [
    {
     "data": {
      "text/html": [
       "3849870.3852"
      ],
      "text/latex": [
       "3849870.3852"
      ],
      "text/markdown": [
       "3849870.3852"
      ],
      "text/plain": [
       "[1] 3849870"
      ]
     },
     "metadata": {},
     "output_type": "display_data"
    }
   ],
   "source": [
    "mad(state[['Population']])"
   ]
  },
  {
   "cell_type": "markdown",
   "id": "3d6fda57-49fb-40ed-92f7-70f611f4f5ac",
   "metadata": {},
   "source": [
    "### Exploração da Distribuição"
   ]
  },
  {
   "cell_type": "markdown",
   "id": "58244a49-beca-4070-819f-308f5cb21943",
   "metadata": {},
   "source": [
    "**Quantis** da distribuição de dados de taxa de assassinato:"
   ]
  },
  {
   "cell_type": "code",
   "execution_count": 22,
   "id": "264abcb6-d278-4d36-ad78-1610b8efac2d",
   "metadata": {},
   "outputs": [
    {
     "data": {
      "text/html": [
       "<style>\n",
       ".dl-inline {width: auto; margin:0; padding: 0}\n",
       ".dl-inline>dt, .dl-inline>dd {float: none; width: auto; display: inline-block}\n",
       ".dl-inline>dt::after {content: \":\\0020\"; padding-right: .5ex}\n",
       ".dl-inline>dt:not(:first-of-type) {padding-left: .5ex}\n",
       "</style><dl class=dl-inline><dt>5%</dt><dd>1.6</dd><dt>25%</dt><dd>2.425</dd><dt>50%</dt><dd>4</dd><dt>75%</dt><dd>5.55</dd><dt>95%</dt><dd>6.51</dd></dl>\n"
      ],
      "text/latex": [
       "\\begin{description*}\n",
       "\\item[5\\textbackslash{}\\%] 1.6\n",
       "\\item[25\\textbackslash{}\\%] 2.425\n",
       "\\item[50\\textbackslash{}\\%] 4\n",
       "\\item[75\\textbackslash{}\\%] 5.55\n",
       "\\item[95\\textbackslash{}\\%] 6.51\n",
       "\\end{description*}\n"
      ],
      "text/markdown": [
       "5%\n",
       ":   1.625%\n",
       ":   2.42550%\n",
       ":   475%\n",
       ":   5.5595%\n",
       ":   6.51\n",
       "\n"
      ],
      "text/plain": [
       "   5%   25%   50%   75%   95% \n",
       "1.600 2.425 4.000 5.550 6.510 "
      ]
     },
     "metadata": {},
     "output_type": "display_data"
    }
   ],
   "source": [
    "quantile(state$Murder.Rate, p = c(0.05, 0.25, 0.5, 0.75, 0.95))"
   ]
  },
  {
   "cell_type": "markdown",
   "id": "53c3ae6f-dd7f-47a0-8768-d3cc197a9c1d",
   "metadata": {},
   "source": [
    "Em especial, os quantis representativos de 25%, 50% e 75% são denominados **quartis** e o quartil 50% é a própria mediana da distribuição. "
   ]
  },
  {
   "cell_type": "markdown",
   "id": "c04703b4-b2f2-47e3-9d97-eb54e78f29e3",
   "metadata": {},
   "source": [
    "Visualização gráfica dos **quartis** em um gráfico de tipo _boxplot_:"
   ]
  },
  {
   "cell_type": "code",
   "execution_count": 23,
   "id": "ba0b4e47-277f-4fc7-832d-3b426af6e3e2",
   "metadata": {},
   "outputs": [
    {
     "data": {
      "image/png": "[encoded data removed]",
      "text/plain": [
       "plot without title"
      ]
     },
     "metadata": {
      "image/png": {
       "height": 420,
       "width": 420
      }
     },
     "output_type": "display_data"
    }
   ],
   "source": [
    "boxplot(state$Population / 100000,\n",
    "        ylab = \"População (em milhões)\")"
   ]
  },
  {
   "cell_type": "markdown",
   "id": "313d60fa-d01a-451b-ac6f-2852e07ca1d9",
   "metadata": {},
   "source": [
    "### Tabelas de Frequência e Histogramas"
   ]
  },
  {
   "cell_type": "code",
   "execution_count": 44,
   "id": "7964fb54-9b4d-4f74-bf74-39c1bfd91b9d",
   "metadata": {},
   "outputs": [
    {
     "data": {
      "text/html": [
       "<table class=\"dataframe\">\n",
       "<caption>A data.frame: 10 × 2</caption>\n",
       "<thead>\n",
       "\t<tr><th scope=col>pop_freq</th><th scope=col>Freq</th></tr>\n",
       "\t<tr><th scope=col>&lt;fct&gt;</th><th scope=col>&lt;int&gt;</th></tr>\n",
       "</thead>\n",
       "<tbody>\n",
       "\t<tr><td>[5.64,42.3]</td><td>24</td></tr>\n",
       "\t<tr><td>(42.3,79]  </td><td>14</td></tr>\n",
       "\t<tr><td>(79,116]   </td><td> 6</td></tr>\n",
       "\t<tr><td>(116,152]  </td><td> 2</td></tr>\n",
       "\t<tr><td>(152,189]  </td><td> 1</td></tr>\n",
       "\t<tr><td>(189,226]  </td><td> 1</td></tr>\n",
       "\t<tr><td>(226,262]  </td><td> 1</td></tr>\n",
       "\t<tr><td>(262,299]  </td><td> 0</td></tr>\n",
       "\t<tr><td>(299,336]  </td><td> 0</td></tr>\n",
       "\t<tr><td>(336,373]  </td><td> 1</td></tr>\n",
       "</tbody>\n",
       "</table>\n"
      ],
      "text/latex": [
       "A data.frame: 10 × 2\n",
       "\\begin{tabular}{ll}\n",
       " pop\\_freq & Freq\\\\\n",
       " <fct> & <int>\\\\\n",
       "\\hline\n",
       "\t {[}5.64,42.3{]} & 24\\\\\n",
       "\t (42.3,79{]}   & 14\\\\\n",
       "\t (79,116{]}    &  6\\\\\n",
       "\t (116,152{]}   &  2\\\\\n",
       "\t (152,189{]}   &  1\\\\\n",
       "\t (189,226{]}   &  1\\\\\n",
       "\t (226,262{]}   &  1\\\\\n",
       "\t (262,299{]}   &  0\\\\\n",
       "\t (299,336{]}   &  0\\\\\n",
       "\t (336,373{]}   &  1\\\\\n",
       "\\end{tabular}\n"
      ],
      "text/markdown": [
       "\n",
       "A data.frame: 10 × 2\n",
       "\n",
       "| pop_freq &lt;fct&gt; | Freq &lt;int&gt; |\n",
       "|---|---|\n",
       "| [5.64,42.3] | 24 |\n",
       "| (42.3,79]   | 14 |\n",
       "| (79,116]    |  6 |\n",
       "| (116,152]   |  2 |\n",
       "| (152,189]   |  1 |\n",
       "| (189,226]   |  1 |\n",
       "| (226,262]   |  1 |\n",
       "| (262,299]   |  0 |\n",
       "| (299,336]   |  0 |\n",
       "| (336,373]   |  1 |\n",
       "\n"
      ],
      "text/plain": [
       "   pop_freq    Freq\n",
       "1  [5.64,42.3] 24  \n",
       "2  (42.3,79]   14  \n",
       "3  (79,116]     6  \n",
       "4  (116,152]    2  \n",
       "5  (152,189]    1  \n",
       "6  (189,226]    1  \n",
       "7  (226,262]    1  \n",
       "8  (262,299]    0  \n",
       "9  (299,336]    0  \n",
       "10 (336,373]    1  "
      ]
     },
     "metadata": {},
     "output_type": "display_data"
    }
   ],
   "source": [
    "pop.mi <- state$Population / 100000\n",
    "breaks <- seq(from = min(pop.mi), \n",
    "              to = max(pop.mi),\n",
    "              length = 11)\n",
    "\n",
    "pop_freq <- cut(pop.mi, breaks = breaks, right = TRUE, include.lowest = TRUE)\n",
    "\n",
    "data.frame(table(pop_freq))"
   ]
  },
  {
   "cell_type": "code",
   "execution_count": 46,
   "id": "27690e96-f987-4144-bd84-3959d4967870",
   "metadata": {},
   "outputs": [
    {
     "data": {
      "image/png": "[encoded data removed]",
      "text/plain": [
       "Plot with title \"Histograma da População dos estados americanos em 2010\""
      ]
     },
     "metadata": {
      "image/png": {
       "height": 420,
       "width": 420
      }
     },
     "output_type": "display_data"
    }
   ],
   "source": [
    "hist(pop.mi, \n",
    "     breaks = breaks, \n",
    "     main = \"Histograma da População dos estados americanos em 2010\", \n",
    "     xlab = \"População (em milhões)\", ylab = \"Frequência\", \n",
    "     xlim = c(0, 400), ylim = c(0, 25))"
   ]
  },
  {
   "cell_type": "markdown",
   "id": "3716916a-6952-4fab-ad12-7fba071f086b",
   "metadata": {},
   "source": [
    "### Gráficos de densidade e estimativas"
   ]
  },
  {
   "cell_type": "code",
   "execution_count": 56,
   "id": "4efd620a-155a-47ab-89c3-7b18624496f8",
   "metadata": {},
   "outputs": [
    {
     "data": {
      "image/png": "[encoded data removed]",
      "text/plain": [
       "Plot with title \"Taxa de assassinatos estados americanos em 2010\""
      ]
     },
     "metadata": {
      "image/png": {
       "height": 420,
       "width": 420
      }
     },
     "output_type": "display_data"
    }
   ],
   "source": [
    "hist(state[['Murder.Rate']], \n",
    "     freq = FALSE,\n",
    "     main = \"Taxa de assassinatos estados americanos em 2010\", \n",
    "     xlab = \"Taxa de assassinatos\", ylab = \"Frequência\",\n",
    "     xlim = c(0, 12), ylim = c(0, .25))\n",
    "lines(density(state[['Murder.Rate']]), lwd =  2, col = 'blue')"
   ]
  },
  {
   "cell_type": "markdown",
   "id": "e28d5df9-c466-4a79-a026-f3e66adc254d",
   "metadata": {},
   "source": [
    "## Dados Binários e Dados Caategóricos"
   ]
  },
  {
   "cell_type": "code",
   "execution_count": 65,
   "id": "13ba182d-c5b1-4c9f-8ce3-12a451a7a661",
   "metadata": {},
   "outputs": [
    {
     "name": "stderr",
     "output_type": "stream",
     "text": [
      "Warning message in read.table(file = file, header = header, sep = sep, quote = quote, :\n",
      "\"incomplete final line found by readTableHeader on '../data/dfw_airline.csv'\"\n"
     ]
    }
   ],
   "source": [
    "dfw <- read.csv('../data/dfw_airline.csv', sep = ',')"
   ]
  },
  {
   "cell_type": "code",
   "execution_count": 66,
   "id": "a753cf60-f65f-4fdf-a265-3b8a46a17819",
   "metadata": {},
   "outputs": [
    {
     "data": {
      "text/html": [
       "<table class=\"dataframe\">\n",
       "<caption>A data.frame: 1 × 5</caption>\n",
       "<thead>\n",
       "\t<tr><th></th><th scope=col>Carrier</th><th scope=col>ATC</th><th scope=col>Weather</th><th scope=col>Security</th><th scope=col>Inbound</th></tr>\n",
       "\t<tr><th></th><th scope=col>&lt;dbl&gt;</th><th scope=col>&lt;dbl&gt;</th><th scope=col>&lt;dbl&gt;</th><th scope=col>&lt;dbl&gt;</th><th scope=col>&lt;dbl&gt;</th></tr>\n",
       "</thead>\n",
       "<tbody>\n",
       "\t<tr><th scope=row>1</th><td>64263.16</td><td>84856.5</td><td>11235.42</td><td>343.15</td><td>118427.8</td></tr>\n",
       "</tbody>\n",
       "</table>\n"
      ],
      "text/latex": [
       "A data.frame: 1 × 5\n",
       "\\begin{tabular}{r|lllll}\n",
       "  & Carrier & ATC & Weather & Security & Inbound\\\\\n",
       "  & <dbl> & <dbl> & <dbl> & <dbl> & <dbl>\\\\\n",
       "\\hline\n",
       "\t1 & 64263.16 & 84856.5 & 11235.42 & 343.15 & 118427.8\\\\\n",
       "\\end{tabular}\n"
      ],
      "text/markdown": [
       "\n",
       "A data.frame: 1 × 5\n",
       "\n",
       "| <!--/--> | Carrier &lt;dbl&gt; | ATC &lt;dbl&gt; | Weather &lt;dbl&gt; | Security &lt;dbl&gt; | Inbound &lt;dbl&gt; |\n",
       "|---|---|---|---|---|---|\n",
       "| 1 | 64263.16 | 84856.5 | 11235.42 | 343.15 | 118427.8 |\n",
       "\n"
      ],
      "text/plain": [
       "  Carrier  ATC     Weather  Security Inbound \n",
       "1 64263.16 84856.5 11235.42 343.15   118427.8"
      ]
     },
     "metadata": {},
     "output_type": "display_data"
    }
   ],
   "source": [
    "head(dfw)"
   ]
  },
  {
   "cell_type": "code",
   "execution_count": 73,
   "id": "891da86c-cf84-4162-a933-8f31afb98735",
   "metadata": {},
   "outputs": [
    {
     "data": {
      "image/png": "[encoded data removed]",
      "text/plain": [
       "plot without title"
      ]
     },
     "metadata": {
      "image/png": {
       "height": 420,
       "width": 420
      }
     },
     "output_type": "display_data"
    }
   ],
   "source": [
    "barplot(as.matrix(dfw) / 6, \n",
    "        cex.axis = 0.8, cex.names = 0.7, \n",
    "        xlab = 'Causa do atraso', \n",
    "        ylab = 'Quantidade de ocorrências', ylim = c(0, 20000))"
   ]
  },
  {
   "cell_type": "markdown",
   "id": "ef88e2bd-0714-43da-ad95-61e8f6ca999a",
   "metadata": {},
   "source": [
    "### Correlação"
   ]
  },
  {
   "cell_type": "code",
   "execution_count": null,
   "id": "bf178681-e627-48d4-b687-b7425ba3b86d",
   "metadata": {},
   "outputs": [],
   "source": []
  }
 ],
 "metadata": {
  "kernelspec": {
   "display_name": "R",
   "language": "R",
   "name": "ir"
  },
  "language_info": {
   "codemirror_mode": "r",
   "file_extension": ".r",
   "mimetype": "text/x-r-source",
   "name": "R",
   "pygments_lexer": "r",
   "version": "4.1.2"
  }
 },
 "nbformat": 4,
 "nbformat_minor": 5
}
