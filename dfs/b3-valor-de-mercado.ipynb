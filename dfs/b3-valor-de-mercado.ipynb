{
 "cells": [
  {
   "cell_type": "markdown",
   "id": "5168ed88-837f-474d-a24e-f5ddcd4f2ce3",
   "metadata": {},
   "source": [
    "# Valor de mercado de todas as companhias listadas na bolsa"
   ]
  },
  {
   "cell_type": "markdown",
   "id": "5d89f931-2059-4f14-89ec-cbaca22f670d",
   "metadata": {
    "tags": []
   },
   "source": [
    "## Bibliotecas importadas"
   ]
  },
  {
   "cell_type": "code",
   "execution_count": 1,
   "id": "64f95f1c-9829-4b47-8596-54855459d7bd",
   "metadata": {},
   "outputs": [],
   "source": [
    "# Bibliotecas importadas\n",
    "from datetime import datetime\n",
    "from time import sleep\n",
    "import pandas as pd\n",
    "import requests\n",
    "import random\n",
    "import sqlite3\n",
    "from bs4 import BeautifulSoup\n",
    "from selenium import webdriver\n",
    "from selenium.webdriver.common.by import By\n",
    "from selenium.webdriver.common.keys import Keys\n",
    "from selenium.webdriver.firefox.options import Options\n",
    "options = Options()\n",
    "options.binary_location = r'C:\\Program Files (x86)\\Mozilla Firefox\\firefox.exe' # Localicação do programa firefox.exe"
   ]
  },
  {
   "cell_type": "code",
   "execution_count": 2,
   "id": "65336578-b767-4e25-aa42-8d7ab49f85f9",
   "metadata": {},
   "outputs": [
    {
     "name": "stderr",
     "output_type": "stream",
     "text": [
      "C:\\Users\\UFT\\AppData\\Local\\Temp\\ipykernel_2428\\2149489876.py:1: DeprecationWarning: executable_path has been deprecated, please pass in a Service object\n",
      "  driver = webdriver.Firefox(executable_path='../webdrivers/geckodriver.exe', options=options) # Localicação do webdriver\n"
     ]
    }
   ],
   "source": [
    "driver = webdriver.Firefox(executable_path='../webdrivers/geckodriver.exe', options=options) # Localicação do webdriver"
   ]
  },
  {
   "cell_type": "markdown",
   "id": "b20354f3-d6cd-446e-8be1-94cc056d17ed",
   "metadata": {},
   "source": [
    "## Obtenção do valor de mercado das companhias listadas"
   ]
  },
  {
   "cell_type": "markdown",
   "id": "e32e7bbc-b24c-439c-bf67-51056de76449",
   "metadata": {},
   "source": [
    "> O valor de mercado (também chamado de market cap) de uma companhia listada em bolsa é calculado multiplicando a base acionária – ou seja, a quantidade de ações da empresa – pelo preço individual de cada classe de ações (https://www.b3.com.br/pt_br/noticias/valor-de-mercado.htm)."
   ]
  },
  {
   "cell_type": "markdown",
   "id": "3f6d71d1-3f3c-4a47-b924-72ad4c94d97f",
   "metadata": {},
   "source": [
    "![Valor de Mercado das empresas listadas na B3](img/b3-valor-de-mercado.png)\n",
    "\n",
    "> O valor de mercado das empresas listadas é obtido pelo valor da última cotação disponível da ação, multiplicado pela quantidade de ações existentes, e deve ser observado em conjunto com outras variáveis, como liquidez, volume, negociabilidade da espécie da ação.\n",
    "Dessa forma, os valores disponibilizados representam tão-somente estimativas genéricas que seguem critérios pré-estabelecidos e podem não corresponder ao valor real de mercado (https://www.b3.com.br/pt_br/market-data-e-indices/servicos-de-dados/market-data/consultas/mercado-a-vista/valor-de-mercado-das-empresas-listadas/bolsa-de-valores-mensal/)."
   ]
  },
  {
   "cell_type": "markdown",
   "id": "cece1956-0b64-4ead-9493-280ea0c53a98",
   "metadata": {},
   "source": [
    "Para esta pesquisa, será considerado o valor de mercado mensal, disponível em https://www.b3.com.br/pt_br/noticias/valor-de-mercado.htm, e datado de 04/03/2022."
   ]
  },
  {
   "cell_type": "code",
   "execution_count": 3,
   "id": "96278c09-7a89-4a7b-8076-b606238c3e00",
   "metadata": {},
   "outputs": [],
   "source": [
    "valor_mercado = pd.read_csv('data/Bolsa_Valores_Mensal.csv', delimiter='|', skiprows=1, skipfooter=3, engine='python')"
   ]
  },
  {
   "cell_type": "code",
   "execution_count": 4,
   "id": "f376a2f9-036c-4d2a-9ef0-a193bb9ae995",
   "metadata": {},
   "outputs": [],
   "source": [
    "valor_mercado = valor_mercado[['IBOV', 'IBRX100', 'Empresa', 'Valor (R$ Mil) em 31/01/2022']]"
   ]
  },
  {
   "cell_type": "code",
   "execution_count": 5,
   "id": "445c1c1f-a80a-4a97-b725-c9ad51227f9d",
   "metadata": {},
   "outputs": [
    {
     "data": {
      "text/html": [
       "<div>\n",
       "<style scoped>\n",
       "    .dataframe tbody tr th:only-of-type {\n",
       "        vertical-align: middle;\n",
       "    }\n",
       "\n",
       "    .dataframe tbody tr th {\n",
       "        vertical-align: top;\n",
       "    }\n",
       "\n",
       "    .dataframe thead th {\n",
       "        text-align: right;\n",
       "    }\n",
       "</style>\n",
       "<table border=\"1\" class=\"dataframe\">\n",
       "  <thead>\n",
       "    <tr style=\"text-align: right;\">\n",
       "      <th></th>\n",
       "      <th>IBOV</th>\n",
       "      <th>IBRX100</th>\n",
       "      <th>Empresa</th>\n",
       "      <th>Valor (R$ Mil) em 31/01/2022</th>\n",
       "    </tr>\n",
       "  </thead>\n",
       "  <tbody>\n",
       "    <tr>\n",
       "      <th>0</th>\n",
       "      <td>*</td>\n",
       "      <td>**</td>\n",
       "      <td>3R PETROLEUM</td>\n",
       "      <td>7.747159e+09</td>\n",
       "    </tr>\n",
       "    <tr>\n",
       "      <th>1</th>\n",
       "      <td>NaN</td>\n",
       "      <td>NaN</td>\n",
       "      <td>3TENTOS</td>\n",
       "      <td>4.842353e+09</td>\n",
       "    </tr>\n",
       "    <tr>\n",
       "      <th>2</th>\n",
       "      <td>NaN</td>\n",
       "      <td>NaN</td>\n",
       "      <td>ABC BRASIL</td>\n",
       "      <td>1.784291e+09</td>\n",
       "    </tr>\n",
       "    <tr>\n",
       "      <th>3</th>\n",
       "      <td>NaN</td>\n",
       "      <td>NaN</td>\n",
       "      <td>ACO ALTONA</td>\n",
       "      <td>1.953900e+08</td>\n",
       "    </tr>\n",
       "    <tr>\n",
       "      <th>4</th>\n",
       "      <td>NaN</td>\n",
       "      <td>NaN</td>\n",
       "      <td>AERIS</td>\n",
       "      <td>4.942077e+09</td>\n",
       "    </tr>\n",
       "  </tbody>\n",
       "</table>\n",
       "</div>"
      ],
      "text/plain": [
       "  IBOV IBRX100       Empresa  Valor (R$ Mil) em 31/01/2022\n",
       "0    *      **  3R PETROLEUM                  7.747159e+09\n",
       "1  NaN     NaN       3TENTOS                  4.842353e+09\n",
       "2  NaN     NaN    ABC BRASIL                  1.784291e+09\n",
       "3  NaN     NaN    ACO ALTONA                  1.953900e+08\n",
       "4  NaN     NaN         AERIS                  4.942077e+09"
      ]
     },
     "execution_count": 5,
     "metadata": {},
     "output_type": "execute_result"
    }
   ],
   "source": [
    "valor_mercado.head()"
   ]
  },
  {
   "cell_type": "code",
   "execution_count": 6,
   "id": "0947e8e6-abb8-43b6-976a-6d018cf29233",
   "metadata": {},
   "outputs": [
    {
     "data": {
      "text/html": [
       "<div>\n",
       "<style scoped>\n",
       "    .dataframe tbody tr th:only-of-type {\n",
       "        vertical-align: middle;\n",
       "    }\n",
       "\n",
       "    .dataframe tbody tr th {\n",
       "        vertical-align: top;\n",
       "    }\n",
       "\n",
       "    .dataframe thead th {\n",
       "        text-align: right;\n",
       "    }\n",
       "</style>\n",
       "<table border=\"1\" class=\"dataframe\">\n",
       "  <thead>\n",
       "    <tr style=\"text-align: right;\">\n",
       "      <th></th>\n",
       "      <th>IBOV</th>\n",
       "      <th>IBRX100</th>\n",
       "      <th>Empresa</th>\n",
       "      <th>Valor (R$ Mil) em 31/01/2022</th>\n",
       "    </tr>\n",
       "  </thead>\n",
       "  <tbody>\n",
       "    <tr>\n",
       "      <th>391</th>\n",
       "      <td>NaN</td>\n",
       "      <td>NaN</td>\n",
       "      <td>WILSON SONS</td>\n",
       "      <td>4.417499e+09</td>\n",
       "    </tr>\n",
       "    <tr>\n",
       "      <th>392</th>\n",
       "      <td>NaN</td>\n",
       "      <td>NaN</td>\n",
       "      <td>WIZ S.A.</td>\n",
       "      <td>1.312839e+09</td>\n",
       "    </tr>\n",
       "    <tr>\n",
       "      <th>393</th>\n",
       "      <td>NaN</td>\n",
       "      <td>NaN</td>\n",
       "      <td>WLM IND COM</td>\n",
       "      <td>1.171560e+09</td>\n",
       "    </tr>\n",
       "    <tr>\n",
       "      <th>394</th>\n",
       "      <td>NaN</td>\n",
       "      <td>NaN</td>\n",
       "      <td>XP INC</td>\n",
       "      <td>5.923644e+09</td>\n",
       "    </tr>\n",
       "    <tr>\n",
       "      <th>395</th>\n",
       "      <td>*</td>\n",
       "      <td>**</td>\n",
       "      <td>YDUQS PART</td>\n",
       "      <td>6.833954e+09</td>\n",
       "    </tr>\n",
       "  </tbody>\n",
       "</table>\n",
       "</div>"
      ],
      "text/plain": [
       "    IBOV IBRX100      Empresa  Valor (R$ Mil) em 31/01/2022\n",
       "391  NaN     NaN  WILSON SONS                  4.417499e+09\n",
       "392  NaN     NaN     WIZ S.A.                  1.312839e+09\n",
       "393  NaN     NaN  WLM IND COM                  1.171560e+09\n",
       "394  NaN     NaN       XP INC                  5.923644e+09\n",
       "395    *      **   YDUQS PART                  6.833954e+09"
      ]
     },
     "execution_count": 6,
     "metadata": {},
     "output_type": "execute_result"
    }
   ],
   "source": [
    "valor_mercado.tail()"
   ]
  },
  {
   "cell_type": "code",
   "execution_count": 7,
   "id": "1a0f009d-d55f-415e-8c6f-b65c34b556ef",
   "metadata": {},
   "outputs": [
    {
     "data": {
      "text/plain": [
       "['3R PETROLEUM', '3TENTOS', 'ABC BRASIL', 'ACO ALTONA', 'AERIS']"
      ]
     },
     "execution_count": 7,
     "metadata": {},
     "output_type": "execute_result"
    }
   ],
   "source": [
    "empresas = valor_mercado['Empresa'].to_list()\n",
    "empresas[:5]"
   ]
  },
  {
   "cell_type": "code",
   "execution_count": 8,
   "id": "b083db4b-e47f-49de-96fd-64a5c3b9ff87",
   "metadata": {},
   "outputs": [],
   "source": [
    "empresa = valor_mercado.iloc[13].to_dict()"
   ]
  },
  {
   "cell_type": "code",
   "execution_count": 9,
   "id": "b400ed8d-2f0c-40ed-9d0b-0457fd391dc6",
   "metadata": {},
   "outputs": [
    {
     "data": {
      "text/plain": [
       "{'IBOV': nan,\n",
       " 'IBRX100': nan,\n",
       " 'Empresa': 'ALFA INVEST',\n",
       " 'Valor (R$ Mil) em 31/01/2022': 637196316.35}"
      ]
     },
     "execution_count": 9,
     "metadata": {},
     "output_type": "execute_result"
    }
   ],
   "source": [
    "empresa"
   ]
  },
  {
   "cell_type": "code",
   "execution_count": 10,
   "id": "55d3ac3e-f76c-4da7-b9c5-0dc07efc9de3",
   "metadata": {},
   "outputs": [],
   "source": [
    "url = 'https://www.b3.com.br/pt_br/produtos-e-servicos/negociacao/renda-variavel/empresas-listadas.htm'"
   ]
  },
  {
   "cell_type": "code",
   "execution_count": 11,
   "id": "630e3fc4-c320-49f5-9c39-9a54d73f3c28",
   "metadata": {},
   "outputs": [],
   "source": [
    "driver.get(url)"
   ]
  },
  {
   "cell_type": "code",
   "execution_count": 12,
   "id": "cb65f16f-bb51-45f8-b434-706810c1d88c",
   "metadata": {},
   "outputs": [],
   "source": [
    "def obtem_url_empresa(driver, empresa):\n",
    "    # URL da página de busca por empresas\n",
    "    url_base = \"https://sistemaswebb3-listados.b3.com.br/listedCompaniesPage/\"\n",
    "    \n",
    "    # Elementos XPath\n",
    "    input_company_name_xp = '//*[@id=\"keyword\"]'\n",
    "    btn_busca_xp = '//*[@id=\"accordionName\"]/div/app-companies-home-filter-name/form/div/div[3]/button' # //*[@id=\"accordionName\"]/div/app-companies-home-filter-name/form/div/div[3]/button\n",
    "    card_empresa_xp = '//*[@id=\"nav-bloco\"]/div/div/div/div'\n",
    "    \n",
    "    try:\n",
    "        driver.get(url_base)\n",
    "        #time_sleep()\n",
    "        sleep(1)\n",
    "        driver.find_element(By.XPATH, input_company_name_xp).send_keys(empresa)\n",
    "\n",
    "        driver.find_element(By.XPATH, btn_busca_xp).click()\n",
    "\n",
    "        #time_sleep()\n",
    "        sleep(1)\n",
    "        driver.find_element(By.XPATH, card_empresa_xp).click()\n",
    "\n",
    "        #time_sleep()\n",
    "        sleep(1)\n",
    "        url_empresa = driver.current_url\n",
    "    except:\n",
    "        url_empresa = ''\n",
    "    return url_empresa"
   ]
  },
  {
   "cell_type": "code",
   "execution_count": 13,
   "id": "37bb9807-13dc-497c-98e4-97bf847baad5",
   "metadata": {},
   "outputs": [
    {
     "data": {
      "text/plain": [
       "'https://sistemaswebb3-listados.b3.com.br/listedCompaniesPage/main/1384/BRIV/overview?language=pt-br'"
      ]
     },
     "execution_count": 13,
     "metadata": {},
     "output_type": "execute_result"
    }
   ],
   "source": [
    "url_empresa = obtem_url_empresa(driver, 'ALFA INVEST')\n",
    "url_empresa"
   ]
  },
  {
   "cell_type": "code",
   "execution_count": 14,
   "id": "d5858f3d-258d-40fa-8ca3-d8fa61107358",
   "metadata": {},
   "outputs": [],
   "source": [
    "def captura_conteudo(soup, title, tag_title, tag_content):\n",
    "    try:\n",
    "        element = soup.find(lambda tag: tag.name == tag_title and title in tag.text)\n",
    "        content = element.find_next(tag_content).text.strip().replace('\\n', '')\n",
    "        for i in range(1,10):\n",
    "            content = content.replace(i * ' ', ' ')\n",
    "    except:\n",
    "        content = ''\n",
    "    return content"
   ]
  },
  {
   "cell_type": "code",
   "execution_count": 15,
   "id": "41589cac-b242-40b8-be56-371e026c52a9",
   "metadata": {},
   "outputs": [],
   "source": [
    "def split_classificacao_setorial(class_setorial):\n",
    "    setorial_list_keys = [\n",
    "        'Setor Econômico',\n",
    "        'Subsetor Econômico',\n",
    "        'Segmento Econômico',\n",
    "    ]\n",
    "    setorial_list_values = [_.strip() for _ in class_setorial.split('/')]\n",
    "    dic = dict(zip(setorial_list_keys, setorial_list_values))\n",
    "    return dic"
   ]
  },
  {
   "cell_type": "code",
   "execution_count": 85,
   "id": "8a787934-023c-436d-932a-1989c2226e8a",
   "metadata": {},
   "outputs": [],
   "source": [
    "def obtem_dados_empresa(driver, empresa_dict):\n",
    "    d = empresa_dict\n",
    "    url_empresa = obtem_url_empresa(driver, d['Empresa'])\n",
    "    sleep(1)\n",
    "    html = driver.page_source\n",
    "    sleep(1)\n",
    "    soup = BeautifulSoup(html)\n",
    "    cnpj = captura_conteudo(soup, 'CNPJ', 'p', 'p')\n",
    "    cod_cvm = captura_conteudo(soup, 'Código CVM', 'b', 'p')\n",
    "    atividade_principal = captura_conteudo(soup, 'Atividade Principal', 'p', 'p')\n",
    "    class_setorial = captura_conteudo(soup, 'Classificação Setorial', 'p', 'p')\n",
    "    site = captura_conteudo(soup, 'Site', 'p', 'p')\n",
    "    den_social = soup.find('h2').text\n",
    "    cod_negociacao = captura_conteudo(soup, 'Código de Negociação', 'p', 'p')\n",
    "    dict_setorial = split_classificacao_setorial(class_setorial)\n",
    "    d.update({\n",
    "        'CNPJ': cnpj,\n",
    "        'Código CVM': cod_cvm,\n",
    "        'Código de Negociação': cod_negociacao,\n",
    "        'Denominação Social': den_social,\n",
    "        'Atividade Principal': atividade_principal\n",
    "    })\n",
    "    d.update(dict_setorial)\n",
    "    d.update({'Site': site, 'Url Fonte': url_empresa})\n",
    "    return d"
   ]
  },
  {
   "cell_type": "code",
   "execution_count": 103,
   "id": "555febfc-bc66-4a3c-94e9-acb362c2e0a8",
   "metadata": {},
   "outputs": [
    {
     "data": {
      "text/plain": [
       "{'IBOV': '*',\n",
       " 'IBRX100': '**',\n",
       " 'Empresa': '3R PETROLEUM',\n",
       " 'Valor (R$ Mil) em 31/01/2022': 7747159302.72,\n",
       " 'CNPJ': '12.091.809/0001-55',\n",
       " 'Código CVM': '25291',\n",
       " 'Código de Negociação': 'RRRP3',\n",
       " 'Denominação Social': '3R PETROLEUM ÓLEO E GÁS S.A',\n",
       " 'Atividade Principal': 'Exploração e produção de petróleo e gás natural.',\n",
       " 'Setor Econômico': 'Petróleo. Gás e Biocombustíveis',\n",
       " 'Subsetor Econômico': 'Petróleo. Gás e Biocombustíveis',\n",
       " 'Segmento Econômico': 'Exploração. Refino e Distribuição',\n",
       " 'Site': '',\n",
       " 'Url Fonte': 'https://sistemaswebb3-listados.b3.com.br/listedCompaniesPage/main/25291/RRRP/overview?language=pt-br'}"
      ]
     },
     "execution_count": 103,
     "metadata": {},
     "output_type": "execute_result"
    }
   ],
   "source": [
    "obtem_dados_empresa(driver, valor_mercado.iloc[0].to_dict())"
   ]
  },
  {
   "cell_type": "code",
   "execution_count": 104,
   "id": "b46cf422-5813-463e-b830-2196943c45e3",
   "metadata": {},
   "outputs": [],
   "source": [
    "card_body = driver.find_element(By.CLASS_NAME, 'card-body')"
   ]
  },
  {
   "cell_type": "code",
   "execution_count": 105,
   "id": "8ac515e1-90bf-4a64-a54f-f6178ff04cc8",
   "metadata": {},
   "outputs": [],
   "source": [
    "tbl = card_body.find_element(By.TAG_NAME, 'table')"
   ]
  },
  {
   "cell_type": "code",
   "execution_count": 106,
   "id": "86d5d3e0-47f9-42fb-8bea-c2781591df94",
   "metadata": {},
   "outputs": [
    {
     "data": {
      "text/plain": [
       "<selenium.webdriver.remote.webelement.WebElement (session=\"b3fc2863-c4bb-41b4-ba1b-634c969074dc\", element=\"7aeb4dbd-efb2-43e8-95c3-4ee5eb0a3583\")>"
      ]
     },
     "execution_count": 106,
     "metadata": {},
     "output_type": "execute_result"
    }
   ],
   "source": [
    "tbl"
   ]
  },
  {
   "cell_type": "code",
   "execution_count": 107,
   "id": "caebbc60-c887-46c4-b5cb-01c6d4526e09",
   "metadata": {},
   "outputs": [],
   "source": [
    "tds = tbl.find_elements(By.TAG_NAME, 'td')"
   ]
  },
  {
   "cell_type": "code",
   "execution_count": 108,
   "id": "28f8c810-57cf-418a-8807-05544fedef26",
   "metadata": {},
   "outputs": [
    {
     "name": "stdout",
     "output_type": "stream",
     "text": [
      "\n"
     ]
    }
   ],
   "source": [
    "for td in tds[2:-1:2]:\n",
    "    print(td.text)"
   ]
  },
  {
   "cell_type": "code",
   "execution_count": null,
   "id": "7531df96-8a8d-4a8a-b9bc-b7181f16b5e4",
   "metadata": {},
   "outputs": [],
   "source": []
  }
 ],
 "metadata": {
  "kernelspec": {
   "display_name": "ds38",
   "language": "python",
   "name": "ds38"
  },
  "language_info": {
   "codemirror_mode": {
    "name": "ipython",
    "version": 3
   },
   "file_extension": ".py",
   "mimetype": "text/x-python",
   "name": "python",
   "nbconvert_exporter": "python",
   "pygments_lexer": "ipython3",
   "version": "3.8.12"
  }
 },
 "nbformat": 4,
 "nbformat_minor": 5
}
