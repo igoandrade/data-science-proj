{
 "cells": [
  {
   "cell_type": "code",
   "execution_count": 1,
   "metadata": {},
   "outputs": [
    {
     "name": "stderr",
     "output_type": "stream",
     "text": [
      "Matplotlib is building the font cache; this may take a moment.\n"
     ]
    }
   ],
   "source": [
    "import pandas as pd\n",
    "import numpy as np\n",
    "import yfinance as yf\n",
    "import matplotlib.pyplot as plt\n",
    "import sqlite3\n",
    "plt.style.use('seaborn')\n"
   ]
  },
  {
   "cell_type": "code",
   "execution_count": 2,
   "metadata": {},
   "outputs": [],
   "source": [
    "empresas_ibov = pd.read_csv('data/ibov_jan-abr_2022.csv')"
   ]
  },
  {
   "cell_type": "code",
   "execution_count": 3,
   "metadata": {},
   "outputs": [
    {
     "data": {
      "text/html": [
       "<div>\n",
       "<style scoped>\n",
       "    .dataframe tbody tr th:only-of-type {\n",
       "        vertical-align: middle;\n",
       "    }\n",
       "\n",
       "    .dataframe tbody tr th {\n",
       "        vertical-align: top;\n",
       "    }\n",
       "\n",
       "    .dataframe thead th {\n",
       "        text-align: right;\n",
       "    }\n",
       "</style>\n",
       "<table border=\"1\" class=\"dataframe\">\n",
       "  <thead>\n",
       "    <tr style=\"text-align: right;\">\n",
       "      <th></th>\n",
       "      <th>Código</th>\n",
       "      <th>Açăo</th>\n",
       "      <th>Tipo</th>\n",
       "      <th>Qtde. Teórica</th>\n",
       "      <th>Part. (%)</th>\n",
       "    </tr>\n",
       "  </thead>\n",
       "  <tbody>\n",
       "    <tr>\n",
       "      <th>0</th>\n",
       "      <td>ABEV3</td>\n",
       "      <td>AMBEV S/A</td>\n",
       "      <td>ON  EDJ</td>\n",
       "      <td>4359908680</td>\n",
       "      <td>3.368</td>\n",
       "    </tr>\n",
       "    <tr>\n",
       "      <th>1</th>\n",
       "      <td>ALPA4</td>\n",
       "      <td>ALPARGATAS</td>\n",
       "      <td>PN      N1</td>\n",
       "      <td>167963777</td>\n",
       "      <td>0.310</td>\n",
       "    </tr>\n",
       "    <tr>\n",
       "      <th>2</th>\n",
       "      <td>AMER3</td>\n",
       "      <td>AMERICANAS</td>\n",
       "      <td>ON      NM</td>\n",
       "      <td>397635158</td>\n",
       "      <td>0.629</td>\n",
       "    </tr>\n",
       "    <tr>\n",
       "      <th>3</th>\n",
       "      <td>ASAI3</td>\n",
       "      <td>ASSAI</td>\n",
       "      <td>ON      NM</td>\n",
       "      <td>794310097</td>\n",
       "      <td>0.516</td>\n",
       "    </tr>\n",
       "    <tr>\n",
       "      <th>4</th>\n",
       "      <td>AZUL4</td>\n",
       "      <td>AZUL</td>\n",
       "      <td>PN      N2</td>\n",
       "      <td>327780192</td>\n",
       "      <td>0.400</td>\n",
       "    </tr>\n",
       "  </tbody>\n",
       "</table>\n",
       "</div>"
      ],
      "text/plain": [
       "  Código        Açăo        Tipo  Qtde. Teórica  Part. (%)\n",
       "0  ABEV3   AMBEV S/A     ON  EDJ     4359908680      3.368\n",
       "1  ALPA4  ALPARGATAS  PN      N1      167963777      0.310\n",
       "2  AMER3  AMERICANAS  ON      NM      397635158      0.629\n",
       "3  ASAI3       ASSAI  ON      NM      794310097      0.516\n",
       "4  AZUL4        AZUL  PN      N2      327780192      0.400"
      ]
     },
     "execution_count": 3,
     "metadata": {},
     "output_type": "execute_result"
    }
   ],
   "source": [
    "empresas_ibov.head()"
   ]
  },
  {
   "cell_type": "code",
   "execution_count": 4,
   "metadata": {},
   "outputs": [
    {
     "data": {
      "text/plain": [
       "99.99799999999999"
      ]
     },
     "execution_count": 4,
     "metadata": {},
     "output_type": "execute_result"
    }
   ],
   "source": [
    "empresas_ibov['Part. (%)'].sum()"
   ]
  },
  {
   "cell_type": "code",
   "execution_count": 29,
   "metadata": {},
   "outputs": [],
   "source": [
    "ibov_lista = empresas_ibov['Código'].to_list()"
   ]
  },
  {
   "cell_type": "code",
   "execution_count": 30,
   "metadata": {},
   "outputs": [
    {
     "data": {
      "text/plain": [
       "['ABEV3', 'ALPA4', 'AMER3', 'ASAI3', 'AZUL4']"
      ]
     },
     "execution_count": 30,
     "metadata": {},
     "output_type": "execute_result"
    }
   ],
   "source": [
    "ibov_lista[:5]"
   ]
  },
  {
   "cell_type": "code",
   "execution_count": 31,
   "metadata": {},
   "outputs": [
    {
     "data": {
      "text/plain": [
       "93"
      ]
     },
     "execution_count": 31,
     "metadata": {},
     "output_type": "execute_result"
    }
   ],
   "source": [
    "len(ibov_lista)"
   ]
  },
  {
   "cell_type": "code",
   "execution_count": 32,
   "metadata": {},
   "outputs": [],
   "source": [
    "conn = sqlite3.connect('data/EmpresasListadasB3.db')"
   ]
  },
  {
   "cell_type": "code",
   "execution_count": 33,
   "metadata": {},
   "outputs": [],
   "source": [
    "cursor = conn.cursor()"
   ]
  },
  {
   "cell_type": "code",
   "execution_count": 34,
   "metadata": {},
   "outputs": [
    {
     "name": "stdout",
     "output_type": "stream",
     "text": [
      "[('empresas_b3',)]\n"
     ]
    }
   ],
   "source": [
    "cursor.execute(\"SELECT name FROM sqlite_master WHERE type='table';\")\n",
    "print(cursor.fetchall())"
   ]
  },
  {
   "cell_type": "code",
   "execution_count": 35,
   "metadata": {},
   "outputs": [],
   "source": [
    "query = 'select * from empresas_b3'\n",
    "df = pd.read_sql_query(query, conn)"
   ]
  },
  {
   "cell_type": "code",
   "execution_count": 36,
   "metadata": {},
   "outputs": [
    {
     "data": {
      "text/html": [
       "<div>\n",
       "<style scoped>\n",
       "    .dataframe tbody tr th:only-of-type {\n",
       "        vertical-align: middle;\n",
       "    }\n",
       "\n",
       "    .dataframe tbody tr th {\n",
       "        vertical-align: top;\n",
       "    }\n",
       "\n",
       "    .dataframe thead th {\n",
       "        text-align: right;\n",
       "    }\n",
       "</style>\n",
       "<table border=\"1\" class=\"dataframe\">\n",
       "  <thead>\n",
       "    <tr style=\"text-align: right;\">\n",
       "      <th></th>\n",
       "      <th>razao_social</th>\n",
       "      <th>nome_pregao</th>\n",
       "      <th>segmento</th>\n",
       "      <th>cod_b3</th>\n",
       "      <th>cnpj</th>\n",
       "      <th>cod_cvm</th>\n",
       "      <th>cod_negociacao</th>\n",
       "      <th>atividade_principal</th>\n",
       "      <th>setor_economico</th>\n",
       "      <th>subsetor_economico</th>\n",
       "      <th>segmento_economico</th>\n",
       "      <th>site</th>\n",
       "      <th>url_fonte</th>\n",
       "    </tr>\n",
       "  </thead>\n",
       "  <tbody>\n",
       "    <tr>\n",
       "      <th>0</th>\n",
       "      <td>3R PETROLEUM ÓLEO E GÁS S.A</td>\n",
       "      <td>3R PETROLEUM</td>\n",
       "      <td>NM</td>\n",
       "      <td>RRRP</td>\n",
       "      <td>12.091.809/0001-55</td>\n",
       "      <td>25291</td>\n",
       "      <td>RRRP3</td>\n",
       "      <td>Exploração e produção de petróleo e gás natural.</td>\n",
       "      <td>Petróleo. Gás e Biocombustíveis</td>\n",
       "      <td>Petróleo. Gás e Biocombustíveis</td>\n",
       "      <td>Exploração. Refino e Distribuição</td>\n",
       "      <td></td>\n",
       "      <td>https://sistemaswebb3-listados.b3.com.br/liste...</td>\n",
       "    </tr>\n",
       "    <tr>\n",
       "      <th>1</th>\n",
       "      <td>3Z REALTY DESENVOLVIMENTO IMOBILIARIO S/A</td>\n",
       "      <td>3ZREALTY</td>\n",
       "      <td></td>\n",
       "      <td>TZRD</td>\n",
       "      <td>08.145.855/0001-12</td>\n",
       "      <td></td>\n",
       "      <td></td>\n",
       "      <td></td>\n",
       "      <td>Não Classificados</td>\n",
       "      <td>Não Classificado</td>\n",
       "      <td>Não Classificados</td>\n",
       "      <td></td>\n",
       "      <td>https://sistemaswebb3-listados.b3.com.br/liste...</td>\n",
       "    </tr>\n",
       "    <tr>\n",
       "      <th>2</th>\n",
       "      <td>524 PARTICIPACOES S.A.</td>\n",
       "      <td>524 PARTICIP</td>\n",
       "      <td>MB</td>\n",
       "      <td>QVQP</td>\n",
       "      <td>01.851.771/0001-55</td>\n",
       "      <td>16284</td>\n",
       "      <td>QVQP3B</td>\n",
       "      <td>Holding - participação em outras sociedades</td>\n",
       "      <td>Outros</td>\n",
       "      <td>Outros</td>\n",
       "      <td>Outros</td>\n",
       "      <td>http://www.524participacoes.com.br/home/index....</td>\n",
       "      <td>https://sistemaswebb3-listados.b3.com.br/liste...</td>\n",
       "    </tr>\n",
       "    <tr>\n",
       "      <th>3</th>\n",
       "      <td>A GERADORA ALUGUEL DE MAQUINAS S.A.</td>\n",
       "      <td>GERADORA</td>\n",
       "      <td></td>\n",
       "      <td>GRDR</td>\n",
       "      <td>33.845.322/0001-90</td>\n",
       "      <td></td>\n",
       "      <td></td>\n",
       "      <td></td>\n",
       "      <td>Não Classificados</td>\n",
       "      <td>Não Classificado</td>\n",
       "      <td>Não Classificados</td>\n",
       "      <td></td>\n",
       "      <td>https://sistemaswebb3-listados.b3.com.br/liste...</td>\n",
       "    </tr>\n",
       "    <tr>\n",
       "      <th>4</th>\n",
       "      <td>A BODYTECH PARTICIPACOES S.A.</td>\n",
       "      <td>BODYTECH</td>\n",
       "      <td></td>\n",
       "      <td>BODY</td>\n",
       "      <td>07.737.623/0001-90</td>\n",
       "      <td></td>\n",
       "      <td></td>\n",
       "      <td></td>\n",
       "      <td>Não Classificados</td>\n",
       "      <td>Não Classificado</td>\n",
       "      <td>Não Classificados</td>\n",
       "      <td></td>\n",
       "      <td>https://sistemaswebb3-listados.b3.com.br/liste...</td>\n",
       "    </tr>\n",
       "  </tbody>\n",
       "</table>\n",
       "</div>"
      ],
      "text/plain": [
       "                                razao_social   nome_pregao segmento cod_b3  \\\n",
       "0                3R PETROLEUM ÓLEO E GÁS S.A  3R PETROLEUM       NM   RRRP   \n",
       "1  3Z REALTY DESENVOLVIMENTO IMOBILIARIO S/A      3ZREALTY            TZRD   \n",
       "2                     524 PARTICIPACOES S.A.  524 PARTICIP       MB   QVQP   \n",
       "3        A GERADORA ALUGUEL DE MAQUINAS S.A.      GERADORA            GRDR   \n",
       "4              A BODYTECH PARTICIPACOES S.A.      BODYTECH            BODY   \n",
       "\n",
       "                 cnpj cod_cvm cod_negociacao  \\\n",
       "0  12.091.809/0001-55   25291          RRRP3   \n",
       "1  08.145.855/0001-12                          \n",
       "2  01.851.771/0001-55   16284         QVQP3B   \n",
       "3  33.845.322/0001-90                          \n",
       "4  07.737.623/0001-90                          \n",
       "\n",
       "                                atividade_principal  \\\n",
       "0  Exploração e produção de petróleo e gás natural.   \n",
       "1                                                     \n",
       "2       Holding - participação em outras sociedades   \n",
       "3                                                     \n",
       "4                                                     \n",
       "\n",
       "                   setor_economico               subsetor_economico  \\\n",
       "0  Petróleo. Gás e Biocombustíveis  Petróleo. Gás e Biocombustíveis   \n",
       "1                Não Classificados                 Não Classificado   \n",
       "2                           Outros                           Outros   \n",
       "3                Não Classificados                 Não Classificado   \n",
       "4                Não Classificados                 Não Classificado   \n",
       "\n",
       "                  segmento_economico  \\\n",
       "0  Exploração. Refino e Distribuição   \n",
       "1                  Não Classificados   \n",
       "2                             Outros   \n",
       "3                  Não Classificados   \n",
       "4                  Não Classificados   \n",
       "\n",
       "                                                site  \\\n",
       "0                                                      \n",
       "1                                                      \n",
       "2  http://www.524participacoes.com.br/home/index....   \n",
       "3                                                      \n",
       "4                                                      \n",
       "\n",
       "                                           url_fonte  \n",
       "0  https://sistemaswebb3-listados.b3.com.br/liste...  \n",
       "1  https://sistemaswebb3-listados.b3.com.br/liste...  \n",
       "2  https://sistemaswebb3-listados.b3.com.br/liste...  \n",
       "3  https://sistemaswebb3-listados.b3.com.br/liste...  \n",
       "4  https://sistemaswebb3-listados.b3.com.br/liste...  "
      ]
     },
     "execution_count": 36,
     "metadata": {},
     "output_type": "execute_result"
    }
   ],
   "source": [
    "df.head()"
   ]
  },
  {
   "cell_type": "code",
   "execution_count": 37,
   "metadata": {},
   "outputs": [],
   "source": [
    "ibov = df[df['cod_negociacao'].isin(ibov_lista)]"
   ]
  },
  {
   "cell_type": "code",
   "execution_count": 38,
   "metadata": {},
   "outputs": [
    {
     "data": {
      "text/html": [
       "<div>\n",
       "<style scoped>\n",
       "    .dataframe tbody tr th:only-of-type {\n",
       "        vertical-align: middle;\n",
       "    }\n",
       "\n",
       "    .dataframe tbody tr th {\n",
       "        vertical-align: top;\n",
       "    }\n",
       "\n",
       "    .dataframe thead th {\n",
       "        text-align: right;\n",
       "    }\n",
       "</style>\n",
       "<table border=\"1\" class=\"dataframe\">\n",
       "  <thead>\n",
       "    <tr style=\"text-align: right;\">\n",
       "      <th></th>\n",
       "      <th>razao_social</th>\n",
       "      <th>nome_pregao</th>\n",
       "      <th>segmento</th>\n",
       "      <th>cod_b3</th>\n",
       "      <th>cnpj</th>\n",
       "      <th>cod_cvm</th>\n",
       "      <th>cod_negociacao</th>\n",
       "      <th>atividade_principal</th>\n",
       "      <th>setor_economico</th>\n",
       "      <th>subsetor_economico</th>\n",
       "      <th>segmento_economico</th>\n",
       "      <th>site</th>\n",
       "      <th>url_fonte</th>\n",
       "    </tr>\n",
       "  </thead>\n",
       "  <tbody>\n",
       "    <tr>\n",
       "      <th>0</th>\n",
       "      <td>3R PETROLEUM ÓLEO E GÁS S.A</td>\n",
       "      <td>3R PETROLEUM</td>\n",
       "      <td>NM</td>\n",
       "      <td>RRRP</td>\n",
       "      <td>12.091.809/0001-55</td>\n",
       "      <td>25291</td>\n",
       "      <td>RRRP3</td>\n",
       "      <td>Exploração e produção de petróleo e gás natural.</td>\n",
       "      <td>Petróleo. Gás e Biocombustíveis</td>\n",
       "      <td>Petróleo. Gás e Biocombustíveis</td>\n",
       "      <td>Exploração. Refino e Distribuição</td>\n",
       "      <td></td>\n",
       "      <td>https://sistemaswebb3-listados.b3.com.br/liste...</td>\n",
       "    </tr>\n",
       "    <tr>\n",
       "      <th>68</th>\n",
       "      <td>AMBEV S.A.</td>\n",
       "      <td>AMBEV S/A</td>\n",
       "      <td></td>\n",
       "      <td>ABEV</td>\n",
       "      <td>07.526.557/0001-00</td>\n",
       "      <td>23264</td>\n",
       "      <td>ABEV3</td>\n",
       "      <td>Fabricação e distribuição de cervejas. refrige...</td>\n",
       "      <td>Consumo não Cíclico</td>\n",
       "      <td>Bebidas</td>\n",
       "      <td>Cervejas e Refrigerantes</td>\n",
       "      <td>http://ri.ambev.com.br</td>\n",
       "      <td>https://sistemaswebb3-listados.b3.com.br/liste...</td>\n",
       "    </tr>\n",
       "    <tr>\n",
       "      <th>72</th>\n",
       "      <td>AMERICANAS S.A</td>\n",
       "      <td>AMERICANAS</td>\n",
       "      <td>NM</td>\n",
       "      <td>AMER</td>\n",
       "      <td>00.776.574/0001-56</td>\n",
       "      <td>20990</td>\n",
       "      <td>AMER3</td>\n",
       "      <td>Comércio varejista e atacadista em geral de qu...</td>\n",
       "      <td>Consumo Cíclico</td>\n",
       "      <td>Comércio</td>\n",
       "      <td>Produtos Diversos</td>\n",
       "      <td>http://www.b2wdigital.com</td>\n",
       "      <td>https://sistemaswebb3-listados.b3.com.br/liste...</td>\n",
       "    </tr>\n",
       "    <tr>\n",
       "      <th>98</th>\n",
       "      <td>ATACADÃO S.A.</td>\n",
       "      <td>CARREFOUR BR</td>\n",
       "      <td>NM</td>\n",
       "      <td>CRFB</td>\n",
       "      <td>75.315.333/0001-09</td>\n",
       "      <td>24171</td>\n",
       "      <td>CRFB3</td>\n",
       "      <td>Comércio varejista e atacadista de mercadorias...</td>\n",
       "      <td>Consumo não Cíclico</td>\n",
       "      <td>Comércio e Distribuição</td>\n",
       "      <td>Alimentos</td>\n",
       "      <td>www.grupocarrefourbrasil.com.br</td>\n",
       "      <td>https://sistemaswebb3-listados.b3.com.br/liste...</td>\n",
       "    </tr>\n",
       "    <tr>\n",
       "      <th>122</th>\n",
       "      <td>AZUL S.A.</td>\n",
       "      <td>AZUL</td>\n",
       "      <td>N2</td>\n",
       "      <td>AZUL</td>\n",
       "      <td>09.305.994/0001-29</td>\n",
       "      <td>24112</td>\n",
       "      <td>AZUL4</td>\n",
       "      <td>Transporte e Logística</td>\n",
       "      <td>Bens Industriais</td>\n",
       "      <td>Transporte</td>\n",
       "      <td>Transporte Aéreo</td>\n",
       "      <td>www.voeazul.com.br</td>\n",
       "      <td>https://sistemaswebb3-listados.b3.com.br/liste...</td>\n",
       "    </tr>\n",
       "    <tr>\n",
       "      <th>...</th>\n",
       "      <td>...</td>\n",
       "      <td>...</td>\n",
       "      <td>...</td>\n",
       "      <td>...</td>\n",
       "      <td>...</td>\n",
       "      <td>...</td>\n",
       "      <td>...</td>\n",
       "      <td>...</td>\n",
       "      <td>...</td>\n",
       "      <td>...</td>\n",
       "      <td>...</td>\n",
       "      <td>...</td>\n",
       "      <td>...</td>\n",
       "    </tr>\n",
       "    <tr>\n",
       "      <th>1631</th>\n",
       "      <td>VALEPAR S/A</td>\n",
       "      <td>VALEPAR</td>\n",
       "      <td></td>\n",
       "      <td>VLPR</td>\n",
       "      <td>33.592.510/0001-54</td>\n",
       "      <td>4170</td>\n",
       "      <td>VALE3</td>\n",
       "      <td>Mineração</td>\n",
       "      <td>Materiais Básicos</td>\n",
       "      <td>Mineração</td>\n",
       "      <td>Minerais Metálicos</td>\n",
       "      <td></td>\n",
       "      <td>https://sistemaswebb3-listados.b3.com.br/liste...</td>\n",
       "    </tr>\n",
       "    <tr>\n",
       "      <th>1663</th>\n",
       "      <td>VIA S.A</td>\n",
       "      <td>VIA</td>\n",
       "      <td>NM</td>\n",
       "      <td>VIIA</td>\n",
       "      <td>33.041.260/0652-90</td>\n",
       "      <td>6505</td>\n",
       "      <td>VIIA3</td>\n",
       "      <td></td>\n",
       "      <td>Consumo Cíclico</td>\n",
       "      <td>Comércio</td>\n",
       "      <td>Eletrodomésticos</td>\n",
       "      <td>www.viavarejo.com.br/ri</td>\n",
       "      <td>https://sistemaswebb3-listados.b3.com.br/liste...</td>\n",
       "    </tr>\n",
       "    <tr>\n",
       "      <th>1665</th>\n",
       "      <td>VIBRA ENERGIA S.A.</td>\n",
       "      <td>VIBRA</td>\n",
       "      <td>NM</td>\n",
       "      <td>VBBR</td>\n",
       "      <td>34.274.233/0001-02</td>\n",
       "      <td>24295</td>\n",
       "      <td>VBBR3</td>\n",
       "      <td>Distribuição e venda de álcool carburante. bio...</td>\n",
       "      <td>Petróleo. Gás e Biocombustíveis</td>\n",
       "      <td>Petróleo. Gás e Biocombustíveis</td>\n",
       "      <td>Exploração. Refino e Distribuição</td>\n",
       "      <td>www.br.com.br</td>\n",
       "      <td>https://sistemaswebb3-listados.b3.com.br/liste...</td>\n",
       "    </tr>\n",
       "    <tr>\n",
       "      <th>1697</th>\n",
       "      <td>WEG S.A.</td>\n",
       "      <td>WEG</td>\n",
       "      <td>NM</td>\n",
       "      <td>WEGE</td>\n",
       "      <td>84.429.695/0001-11</td>\n",
       "      <td>5410</td>\n",
       "      <td>WEGE3</td>\n",
       "      <td>A WEG SA é uma sociedade de participação não o...</td>\n",
       "      <td>Bens Industriais</td>\n",
       "      <td>Máquinas e Equipamentos</td>\n",
       "      <td>Motores . Compressores e Outros</td>\n",
       "      <td>www.weg.net/br</td>\n",
       "      <td>https://sistemaswebb3-listados.b3.com.br/liste...</td>\n",
       "    </tr>\n",
       "    <tr>\n",
       "      <th>1714</th>\n",
       "      <td>YDUQS PARTICIPACOES S.A.</td>\n",
       "      <td>YDUQS PART</td>\n",
       "      <td>NM</td>\n",
       "      <td>YDUQ</td>\n",
       "      <td>08.807.432/0001-10</td>\n",
       "      <td>21016</td>\n",
       "      <td>YDUQ3</td>\n",
       "      <td>Desenvolve principalmente nas áreas de educaçã...</td>\n",
       "      <td>Consumo Cíclico</td>\n",
       "      <td>Diversos</td>\n",
       "      <td>Serviços Educacionais</td>\n",
       "      <td>www.estacioparticipacoes.com.br</td>\n",
       "      <td>https://sistemaswebb3-listados.b3.com.br/liste...</td>\n",
       "    </tr>\n",
       "  </tbody>\n",
       "</table>\n",
       "<p>77 rows × 13 columns</p>\n",
       "</div>"
      ],
      "text/plain": [
       "                     razao_social   nome_pregao segmento cod_b3  \\\n",
       "0     3R PETROLEUM ÓLEO E GÁS S.A  3R PETROLEUM       NM   RRRP   \n",
       "68                     AMBEV S.A.     AMBEV S/A            ABEV   \n",
       "72                 AMERICANAS S.A    AMERICANAS       NM   AMER   \n",
       "98                  ATACADÃO S.A.  CARREFOUR BR       NM   CRFB   \n",
       "122                     AZUL S.A.          AZUL       N2   AZUL   \n",
       "...                           ...           ...      ...    ...   \n",
       "1631                  VALEPAR S/A       VALEPAR            VLPR   \n",
       "1663                      VIA S.A           VIA       NM   VIIA   \n",
       "1665           VIBRA ENERGIA S.A.         VIBRA       NM   VBBR   \n",
       "1697                     WEG S.A.           WEG       NM   WEGE   \n",
       "1714     YDUQS PARTICIPACOES S.A.    YDUQS PART       NM   YDUQ   \n",
       "\n",
       "                    cnpj cod_cvm cod_negociacao  \\\n",
       "0     12.091.809/0001-55   25291          RRRP3   \n",
       "68    07.526.557/0001-00   23264          ABEV3   \n",
       "72    00.776.574/0001-56   20990          AMER3   \n",
       "98    75.315.333/0001-09   24171          CRFB3   \n",
       "122   09.305.994/0001-29   24112          AZUL4   \n",
       "...                  ...     ...            ...   \n",
       "1631  33.592.510/0001-54    4170          VALE3   \n",
       "1663  33.041.260/0652-90    6505          VIIA3   \n",
       "1665  34.274.233/0001-02   24295          VBBR3   \n",
       "1697  84.429.695/0001-11    5410          WEGE3   \n",
       "1714  08.807.432/0001-10   21016          YDUQ3   \n",
       "\n",
       "                                    atividade_principal  \\\n",
       "0      Exploração e produção de petróleo e gás natural.   \n",
       "68    Fabricação e distribuição de cervejas. refrige...   \n",
       "72    Comércio varejista e atacadista em geral de qu...   \n",
       "98    Comércio varejista e atacadista de mercadorias...   \n",
       "122                              Transporte e Logística   \n",
       "...                                                 ...   \n",
       "1631                                          Mineração   \n",
       "1663                                                      \n",
       "1665  Distribuição e venda de álcool carburante. bio...   \n",
       "1697  A WEG SA é uma sociedade de participação não o...   \n",
       "1714  Desenvolve principalmente nas áreas de educaçã...   \n",
       "\n",
       "                      setor_economico               subsetor_economico  \\\n",
       "0     Petróleo. Gás e Biocombustíveis  Petróleo. Gás e Biocombustíveis   \n",
       "68                Consumo não Cíclico                          Bebidas   \n",
       "72                    Consumo Cíclico                         Comércio   \n",
       "98                Consumo não Cíclico          Comércio e Distribuição   \n",
       "122                  Bens Industriais                       Transporte   \n",
       "...                               ...                              ...   \n",
       "1631                Materiais Básicos                        Mineração   \n",
       "1663                  Consumo Cíclico                         Comércio   \n",
       "1665  Petróleo. Gás e Biocombustíveis  Petróleo. Gás e Biocombustíveis   \n",
       "1697                 Bens Industriais          Máquinas e Equipamentos   \n",
       "1714                  Consumo Cíclico                         Diversos   \n",
       "\n",
       "                     segmento_economico                             site  \\\n",
       "0     Exploração. Refino e Distribuição                                    \n",
       "68             Cervejas e Refrigerantes           http://ri.ambev.com.br   \n",
       "72                    Produtos Diversos        http://www.b2wdigital.com   \n",
       "98                            Alimentos  www.grupocarrefourbrasil.com.br   \n",
       "122                    Transporte Aéreo               www.voeazul.com.br   \n",
       "...                                 ...                              ...   \n",
       "1631                 Minerais Metálicos                                    \n",
       "1663                   Eletrodomésticos          www.viavarejo.com.br/ri   \n",
       "1665  Exploração. Refino e Distribuição                    www.br.com.br   \n",
       "1697    Motores . Compressores e Outros                   www.weg.net/br   \n",
       "1714              Serviços Educacionais  www.estacioparticipacoes.com.br   \n",
       "\n",
       "                                              url_fonte  \n",
       "0     https://sistemaswebb3-listados.b3.com.br/liste...  \n",
       "68    https://sistemaswebb3-listados.b3.com.br/liste...  \n",
       "72    https://sistemaswebb3-listados.b3.com.br/liste...  \n",
       "98    https://sistemaswebb3-listados.b3.com.br/liste...  \n",
       "122   https://sistemaswebb3-listados.b3.com.br/liste...  \n",
       "...                                                 ...  \n",
       "1631  https://sistemaswebb3-listados.b3.com.br/liste...  \n",
       "1663  https://sistemaswebb3-listados.b3.com.br/liste...  \n",
       "1665  https://sistemaswebb3-listados.b3.com.br/liste...  \n",
       "1697  https://sistemaswebb3-listados.b3.com.br/liste...  \n",
       "1714  https://sistemaswebb3-listados.b3.com.br/liste...  \n",
       "\n",
       "[77 rows x 13 columns]"
      ]
     },
     "execution_count": 38,
     "metadata": {},
     "output_type": "execute_result"
    }
   ],
   "source": [
    "ibov"
   ]
  },
  {
   "cell_type": "code",
   "execution_count": 39,
   "metadata": {},
   "outputs": [
    {
     "data": {
      "text/plain": [
       "Consumo Cíclico                    15\n",
       "Utilidade Pública                  12\n",
       "Consumo não Cíclico                 9\n",
       "Financeiro                          9\n",
       "Saúde                               8\n",
       "Petróleo. Gás e Biocombustíveis     7\n",
       "Bens Industriais                    6\n",
       "Materiais Básicos                   6\n",
       "Tecnologia da Informação            4\n",
       "Comunicações                        1\n",
       "Name: setor_economico, dtype: int64"
      ]
     },
     "execution_count": 39,
     "metadata": {},
     "output_type": "execute_result"
    }
   ],
   "source": [
    "ibov['setor_economico'].value_counts()"
   ]
  },
  {
   "cell_type": "code",
   "execution_count": 42,
   "metadata": {},
   "outputs": [],
   "source": [
    "x = df[df['cod_cvm']!='']"
   ]
  },
  {
   "cell_type": "code",
   "execution_count": 43,
   "metadata": {},
   "outputs": [
    {
     "data": {
      "text/plain": [
       "(446, 13)"
      ]
     },
     "execution_count": 43,
     "metadata": {},
     "output_type": "execute_result"
    }
   ],
   "source": [
    "x.shape"
   ]
  },
  {
   "cell_type": "code",
   "execution_count": 44,
   "metadata": {},
   "outputs": [],
   "source": [
    "x.to_csv('teste.csv', index=False)"
   ]
  },
  {
   "cell_type": "code",
   "execution_count": 45,
   "metadata": {},
   "outputs": [
    {
     "data": {
      "text/plain": [
       "Consumo Cíclico                    96\n",
       "Financeiro                         84\n",
       "Bens Industriais                   65\n",
       "Utilidade Pública                  58\n",
       "Materiais Básicos                  33\n",
       "Consumo não Cíclico                30\n",
       "Saúde                              26\n",
       "Tecnologia da Informação           19\n",
       "Outros                             14\n",
       "Petróleo. Gás e Biocombustíveis    13\n",
       "Comunicações                        8\n",
       "Name: setor_economico, dtype: int64"
      ]
     },
     "execution_count": 45,
     "metadata": {},
     "output_type": "execute_result"
    }
   ],
   "source": [
    "x['setor_economico'].value_counts()"
   ]
  },
  {
   "cell_type": "code",
   "execution_count": 46,
   "metadata": {},
   "outputs": [],
   "source": [
    "df.to_csv('teste2.csv', index=False)"
   ]
  },
  {
   "cell_type": "code",
   "execution_count": 47,
   "metadata": {},
   "outputs": [
    {
     "name": "stderr",
     "output_type": "stream",
     "text": [
      "C:\\Users\\UFT\\AppData\\Local\\Temp\\ipykernel_4956\\446415474.py:15: DeprecationWarning: executable_path has been deprecated, please pass in a Service object\n",
      "  driver = webdriver.Firefox(executable_path='geckodriver.exe', options=options)\n"
     ]
    }
   ],
   "source": [
    "# Bibliotecas importadas\n",
    "from datetime import datetime\n",
    "from time import sleep\n",
    "import pandas as pd\n",
    "import requests\n",
    "import random\n",
    "import sqlite3\n",
    "from bs4 import BeautifulSoup\n",
    "from selenium import webdriver\n",
    "from selenium.webdriver.common.by import By\n",
    "from selenium.webdriver.common.keys import Keys\n",
    "from selenium.webdriver.firefox.options import Options\n",
    "options = Options()\n",
    "options.binary_location = r'C:\\Program Files (x86)\\Mozilla Firefox\\firefox.exe'\n",
    "driver = webdriver.Firefox(executable_path='geckodriver.exe', options=options)"
   ]
  },
  {
   "cell_type": "code",
   "execution_count": 48,
   "metadata": {},
   "outputs": [],
   "source": [
    "driver.get('https://www.b3.com.br/pt_br/produtos-e-servicos/negociacao/renda-variavel/empresas-listadas.htm')"
   ]
  },
  {
   "cell_type": "code",
   "execution_count": 58,
   "metadata": {},
   "outputs": [],
   "source": [
    "df = pd.read_html('https://bvmf.bmfbovespa.com.br/CapitalSocial/')[0]"
   ]
  },
  {
   "cell_type": "code",
   "execution_count": 59,
   "metadata": {},
   "outputs": [
    {
     "data": {
      "text/html": [
       "<div>\n",
       "<style scoped>\n",
       "    .dataframe tbody tr th:only-of-type {\n",
       "        vertical-align: middle;\n",
       "    }\n",
       "\n",
       "    .dataframe tbody tr th {\n",
       "        vertical-align: top;\n",
       "    }\n",
       "\n",
       "    .dataframe thead th {\n",
       "        text-align: right;\n",
       "    }\n",
       "</style>\n",
       "<table border=\"1\" class=\"dataframe\">\n",
       "  <thead>\n",
       "    <tr style=\"text-align: right;\">\n",
       "      <th></th>\n",
       "      <th>Nome do Pregão</th>\n",
       "      <th>Código</th>\n",
       "      <th>Denominação Social</th>\n",
       "      <th>Segmento de Mercado</th>\n",
       "      <th>Tipo de Capital</th>\n",
       "      <th>Capital R$</th>\n",
       "      <th>Aprovado em</th>\n",
       "      <th>Qtde Ações Ordinárias</th>\n",
       "      <th>Qtde Ações Preferenciais</th>\n",
       "      <th>Qtde Total de Ações</th>\n",
       "    </tr>\n",
       "  </thead>\n",
       "  <tbody>\n",
       "    <tr>\n",
       "      <th>0</th>\n",
       "      <td>3R PETROLEUM</td>\n",
       "      <td>RRRP</td>\n",
       "      <td>3R PETROLEUM ÓLEO E GÁS S.A</td>\n",
       "      <td>NOVO MERCADO</td>\n",
       "      <td>Homologado</td>\n",
       "      <td>4.146.616.377,02</td>\n",
       "      <td>10/11/2021</td>\n",
       "      <td>202.593.078</td>\n",
       "      <td>0</td>\n",
       "      <td>202.593.078</td>\n",
       "    </tr>\n",
       "    <tr>\n",
       "      <th>1</th>\n",
       "      <td>3TENTOS</td>\n",
       "      <td>TTEN</td>\n",
       "      <td>TRÊS TENTOS AGROINDUSTRIAL S/A</td>\n",
       "      <td>NOVO MERCADO</td>\n",
       "      <td>Homologado</td>\n",
       "      <td>1.557.741.175,75</td>\n",
       "      <td>31/01/2022</td>\n",
       "      <td>494.617.647</td>\n",
       "      <td>0</td>\n",
       "      <td>494.617.647</td>\n",
       "    </tr>\n",
       "    <tr>\n",
       "      <th>2</th>\n",
       "      <td>524 PARTICIP</td>\n",
       "      <td>QVQP</td>\n",
       "      <td>524 PARTICIPACOES S.A.</td>\n",
       "      <td>SOMA</td>\n",
       "      <td>Homologado</td>\n",
       "      <td>895.904,66</td>\n",
       "      <td>30/04/2021</td>\n",
       "      <td>446.808.503</td>\n",
       "      <td>0</td>\n",
       "      <td>446.808.503</td>\n",
       "    </tr>\n",
       "    <tr>\n",
       "      <th>3</th>\n",
       "      <td>ABC BRASIL</td>\n",
       "      <td>ABCB</td>\n",
       "      <td>BCO ABC BRASIL S.A.</td>\n",
       "      <td>BOVESPA NIVEL 2</td>\n",
       "      <td>Homologado</td>\n",
       "      <td>4.315.017.448,93</td>\n",
       "      <td>30/12/2021</td>\n",
       "      <td>113.445.475</td>\n",
       "      <td>112.644.643</td>\n",
       "      <td>226.090.118</td>\n",
       "    </tr>\n",
       "    <tr>\n",
       "      <th>4</th>\n",
       "      <td>ACO ALTONA</td>\n",
       "      <td>EALT</td>\n",
       "      <td>ELECTRO ACO ALTONA S.A.</td>\n",
       "      <td>BOLSA</td>\n",
       "      <td>Homologado</td>\n",
       "      <td>57.184.079,84</td>\n",
       "      <td>29/04/2021</td>\n",
       "      <td>9.750.000</td>\n",
       "      <td>12.750.000</td>\n",
       "      <td>22.500.000</td>\n",
       "    </tr>\n",
       "  </tbody>\n",
       "</table>\n",
       "</div>"
      ],
      "text/plain": [
       "  Nome do Pregão Código              Denominação Social Segmento de Mercado  \\\n",
       "0   3R PETROLEUM   RRRP     3R PETROLEUM ÓLEO E GÁS S.A        NOVO MERCADO   \n",
       "1        3TENTOS   TTEN  TRÊS TENTOS AGROINDUSTRIAL S/A        NOVO MERCADO   \n",
       "2   524 PARTICIP   QVQP          524 PARTICIPACOES S.A.                SOMA   \n",
       "3     ABC BRASIL   ABCB             BCO ABC BRASIL S.A.     BOVESPA NIVEL 2   \n",
       "4     ACO ALTONA   EALT         ELECTRO ACO ALTONA S.A.               BOLSA   \n",
       "\n",
       "  Tipo de Capital        Capital R$ Aprovado em Qtde Ações Ordinárias  \\\n",
       "0      Homologado  4.146.616.377,02  10/11/2021           202.593.078   \n",
       "1      Homologado  1.557.741.175,75  31/01/2022           494.617.647   \n",
       "2      Homologado        895.904,66  30/04/2021           446.808.503   \n",
       "3      Homologado  4.315.017.448,93  30/12/2021           113.445.475   \n",
       "4      Homologado     57.184.079,84  29/04/2021             9.750.000   \n",
       "\n",
       "  Qtde Ações Preferenciais Qtde Total de Ações  \n",
       "0                        0         202.593.078  \n",
       "1                        0         494.617.647  \n",
       "2                        0         446.808.503  \n",
       "3              112.644.643         226.090.118  \n",
       "4               12.750.000          22.500.000  "
      ]
     },
     "execution_count": 59,
     "metadata": {},
     "output_type": "execute_result"
    }
   ],
   "source": [
    "df.head()"
   ]
  },
  {
   "cell_type": "code",
   "execution_count": 60,
   "metadata": {},
   "outputs": [
    {
     "data": {
      "text/plain": [
       "(540, 10)"
      ]
     },
     "execution_count": 60,
     "metadata": {},
     "output_type": "execute_result"
    }
   ],
   "source": [
    "df.shape"
   ]
  },
  {
   "cell_type": "code",
   "execution_count": 62,
   "metadata": {},
   "outputs": [
    {
     "data": {
      "text/plain": [
       "{'Nome do Pregão': '3R PETROLEUM',\n",
       " 'Código': 'RRRP',\n",
       " 'Denominação Social': '3R PETROLEUM ÓLEO E GÁS S.A',\n",
       " 'Segmento de Mercado': 'NOVO MERCADO',\n",
       " 'Tipo de Capital': 'Homologado',\n",
       " 'Capital R$': '4.146.616.377,02',\n",
       " 'Aprovado em': '10/11/2021',\n",
       " 'Qtde Ações Ordinárias': '202.593.078',\n",
       " 'Qtde Ações Preferenciais': '0',\n",
       " 'Qtde Total de Ações': '202.593.078'}"
      ]
     },
     "execution_count": 62,
     "metadata": {},
     "output_type": "execute_result"
    }
   ],
   "source": [
    "dict(df.iloc[0])"
   ]
  },
  {
   "cell_type": "code",
   "execution_count": 64,
   "metadata": {},
   "outputs": [],
   "source": [
    "empresas_b3 = df['Denominação Social'].to_list()"
   ]
  },
  {
   "cell_type": "code",
   "execution_count": null,
   "metadata": {},
   "outputs": [],
   "source": []
  }
 ],
 "metadata": {
  "kernelspec": {
   "display_name": "ds38",
   "language": "python",
   "name": "ds38"
  },
  "language_info": {
   "codemirror_mode": {
    "name": "ipython",
    "version": 3
   },
   "file_extension": ".py",
   "mimetype": "text/x-python",
   "name": "python",
   "nbconvert_exporter": "python",
   "pygments_lexer": "ipython3",
   "version": "3.8.12"
  }
 },
 "nbformat": 4,
 "nbformat_minor": 5
}
