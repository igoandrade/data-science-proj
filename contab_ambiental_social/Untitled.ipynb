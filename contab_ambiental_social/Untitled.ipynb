{
 "cells": [
  {
   "cell_type": "markdown",
   "id": "22961bc2-ebc7-4c0a-80be-99bcc8d22629",
   "metadata": {},
   "source": [
    "# Revista de Informação Contábil – RIC"
   ]
  },
  {
   "cell_type": "code",
   "execution_count": 2,
   "id": "ba67f5f6-c5c4-4272-b810-5b556f3689ba",
   "metadata": {},
   "outputs": [
    {
     "name": "stderr",
     "output_type": "stream",
     "text": [
      "[nltk_data] Downloading package stopwords to\n",
      "[nltk_data]     C:\\Users\\igoan\\AppData\\Roaming\\nltk_data...\n",
      "[nltk_data]   Package stopwords is already up-to-date!\n"
     ]
    }
   ],
   "source": [
    "import requests\n",
    "from bs4 import BeautifulSoup\n",
    "\n",
    "import matplotlib.pyplot as plt\n",
    "import seaborn as sns\n",
    "import pandas as pd\n",
    "\n",
    "from wordcloud import WordCloud, STOPWORDS\n",
    "import nltk\n",
    "nltk.download('stopwords')\n",
    "from nltk.corpus import stopwords"
   ]
  },
  {
   "cell_type": "code",
   "execution_count": 3,
   "id": "889f0143-346f-4ba0-8e2e-71efb839666a",
   "metadata": {},
   "outputs": [],
   "source": [
    "plt.style.use('seaborn')"
   ]
  },
  {
   "cell_type": "code",
   "execution_count": 1,
   "id": "e7fb9b0d-373f-4ee3-bdf6-1959bfa82a28",
   "metadata": {},
   "outputs": [],
   "source": []
  },
  {
   "cell_type": "code",
   "execution_count": 4,
   "id": "af360c9e-5920-4514-829b-a4f5ed251d72",
   "metadata": {},
   "outputs": [],
   "source": [
    "def criar_query(key_word):\n",
    "    return \"+\".join(key_word.split())"
   ]
  },
  {
   "cell_type": "code",
   "execution_count": 5,
   "id": "81bacf4f-263b-4307-8d07-e75f979d885d",
   "metadata": {},
   "outputs": [
    {
     "name": "stdout",
     "output_type": "stream",
     "text": [
      "contabilidade+ambiental\n",
      "balanço+social\n"
     ]
    }
   ],
   "source": [
    "for key_word in key_words_list:\n",
    "    print(criar_query(key_word))"
   ]
  },
  {
   "cell_type": "code",
   "execution_count": 19,
   "id": "c3e6c365-b771-4dcb-9bb7-0d315736135b",
   "metadata": {},
   "outputs": [],
   "source": [
    "def listar_links_pagina(query, pg_num=1):\n",
    "    url_search = f\"https://periodicos.ufpe.br/revistas/ricontabeis/search/search?query={query}&searchJournal=37&authors=&title=&abstract=&galleyFullText=&suppFiles=&discipline=&subject=&type=&coverage=&indexTerms=&dateFromMonth=01&dateFromDay=1&dateFromYear=2012&dateToMonth=12&dateToDay=31&dateToYear=2021&orderBy=&orderDir=&searchPage={pg_num}#results\"\n",
    "    page = requests.get(url_search)\n",
    "    soup = BeautifulSoup(page.content, 'html.parser')\n",
    "    tbl_results = soup.find('table', {'class': 'listing'})\n",
    "    a_links = []\n",
    "    for a in tbl_results.find_all('a'):\n",
    "           if 'Resumo' in a.text:\n",
    "                a_links.append(a['href'])\n",
    "    return a_links"
   ]
  },
  {
   "cell_type": "code",
   "execution_count": 28,
   "id": "bf2f4780-3032-4a5c-a207-05b848793da4",
   "metadata": {},
   "outputs": [],
   "source": [
    "def listar_links(query):\n",
    "    pg_num = 1\n",
    "    a_links = [] \n",
    "    while True:\n",
    "        tmp = listar_links_pagina(query, pg_num)\n",
    "        if len(tmp) != 0:\n",
    "            pg_num += 1\n",
    "            a_links += tmp\n",
    "        else:\n",
    "            break\n",
    "    return a_links"
   ]
  },
  {
   "cell_type": "code",
   "execution_count": 35,
   "id": "c3c50010-5fe2-4bf2-83bd-1f941f135169",
   "metadata": {},
   "outputs": [],
   "source": [
    "def realiza_consulta(key_words_list):\n",
    "    a_links = []\n",
    "    for key_word in key_words_list:\n",
    "        query = criar_query(key_word)\n",
    "        a_links += listar_links(query)\n",
    "    return a_links"
   ]
  },
  {
   "cell_type": "code",
   "execution_count": 36,
   "id": "faef45b5-e449-492d-a6f6-f8cb4d197558",
   "metadata": {},
   "outputs": [
    {
     "data": {
      "text/plain": [
       "['https://periodicos.ufpe.br/revistas/ricontabeis/article/view/239961',\n",
       " 'https://periodicos.ufpe.br/revistas/ricontabeis/article/view/234958',\n",
       " 'https://periodicos.ufpe.br/revistas/ricontabeis/article/view/240668',\n",
       " 'https://periodicos.ufpe.br/revistas/ricontabeis/article/view/7948',\n",
       " 'https://periodicos.ufpe.br/revistas/ricontabeis/article/view/22602',\n",
       " 'https://periodicos.ufpe.br/revistas/ricontabeis/article/view/7967',\n",
       " 'https://periodicos.ufpe.br/revistas/ricontabeis/article/view/13371',\n",
       " 'https://periodicos.ufpe.br/revistas/ricontabeis/article/view/13337',\n",
       " 'https://periodicos.ufpe.br/revistas/ricontabeis/article/view/13356',\n",
       " 'https://periodicos.ufpe.br/revistas/ricontabeis/article/view/248711',\n",
       " 'https://periodicos.ufpe.br/revistas/ricontabeis/article/view/13342',\n",
       " 'https://periodicos.ufpe.br/revistas/ricontabeis/article/view/7948',\n",
       " 'https://periodicos.ufpe.br/revistas/ricontabeis/article/view/230529']"
      ]
     },
     "execution_count": 36,
     "metadata": {},
     "output_type": "execute_result"
    }
   ],
   "source": [
    "key_words_list = ['contabilidade ambiental', 'balanço social']\n",
    "links_artigos = realiza_consulta(key_words_list)\n",
    "links_artigos"
   ]
  },
  {
   "cell_type": "code",
   "execution_count": 47,
   "id": "a5d2ebe6-0061-49bb-b5d9-fb22b9c3626d",
   "metadata": {},
   "outputs": [],
   "source": [
    "link_artigo = links_artigos[0]\n",
    "page = requests.get(link_artigo)\n",
    "soup = BeautifulSoup(page.content, 'html.parser')"
   ]
  },
  {
   "cell_type": "code",
   "execution_count": 59,
   "id": "649ccd42-4df5-4b9a-ba98-3747b46b1e80",
   "metadata": {},
   "outputs": [],
   "source": [
    "def captura_titulo(soup):\n",
    "    title_tag = soup.find('div', {'id': 'articleTitle'})\n",
    "    title = title_tag.find('h3').text\n",
    "    return {'título': title}"
   ]
  },
  {
   "cell_type": "code",
   "execution_count": 60,
   "id": "2321afe7-bf84-4846-a721-1b5e61bf1492",
   "metadata": {},
   "outputs": [],
   "source": [
    "def captura_ano(soup):\n",
    "    year_tags = soup.find('div', {'id': 'breadcrumb'})\n",
    "    year_tag = year_tags.find_all('a')\n",
    "    year_text = year_tag[1].text\n",
    "    year = year_text[-5:-1]\n",
    "    return {'ano': year}"
   ]
  },
  {
   "cell_type": "code",
   "execution_count": 61,
   "id": "04d9e742-cfa4-48a0-9346-12594290daf6",
   "metadata": {},
   "outputs": [],
   "source": [
    "def captura_resumo(soup):\n",
    "    abstract_tag = soup.find('div', {'id': 'articleAbstract'})\n",
    "    abstract = abstract_tag.find('div').text\n",
    "    return {'resumo': abstract}"
   ]
  },
  {
   "cell_type": "code",
   "execution_count": 62,
   "id": "fc889410-4a19-412d-8c23-54100757739f",
   "metadata": {},
   "outputs": [],
   "source": [
    "def captura_palavras_chave(soup):\n",
    "    kw_tag = soup.find('div', {'id': 'articleSubject'})\n",
    "    kw = kw_tag.find('div').text.replace(',', '.').replace(';', '.')\n",
    "    return {'palavras-chave': kw}"
   ]
  },
  {
   "cell_type": "code",
   "execution_count": 122,
   "id": "b1c772ee-4f28-455f-9055-3944acb50180",
   "metadata": {},
   "outputs": [],
   "source": [
    "def captura_autores(soup):\n",
    "    authors_tag = soup.find_all('div', {'class': 'authorBio'})\n",
    "    autores = []\n",
    "    affiliation_list = []\n",
    "    for p in authors_tag:\n",
    "        autor = p.find('em').text\n",
    "        autores.append(autor)\n",
    "        affiliation = p.find_all('br')[-2].next_sibling\n",
    "        affiliation = affiliation.replace('\\t', '')\n",
    "        affiliation_list.append(affiliation)\n",
    "\n",
    "    affiliation_list = completar_lista(affiliation_list)\n",
    "    key_affiliation = [f\"afilicao{i}\" for i in range(1, 7)]\n",
    "    autores = completar_lista(autores)\n",
    "    key_autores = [f\"autor{i}\" for i in range(1, 7)]\n",
    "\n",
    "    return [dict(zip(key_autores, autores)), dict(zip(key_affiliation, affiliation_list))]"
   ]
  },
  {
   "cell_type": "code",
   "execution_count": 119,
   "id": "3a6de5cb-0938-4150-8acc-9c32b26efb49",
   "metadata": {},
   "outputs": [],
   "source": [
    "def completar_lista(lista):\n",
    "    if len(lista) < 6:\n",
    "        lista += (6 - len(lista)) * ['']\n",
    "    return lista"
   ]
  },
  {
   "cell_type": "code",
   "execution_count": 123,
   "id": "c9dd834c-5690-4d4c-8953-4dad40e1b87d",
   "metadata": {},
   "outputs": [
    {
     "data": {
      "text/plain": [
       "[{'autor1': 'Arthur Frederico Lerner',\n",
       "  'autor2': 'Vanessa Noguez Machado',\n",
       "  'autor3': 'Romina Batista de Lucena de Souza',\n",
       "  'autor4': '',\n",
       "  'autor5': '',\n",
       "  'autor6': ''},\n",
       " {'afilicao1': 'Universidade Federal do Rio Grande do Sul (UFRGS)',\n",
       "  'afilicao2': 'Universidade Federal do Rio Grande do Sul (UFRGS)',\n",
       "  'afilicao3': 'Universidade Federal do Rio Grande do Sul (UFRGS)',\n",
       "  'afilicao4': '',\n",
       "  'afilicao5': '',\n",
       "  'afilicao6': ''}]"
      ]
     },
     "execution_count": 123,
     "metadata": {},
     "output_type": "execute_result"
    }
   ],
   "source": [
    "captura_autores(soup)"
   ]
  },
  {
   "cell_type": "code",
   "execution_count": null,
   "id": "f2f2eeba-b1bc-43f3-87d6-e0ee98fb5026",
   "metadata": {},
   "outputs": [],
   "source": []
  }
 ],
 "metadata": {
  "kernelspec": {
   "display_name": "venv",
   "language": "python",
   "name": "venv"
  },
  "language_info": {
   "codemirror_mode": {
    "name": "ipython",
    "version": 3
   },
   "file_extension": ".py",
   "mimetype": "text/x-python",
   "name": "python",
   "nbconvert_exporter": "python",
   "pygments_lexer": "ipython3",
   "version": "3.10.0"
  }
 },
 "nbformat": 4,
 "nbformat_minor": 5
}
